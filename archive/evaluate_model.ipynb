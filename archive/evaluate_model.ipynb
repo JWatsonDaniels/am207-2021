{
 "cells": [
  {
   "cell_type": "markdown",
   "metadata": {},
   "source": [
    "## Selective Classification Can Magnify Disparities Across Groups\n",
    "\n",
    "\n",
    "### AM207: Advanced Scientific Computing\n",
    "\n",
    "#### Team: Jamelle Watson-Daniels, Shirley Wang, Bridger Ruyle, Paul Tembo\n",
    "\n",
    "#### Paper: https://arxiv.org/pdf/2010.14134.pdfODOS: \n",
    "\n",
    "Minimal goal: Investigate how selective classification affects group accuracy on the `CelebA` dataset\n",
    "- Generate synthetic dataset from `mnist`\n",
    "- Train empirical risk minimization model (minimize loss - Logistic regression i.e. ResNet)    \n",
    "- Calculate average coverage\n",
    "- Calculate group coverage\n",
    "- Calculate selective accuracy\n",
    "- Plot average coverage vs group coverage for `CelebA` dataset\n",
    "- Plot average coverage vs selective accuracy for `CelebA` dataset\n",
    "\n",
    "If there is time goal: Show that selective accuracies on average and on the worst-group are determined by their respective margin distributions\n",
    "- Calculate margin\n",
    "- Calculate worst-group density\n",
    "- Calculate Average density\n",
    "- Plot margin (-10,+10) versus worst-group density\n",
    "- Plot margin (-10,+10) versus Average density\n",
    "\n",
    "Possible extensions: What are the characteristics of this dataset that are imbalanced and contain spurious correlations? We see that in all these datasets, the \"worst group\" is underrepresented as in there are much fewer examples for the \"worst group\" category. Notice that the datasets considered in this paper do not seem immediately relevant in terms of the real world implications of disparities, we wonder how we might examine this using toy examples."
   ]
  },
  {
   "cell_type": "markdown",
   "metadata": {},
   "source": [
    "#### Dataset description\n",
    "\"Models have been shown to latch onto spurious correlations between labels and demographic attributes such as race and gender (Buolamwini & Gebru, 2018; Joshi et al., 2018), and we\n",
    "study this on the CelebA dataset (Liu et al., 2015). Following Sagawa et al. (2020), we consider\n",
    "the task of classifying hair color, which is spuriously correlated with the gender. Concretely, inputs\n",
    "are celebrity face images, labels are hair color Y = {blond, non-blond}, and spurious attributes are\n",
    "gender, A = {male, female}, with blondness associated with being female. Of the four groups,\n",
    "blond males are the smallest group, with only 1,387 examples out of 162,770 training examples, and\n",
    "they tend to be the worst group empirically. We use the official train-val-split of the dataset.\""
   ]
  },
  {
   "cell_type": "code",
   "execution_count": 34,
   "metadata": {},
   "outputs": [],
   "source": [
    "import numpy as np\n",
    "import matplotlib.pyplot as plt"
   ]
  },
  {
   "cell_type": "code",
   "execution_count": 41,
   "metadata": {},
   "outputs": [],
   "source": [
    "resnet_9_logits = np.genfromtxt('prediction/RESNET_predict_9.csv', delimiter = ',')\n",
    "y_test = np.genfromtxt('data/y_test.csv', delimiter = ',')\n",
    "altered_labels_9 = np.genfromtxt('data/altereted_index_test_9.csv', delimiter = ',')"
   ]
  },
  {
   "cell_type": "code",
   "execution_count": 134,
   "metadata": {},
   "outputs": [],
   "source": [
    "def confidence(logit, actual_class):\n",
    "    predicted_class = np.argmax(logit, axis = 1)\n",
    "    c_hat = [0.5 * np.log10(l[pc] / (1 - l[pc])) for l, pc in zip(logit, predicted_class)]\n",
    "    c_hat = [c if c != np.inf else 3 for c in c_hat] ##need to fix this!\n",
    "    c_hat = [c if pc == ac else -c for c, pc, ac in zip(c_hat, predicted_class, actual_class)]\n",
    "    return(c_hat)\n",
    "\n",
    "def dropout(confidence, tau):\n",
    "    return(confidence[np.abs(confidence) > tau])\n",
    "\n",
    "def coverage(confidence, tau):\n",
    "    dropped_out = dropout(confidence, tau)\n",
    "    return(len(dropped_out) / len(confidence))\n",
    "\n",
    "def accuracy(confidence, tau):\n",
    "    dropped_out = dropout(confidence, tau)\n",
    "    return(np.sum(dropped_out > 0) / len(dropped_out))"
   ]
  },
  {
   "cell_type": "code",
   "execution_count": 135,
   "metadata": {},
   "outputs": [
    {
     "name": "stderr",
     "output_type": "stream",
     "text": [
      "/Users/bjr/opt/anaconda3/lib/python3.7/site-packages/ipykernel_launcher.py:3: RuntimeWarning: divide by zero encountered in double_scalars\n",
      "  This is separate from the ipykernel package so we can avoid doing imports until\n"
     ]
    }
   ],
   "source": [
    "confidence_resnet_9 = confidence(resnet_9_logits, y_test)"
   ]
  },
  {
   "cell_type": "code",
   "execution_count": 136,
   "metadata": {},
   "outputs": [],
   "source": [
    "worst_group = (y_test == 0) & (altered_labels_9 == 0) #the \"worst\" group is 2s (y label 0) without spurious feature (altered label 0)"
   ]
  },
  {
   "cell_type": "code",
   "execution_count": 137,
   "metadata": {},
   "outputs": [
    {
     "data": {
      "image/png": "[encoded data removed]",
      "text/plain": [
       "<Figure size 432x288 with 1 Axes>"
      ]
     },
     "metadata": {
      "needs_background": "light"
     },
     "output_type": "display_data"
    }
   ],
   "source": [
    "plt.hist(confidence_resnet_9, label = 'full dataset')\n",
    "plt.hist(np.array(confidence_resnet_9)[worst_group], label = 'worst group')\n",
    "plt.legend();"
   ]
  },
  {
   "cell_type": "code",
   "execution_count": 138,
   "metadata": {},
   "outputs": [
    {
     "name": "stderr",
     "output_type": "stream",
     "text": [
      "/Users/bjr/opt/anaconda3/lib/python3.7/site-packages/ipykernel_launcher.py:17: RuntimeWarning: invalid value encountered in long_scalars\n"
     ]
    }
   ],
   "source": [
    "tau = np.linspace(0, 4, 100)\n",
    "full_coverage = [coverage(np.array(confidence_resnet_9), t) for t in tau]\n",
    "full_accuracy = [accuracy(np.array(confidence_resnet_9), t) for t in tau]\n",
    "worst_coverage = [coverage(np.array(confidence_resnet_9)[worst_group], t) for t in tau]\n",
    "worst_accuracy = [accuracy(np.array(confidence_resnet_9)[worst_group], t) for t in tau]"
   ]
  },
  {
   "cell_type": "code",
   "execution_count": 142,
   "metadata": {},
   "outputs": [
    {
     "data": {
      "image/png": "[encoded data removed]",
      "text/plain": [
       "<Figure size 432x288 with 1 Axes>"
      ]
     },
     "metadata": {
      "needs_background": "light"
     },
     "output_type": "display_data"
    }
   ],
   "source": [
    "fig, ax = plt.subplots()\n",
    "ax.plot(full_coverage, full_accuracy, label = 'All data')\n",
    "ax.plot(worst_coverage, worst_accuracy, label = 'Worst group')\n",
    "ax.set_xlabel('Coverage')\n",
    "ax.set_ylabel('Accuracy')\n",
    "ax.legend();"
   ]
  }
 ],
 "metadata": {
  "kernelspec": {
   "display_name": "Python 3",
   "language": "python",
   "name": "python3"
  },
  "language_info": {
   "codemirror_mode": {
    "name": "ipython",
    "version": 3
   },
   "file_extension": ".py",
   "mimetype": "text/x-python",
   "name": "python",
   "nbconvert_exporter": "python",
   "pygments_lexer": "ipython3",
   "version": "3.7.8"
  }
 },
 "nbformat": 4,
 "nbformat_minor": 4
}
