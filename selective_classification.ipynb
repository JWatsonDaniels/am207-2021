{
 "cells": [
  {
   "cell_type": "markdown",
   "metadata": {
    "id": "Pt9Bt291J76u"
   },
   "source": [
    "# Selective Classification Can Magnify Disparities Across Groups\n",
    "\n",
    "#### [Jones, Sagawa, Koh, Kumar, & Liang (2021)](https://arxiv.org/pdf/2010.14134.pdf)\n",
    "\n",
    "#### AM207: Advanced Scientific Computing: Stochastic Methods for Data Analysis, Inference, and Optimization\n",
    "\n",
    "#### Team: Jamelle Watson-Daniels, Shirley Wang, Bridger Ruyle, Paul Tembo "
   ]
  },
  {
   "cell_type": "markdown",
   "metadata": {},
   "source": [
    "## 1. Problem Statement \n",
    "#### What is the problem the paper aims to solve?\n",
    "\n",
    "Selective classification is a common approach within the machine learning field and refers to model absentions in cases of high uncertainty. By making predictions only when the model is highly confident in the outcome (for example, $p(y | x) > 0.5 + \\tau$ for binary classifiers where $\\tau$ is a threshold chosen by the model user), the model can improve average and out-of-distribution accuracies. This method may be particularly desirable in situations for which errors are costly, such as healthcare. In these cases, when a model is uncertain, decision-making can be deferred to a human expert (e.g., physician). Selective classification also has nice properties, such as improving average and out-of-distribution accuracies. In this paper, the authors demonstrate that this phenomenon is theoretically guaranteed for models with confidence distributions that are left-log concave and right skewed (i.e. skewed towards correct predictions) and that accurately predict the outcome $>50\\%$ of the time.\n",
    "\n",
    "However, in this paper, the authors also report a cautionary finding, such that selective classification can *magnify* existing disparities between groups in a population. Specifically, they report that for models which do not accurately predict the outcome $>50\\%$ of the time, or for subgroups in larger models whose outcomes are poorly predicted, selective classification can *decrease* predictive accuracy. This phenomenon is “an insidious failure mode” because selective classification will increasingly make wrong predictions with greater confidence, particularly for groups with poor accuracy at full coverage, thus magnifying between-group disparities. Even for subgroups that are accurately predicted $>50\\%$ of the time, selective classification improves accuracy for these groups at a slower rate compared to the overall model."
   ]
  },
  {
   "cell_type": "markdown",
   "metadata": {},
   "source": [
    "## 2. Context, Existing Work, and Contribution\n",
    "#### Why is this problem important? What has been done in the literature, and what gap does the paper fill?\n",
    "\n",
    "Selective classification seems to be a natural and logical approach for real-life, risk-adverse applications. For instance, in the healthcare field, consider a suicide prediction model that aims to classify patients at high or low risk for attempting suicide in the next week. These types of models are highly desirable in clinical psychiatry settings (e.g., emergency departments, inpatient psychiatric units), and it is crucial to help healthcare providers make decisions about whether to discharge someone from the hospital or keep them in for longer. In this case, if a model is uncertain about a prediction, it would be better for the model to abstain and defer decision-making to a healthcare professional (e.g., therapist, psychiatrist). \n",
    "\n",
    "However, if selective classification can exacerbate inter-group disparities in model performance, this raises serious concerns for equity. Groups that are already underserved by our existing systems may be further disadvantaged and be at highest risk for harm by an incorrect prediction. For instance, racial and gender minorities are already underrepresented in healthcare datasets and have lower accuracies than the model average. Model bias and group disparities are major issues in these fields, and if selective classification has the potential for *exacerbating* these disparities, it is crucial to obtain a better understanding of (1) when these disparities might be exacerbated and (2) potential solutions.\n",
    "\n",
    "To date, existing work has demonstrated that models can latch onto spurious correlations in medical images (e.g., chest x-ray) and fail to appropriately detect illness for patients who may be the most at-risk (Oakden-Rayner, 2020). However, little is known about how such spurious correlations may interact with selective classification to magnify disparities, and the present paper (Jones et al., 2021) investigates this problem on five datasets that are known to develop spurious correlations during training. "
   ]
  },
  {
   "cell_type": "markdown",
   "metadata": {},
   "source": [
    "## 3. Technical Content\n",
    "#### What are the high-level ideas and relevant technical details?\n",
    "\n",
    "In this paper, Jones and colleagues (2021) demonstrate that selective classification can magnify group disparities across five independent datasets that tend to develop spurious correlations during model training. In selective classification, a model abstains from making a prediction when its confidence $\\hat{c}$ is greater than or equal to some threshold $\\tau$, where confidence in predicting a given class $\\hat{c}(x)$ is given by: \n",
    "\n",
    "$$\\hat{c}(x) = \\frac{1}{2} \\log \\Big( \\frac{\\hat{p}(\\hat{y}(x) | x)}{1 - \\hat{p}(\\hat{y}(x) | x)} \\Big)$$\n",
    "\n",
    "As shown in **Figure 1**, for a selective classifier, the margin distributions (on the left) and accuracy-coverage curves (on the right) show a discrepancy between the average and worst group performance.\n",
    "\n",
    "<img src = 'figs/fig1.png' style = \"width: 700px;\">\n",
    "\n",
    "**Figure 1**. Left plot: given a threshold $\\tau$, a selective classifier makes incorrect classifications when predictions $\\hat{y}(x) \\leq -\\tau$, abstains from making a prediction when $-\\tau < \\hat{y}(x) < \\tau$, and makes a correct classification when $\\hat{y}(x) \\geq \\tau$. Right plot: While average accuracy from a selective classifier *increases* as more abstensions are made (i.e., average coverage/proportion of predicted points goes down), accuracy for the worst group *decreases*. Likewise, while average accuracy from a selective classifier *decreases* as fewer abstensions are made, accuracy for the worst group *increases*."
   ]
  },
  {
   "cell_type": "markdown",
   "metadata": {},
   "source": [
    "## 4. Experiments \n",
    "#### What types of experiments were performed, and do results prove the claims?\n",
    "\n",
    "The authors demonstrate the above effect across five datasets, including image and text datasets, as shown in **Figure 2**. From these images, we can see that the margin distributions tend to be shifted towards the left (i.e., less accurate predictions) for the worst group compared to the average. In other words, the selective classifier often confidently predicts incorrect labels for the worst group. In addition, the accuracy-coverage curves show that as more abstensions are made, the average accuracy tends to increase while the worst group accuracy tends to decrease.\n",
    "\n",
    "<img src = 'figs/fig2.png' style = \"width: 700px;\">\n",
    "\n",
    "This effect is perhaps most apparent for the `CelebA` dataset, which is a large image database of celebrities (Liu et al., 2015). In this case, the prediction task was to classify the hair color of celebrities (blond vs. non-blond hair), with the spurious attribute of gender, such that women were more likely to be blond. In this case, blond males were the \"underrepresented\" group in the dataset, experiencing the worst performance, due to class imbalance (representing only 8.5% of training examples) and the spurious correlation between gender and hair color. \n",
    "\n",
    "In addition to these five experiments, in the present paper, Jones and colleagues (2021) discuss a solution to mitigate this problem by training the model using group distributionally robust optimization (DRO), which minimizes the *worst-group training loss* instead of the *overall* training loss for the dataset. Using this method, the confidence distribution of the worst-group more closely matches the distribution of the overall model. Thus, DRO models allow selective classification to affect both subgroups and the overall data equally. Of note, this approach requires that group labels are known during training (which may not always be the case in real-world application), though the labels can be removed for testing/deployment.\n"
   ]
  },
  {
   "cell_type": "markdown",
   "metadata": {},
   "source": [
    "## 5. Our Methods - Replication and Extension \n",
    "#### How did we reproduce this paper's results, and what methods did we use? \n",
    "\n",
    "Jones and colleagues (2021) report that selective classification can magnify existing group disparities particularly in the presence of spurious correlations demonstrating this behavior across five datasets. In this project, we examine the following question: what are the dataset characteristics the lead to the increased disparities? Because the paper notes the importance of spurious correlations, we bring our attention to varying levels of correlations. We consider the image classification setting and generate synthetic datasets with varying degrees of spurious correlations. Then, we analyze the margin distributions and the selective accuracy of both the overall dataset and the worst group. Ultimately, we compare these results for the varying degrees of spurious correlations to make conclusions about the importance of the dataset characteristics in obtaining the specific magnifying group disparities result."
   ]
  },
  {
   "cell_type": "markdown",
   "metadata": {},
   "source": [
    "## 5a. Generating Synthetic Data\n",
    "\n",
    "The paper claims to consider datasets known to have spurious correlations. The image datasets used in the paper contain over 100,000 examples and are not practical for use in this project analysis. Therefore, we generate synthetic datasets derived from the MNIST dataset where we add spurious correlations of varying degrees. \n",
    "\n",
    "Specifically, we download the `mnist` dataset and select two numbers for the binary classification task. We introduce spurious attributes as filled in pixels added to the empty space on the upper left hand corner of a given image. These filled pixels can be thought of as boxes that will be correlated with one of the labels. In essence, a given label might then be correlated not only with the original written digit in the `mnist` dataset, but also with whether or not the image contains this added black box. In the training dataset, we add these black boxes to a percentage of the images with each label $Y \\in {0,1}$. To mimic the characteristics of the `celebA` dataset used in the paper, we keep the percentage of images with $Y = 1$ label constant at 8.5%. This means that we only add black boxes to 8.5% of training examples with the label $Y = 1$. We generate four datasets with different proportions of examples with the $Y = 0$ label altered: 30%, 50%, 70% and 90%. This results in spurious correlations between the added black box and the $Y = 0$ label.\n",
    "\n",
    "We consider the task of classifying digits 1 and 7. And we alter the data such that the digit 1 is spuriously correlated with the added black box. Concretely, inputs are `mnist` digits, labels are digit number Y = {1, 7}, and suprious attributes are black boxes, A = {present, absent}, with added black boxes associated with digit 7. Of the four groups, digit 1 with black boxes are the smallest group. "
   ]
  },
  {
   "cell_type": "code",
   "execution_count": 1,
   "metadata": {
    "id": "IRsgDeRzJ76z"
   },
   "outputs": [
    {
     "name": "stderr",
     "output_type": "stream",
     "text": [
      "/Users/WMP/.pyenv/versions/3.7.8/lib/python3.7/site-packages/pandas/compat/__init__.py:97: UserWarning: Could not import the lzma module. Your installed Python is incomplete. Attempting to use lzma compression will result in a RuntimeError.\n",
      "  warnings.warn(msg)\n"
     ]
    }
   ],
   "source": [
    "from autograd import grad\n",
    "import pandas as pd\n",
    "import numpy as np\n",
    "import random\n",
    "import matplotlib.pyplot as plt\n",
    "import tensorflow as tf\n",
    "from PIL import Image\n",
    "import os\n",
    "from sklearn.datasets import fetch_openml\n",
    "from sklearn.utils import check_random_state\n",
    "from sklearn.model_selection import train_test_split\n",
    "\n",
    "import seaborn as sns"
   ]
  },
  {
   "cell_type": "code",
   "execution_count": 2,
   "metadata": {
    "id": "Rx92mxAzJ760"
   },
   "outputs": [],
   "source": [
    "# Load data from https://www.openml.org/d/554\n",
    "X, y = fetch_openml('mnist_784', version = 1, return_X_y = True, as_frame = False)"
   ]
  },
  {
   "cell_type": "code",
   "execution_count": 3,
   "metadata": {
    "id": "yflBKwzpJ760"
   },
   "outputs": [],
   "source": [
    "# Pick out two classes of digits: 1, 7 and take a subset of samples \n",
    "X_subset = X[((y == '1') | (y == '7'))]\n",
    "y_subset = y[((y == '1') | (y == '7'))]\n",
    "\n",
    "# Encode the label '1' with y = 1, and the label '7' with y = 0\n",
    "y_subset[y_subset == '1'] = 1\n",
    "y_subset[y_subset == '7'] = 0\n",
    "y_subset = y_subset.astype(int)\n",
    "\n",
    "# Split into training and testing sets\n",
    "# Following celebA: 80% training, 10% val, 10% test \n",
    "rand_seed = 123\n",
    "X_train, X_test_tot, y_train, y_test_tot = train_test_split(X_subset, y_subset, test_size = 0.2, random_state = rand_seed) # split out train\n",
    "X_val, X_test, y_val, y_test = train_test_split(X_test_tot, y_test_tot, test_size = 0.5, random_state = rand_seed) # split out validation set\n",
    "\n",
    "# save y_train, y_val, y_test labels in data folder\n",
    "np.savetxt('data/y_train.csv', y_train, delimiter = ',')\n",
    "np.savetxt('data/y_val.csv', y_val, delimiter = ',')\n",
    "np.savetxt('data/y_test.csv', y_test, delimiter = ',')"
   ]
  },
  {
   "cell_type": "code",
   "execution_count": 4,
   "metadata": {
    "colab": {
     "base_uri": "https://localhost:8080/",
     "height": 179
    },
    "id": "w3QorZyvJ762",
    "outputId": "304edb89-110a-47aa-df8a-32459834a1f3"
   },
   "outputs": [
    {
     "data": {
      "image/png": "[encoded data removed]",
      "text/plain": [
       "<Figure size 1800x288 with 20 Axes>"
      ]
     },
     "metadata": {
      "needs_background": "light"
     },
     "output_type": "display_data"
    }
   ],
   "source": [
    "# Visualize some samples from the training dataset \n",
    "fig, ax = plt.subplots(2, 10, figsize = (25, 4))\n",
    "for i in range(10):\n",
    "    ax[0, i].imshow(X_train[y_train == 0][i].reshape((28, 28)), cmap = plt.cm.gray_r, interpolation = 'nearest')\n",
    "    ax[1, i].imshow(X_train[y_train == 1][i].reshape((28, 28)), cmap = plt.cm.gray_r, interpolation = 'nearest')"
   ]
  },
  {
   "cell_type": "markdown",
   "metadata": {},
   "source": [
    "This plot shows some example (unaltered) images from the `mnist` dataset. Specifically, our task is to classify digit 1 vs. 7. The following function alters specific proportions of these images in order to introduce spurious features (i.e., a black box on the upper left-hand corner of an image that appears more often on digit 7 as compared to digit 1)."
   ]
  },
  {
   "cell_type": "code",
   "execution_count": 5,
   "metadata": {
    "id": "WOrfI5UGJ764"
   },
   "outputs": [],
   "source": [
    "# function to add a grey rectangular box to top left-hand corner of digit\n",
    "\n",
    "def add_spurious_ft(x_array, y_array, perc_spurious_1, perc_spurious_2):\n",
    "    '''\n",
    "    this function takes in x and y arrays, adds spurious features to some images, and returns \n",
    "    the altered image array, along with indices of the images that were altered. spurious features\n",
    "    include a grey box on the upper lefthand side of the image.\n",
    "    \n",
    "    x_array: array of shape (n_images, 784)\n",
    "    y_array: array of shape (n_images, )\n",
    "    perc_spurious_1: percent of digit 1 images to add spurious features to\n",
    "    perc_spurious_2: percent of digit 1 images to add spurious features to\n",
    "\n",
    "    returns: \n",
    "        altered image array\n",
    "        indices of altered images (0 = not altered, 1 = altered)\n",
    "    '''\n",
    "    \n",
    "    indices_1 = np.asarray(np.where(y_train == 1)).reshape(-1) # indices where digit = 1 \n",
    "    indices_2 = np.asarray(np.where(y_train == 0)).reshape(-1) # indices where digit = 2 \n",
    "    \n",
    "    num_digit_1 = len(indices_1) # number of digit 1 images \n",
    "    num_digit_2 = len(indices_2) # number of digit 2 images \n",
    "\n",
    "    num_alter_1 = int(perc_spurious_1 * num_digit_1) # number of digit 1 images to alter\n",
    "    num_alter_2 = int(perc_spurious_2 * num_digit_2) # number of digit 2 images to alter\n",
    "    \n",
    "    np.random.seed(123)\n",
    "    rand_indices_1 = np.random.choice(len(indices_1), size = num_alter_1, replace = False) \n",
    "    rand_indices_2 = np.random.choice(len(indices_2), size = num_alter_2, replace = False) \n",
    "    \n",
    "    grey_boxes = np.r_[0:15, 28:43, 56:71]\n",
    "    altered_imgs = x_array\n",
    "    \n",
    "    image_altered = []\n",
    "    \n",
    "    for i in range(len(altered_imgs)):\n",
    "        \n",
    "        # alter digit 7 images \n",
    "        if y_train[i] == 0:\n",
    "            if i in rand_indices_2:\n",
    "                altered_imgs[i][grey_boxes] = np.array([256] * len(grey_boxes))\n",
    "                image_altered.append(1) # 1 = altered \n",
    "            else:\n",
    "                image_altered.append(0) # 0 = not altered\n",
    "        \n",
    "        # alter digit 1 images \n",
    "        elif y_train[i] == 1:\n",
    "            if i in rand_indices_1:\n",
    "                altered_imgs[i][grey_boxes] = np.array([256] * len(grey_boxes))\n",
    "                image_altered.append(1)\n",
    "            else: \n",
    "                image_altered.append(0)\n",
    "    \n",
    "    return altered_imgs, np.array(image_altered)"
   ]
  },
  {
   "cell_type": "code",
   "execution_count": 6,
   "metadata": {
    "id": "BXqXhZHAJ764"
   },
   "outputs": [],
   "source": [
    "# test to see if the function works \n",
    "test_altered_imgs, test_altered_indices = add_spurious_ft(X_train, y_train, 0.085, 0.7)"
   ]
  },
  {
   "cell_type": "code",
   "execution_count": 7,
   "metadata": {
    "colab": {
     "base_uri": "https://localhost:8080/",
     "height": 179
    },
    "id": "phyaUoBfJ765",
    "outputId": "536fd8b2-c394-4c32-f13c-9968f89f8cd7"
   },
   "outputs": [
    {
     "data": {
      "image/png": "[encoded data removed]",
      "text/plain": [
       "<Figure size 1800x288 with 20 Axes>"
      ]
     },
     "metadata": {
      "needs_background": "light"
     },
     "output_type": "display_data"
    }
   ],
   "source": [
    "# Visualize some samples from the altered training dataset. more 7's with spurious features than 1's. seems to work! \n",
    "fig, ax = plt.subplots(2, 10, figsize = (25, 4))\n",
    "for i in range(10):\n",
    "    ax[0, i].imshow(test_altered_imgs[y_train == 0][i].reshape((28, 28)), cmap = plt.cm.gray_r, interpolation = 'nearest')\n",
    "    ax[1, i].imshow(test_altered_imgs[y_train == 1][i].reshape((28, 28)), cmap = plt.cm.gray_r, interpolation = 'nearest')"
   ]
  },
  {
   "cell_type": "markdown",
   "metadata": {},
   "source": [
    "These images are now altered to include a spurious feature, such that the presence of the black box is \"spuriously correlated\" with digit 7 (just as female gender was spuriously correlated with blond hair in the `CelebA` dataset used in the paper by Jones et al., 2021). \n",
    "\n",
    "To explore the impact of the strength of this spurious correlation, we now use the above function to generate 4 sets of image datasets (each with a training, validation, and test set) with different percent of spurious features present in digit 7 (while holding the percept of spurious features in digit 1 constant at 8.5; following the `CelebA` dataset).\n",
    "\n",
    "`X_train_9`, `X_val_9`, `X_test_9`: 90% spurious features in digit 7; 8.5% spurious features in digit 1.\n",
    "\n",
    "`X_train_7`, `X_val_7`, `X_test_7`: 70% spurious features in digit 7; 8.5% spurious features in digit 1.\n",
    "\n",
    "`X_train_5`, `X_val_5`, `X_test_5`: 50% spurious features in digit 7; 8.5% spurious features in digit 1.\n",
    "\n",
    "`X_train_3`, `X_val_3`, `X_test_3`: 30% spurious features in digit 7; 8.5% spurious features in digit 1."
   ]
  },
  {
   "cell_type": "code",
   "execution_count": 8,
   "metadata": {
    "id": "kHnBa-BUJ766"
   },
   "outputs": [],
   "source": [
    "pct_label_0 = 0.085\n",
    "# 90% spurious in digit 7 \n",
    "X_train_9, X_train_9_altindices = add_spurious_ft(X_train, y_train, pct_label_0, 0.9)\n",
    "X_val_9, X_val_9_altindices = add_spurious_ft(X_val, y_val, pct_label_0, 0.9)\n",
    "X_test_9, X_test_9_altindices = add_spurious_ft(X_test, y_test, pct_label_0, 0.9)\n",
    "\n",
    "# 70% spurious in digit 7 \n",
    "X_train_7, X_train_7_altindices = add_spurious_ft(X_train, y_train, pct_label_0, 0.7)\n",
    "X_val_7, X_val_7_altindices = add_spurious_ft(X_val, y_val, pct_label_0, 0.7)\n",
    "X_test_7, X_test_7_altindices = add_spurious_ft(X_test, y_test, pct_label_0, 0.7)\n",
    "\n",
    "# 50% spurious in digit 7\n",
    "X_train_5, X_train_5_altindices = add_spurious_ft(X_train, y_train, pct_label_0, 0.5)\n",
    "X_val_5, X_val_5_altindices = add_spurious_ft(X_val, y_val, pct_label_0, 0.5)\n",
    "X_test_5, X_test_5_altindices = add_spurious_ft(X_test, y_test, pct_label_0, 0.5)\n",
    "\n",
    "# 30% spurious in digit7\n",
    "X_train_3, X_train_3_altindices = add_spurious_ft(X_train, y_train, pct_label_0, 0.3)\n",
    "X_val_3, X_val_3_altindices = add_spurious_ft(X_val, y_val, pct_label_0, 0.3)\n",
    "X_test_3, X_test_3_altindices = add_spurious_ft(X_test, y_test, pct_label_0, 0.3)"
   ]
  },
  {
   "cell_type": "code",
   "execution_count": 9,
   "metadata": {
    "id": "FC4FV6fNJ767"
   },
   "outputs": [],
   "source": [
    "# save altered indices labels \n",
    "\n",
    "np.savetxt('data/altered_index_train_9.csv', X_train_9_altindices, delimiter = ',')\n",
    "np.savetxt('data/altered_index_val_9.csv', X_val_9_altindices, delimiter = ',')\n",
    "np.savetxt('data/altered_index_test_9.csv', X_test_9_altindices, delimiter = ',')\n",
    "\n",
    "np.savetxt('data/altered_index_train_7.csv', X_train_7_altindices, delimiter = ',')\n",
    "np.savetxt('data/altered_index_val_7.csv', X_val_7_altindices, delimiter = ',')\n",
    "np.savetxt('data/altered_index_test_7.csv', X_test_7_altindices, delimiter = ',')\n",
    "\n",
    "np.savetxt('data/altered_index_train_5.csv', X_train_5_altindices, delimiter = ',')\n",
    "np.savetxt('data/altered_index_val_5.csv', X_val_5_altindices, delimiter = ',')\n",
    "np.savetxt('data/altered_index_test_5.csv', X_test_5_altindices, delimiter = ',')\n",
    "\n",
    "np.savetxt('data/altered_index_train_3.csv', X_train_3_altindices, delimiter = ',')\n",
    "np.savetxt('data/altered_index_val_3.csv', X_val_3_altindices, delimiter = ',')\n",
    "np.savetxt('data/altered_index_test_3.csv', X_test_3_altindices, delimiter = ',')"
   ]
  },
  {
   "cell_type": "markdown",
   "metadata": {
    "id": "l2ygmt6RKWki"
   },
   "source": [
    "## 5b. Data Processing and Modeling\n",
    "\n",
    "We develop a neural network to classify the images in the four datasets produced. Designing the architecture of the model took time as we tried to replicate the trends of the paper. Once we train a model for each of the four datasets, we investigate the margin distributions and the accuracy coverage curve to compare our results with those in the paper.\n",
    "\n",
    "First, to prepare the synthetic data for a ResNet NN, we perform some data processing."
   ]
  },
  {
   "cell_type": "code",
   "execution_count": 10,
   "metadata": {
    "colab": {
     "base_uri": "https://localhost:8080/"
    },
    "id": "s-UqGzOKLcAL",
    "outputId": "55444cce-a129-4a4f-c140-157e4c4dbe37"
   },
   "outputs": [],
   "source": [
    "## Reshape the datasets\n",
    "# 90% spurious in digit 2 reshaped\n",
    "X_train_9_reshaped = X_train_9.reshape((X_train_9.shape[0], 28, 28))\n",
    "X_val_9_reshaped = X_val_9.reshape((X_val_9.shape[0], 28, 28))\n",
    "X_test_9_reshaped = X_test_9.reshape((X_test_9.shape[0], 28, 28))\n",
    "\n",
    "# # 70% spurious in digit 2 reshaped\n",
    "X_train_7_reshaped = X_train_7.reshape((X_train_7.shape[0], 28, 28))\n",
    "X_val_7_reshaped = X_val_7.reshape((X_val_7.shape[0], 28, 28))\n",
    "X_test_7_reshaped = X_test_7.reshape((X_test_7.shape[0], 28, 28))\n",
    "\n",
    "\n",
    "# # 50% spurious in digit 2 reshaped\n",
    "X_train_5_reshaped = X_train_5.reshape((X_train_5.shape[0], 28, 28))\n",
    "X_val_5_reshaped = X_val_5.reshape((X_val_5.shape[0], 28, 28))\n",
    "X_test_5_reshaped = X_test_5.reshape((X_test_5.shape[0], 28, 28))\n",
    "\n",
    "\n",
    "# # 30% spurious in digit 2 reshaped\n",
    "X_train_3_reshaped = X_train_3.reshape((X_train_3.shape[0], 28, 28))\n",
    "X_val_3_reshaped = X_val_3.reshape((X_val_3.shape[0], 28, 28))\n",
    "X_test_3_reshaped = X_test_3.reshape((X_test_3.shape[0], 28, 28))\n",
    "\n",
    "# # # Exapand the datasets\n",
    "# expand new axis, channel axis \n",
    "x_train_x9 = np.expand_dims(X_train_9_reshaped, axis = -1)\n",
    "x_test_x9 = np.expand_dims(X_test_9_reshaped, axis = -1)\n",
    "x_val_x9 = np.expand_dims(X_val_9_reshaped, axis = -1)\n",
    "\n",
    "x_train_x7 = np.expand_dims(X_train_7_reshaped, axis = -1)\n",
    "x_test_x7 = np.expand_dims(X_test_7_reshaped, axis = -1)\n",
    "x_val_x7 = np.expand_dims(X_val_7_reshaped, axis = -1)\n",
    "\n",
    "x_train_x5 = np.expand_dims(X_train_5_reshaped, axis = -1)\n",
    "x_test_x5 = np.expand_dims(X_test_5_reshaped, axis = -1)\n",
    "x_val_x5 = np.expand_dims(X_val_5_reshaped, axis = -1)\n",
    "\n",
    "x_train_x3 = np.expand_dims(X_train_3_reshaped, axis = -1)\n",
    "x_test_x3 = np.expand_dims(X_test_3_reshaped, axis = -1)\n",
    "x_val_x3 = np.expand_dims(X_val_3_reshaped, axis = -1)\n",
    "\n",
    "# We need 3 channel (instead of 1)\n",
    "channel_num = 3\n",
    "x_train_x9 = np.repeat(x_train_x9, channel_num, axis = -1)\n",
    "x_test_x9 = np.repeat(x_test_x9, channel_num, axis = -1)\n",
    "x_val_x9 = np.repeat(x_val_x9, channel_num, axis = -1)\n",
    "\n",
    "x_train_x7 = np.repeat(x_train_x7, channel_num, axis = -1)\n",
    "x_test_x7 = np.repeat(x_test_x7, channel_num, axis = -1)\n",
    "x_val_x7 = np.repeat(x_val_x7, channel_num, axis = -1)\n",
    "\n",
    "x_train_x5 = np.repeat(x_train_x5, channel_num, axis = -1)\n",
    "x_test_x5 = np.repeat(x_test_x5, channel_num, axis = -1)\n",
    "x_val_x5 = np.repeat(x_val_x5, channel_num, axis = -1)\n",
    "\n",
    "x_train_x3 = np.repeat(x_train_x3, channel_num, axis = -1)\n",
    "x_test_x3 = np.repeat(x_test_x3, channel_num, axis = -1)\n",
    "x_val_x3 = np.repeat(x_val_x3, channel_num, axis = -1)\n",
    "\n",
    "# normalize \n",
    "normalization = 255\n",
    "x_train_x9 = x_train_x9.astype('float32') / normalization\n",
    "x_test_x9 = x_test_x9.astype('float32') / normalization\n",
    "x_val_x9 = x_val_x9.astype('float32') / normalization\n",
    "\n",
    "x_train_x7 = x_train_x7.astype('float32') / normalization\n",
    "x_test_x7 = x_test_x7.astype('float32') / normalization\n",
    "x_val_x7 = x_val_x7.astype('float32') / normalization\n",
    "\n",
    "x_train_x5 = x_train_x5.astype('float32') / normalization\n",
    "x_test_x5 = x_test_x5.astype('float32') / normalization\n",
    "x_val_x5 = x_val_x5.astype('float32') / normalization\n",
    "x_train_x3 = x_train_x3.astype('float32') / normalization\n",
    "x_test_x3 = x_test_x3.astype('float32') / normalization\n",
    "x_val_x3 = x_val_x3.astype('float32') / normalization\n",
    "\n",
    "# resize the input shape , i.e. old shape: 28, new shape: 32\n",
    "input_shape = 32\n",
    "x_train_x9 = tf.image.resize(x_train_x9, [input_shape, input_shape]) \n",
    "x_test_x9 = tf.image.resize(x_test_x9, [input_shape, input_shape]) \n",
    "x_val_x9 = tf.image.resize(x_val_x9, [input_shape, input_shape])  \n",
    "\n",
    "x_train_x7 = tf.image.resize(x_train_x7, [input_shape, input_shape]) \n",
    "x_test_x7 = tf.image.resize(x_test_x7, [input_shape, input_shape]) \n",
    "x_val_x7 = tf.image.resize(x_val_x7, [input_shape, input_shape]) \n",
    "\n",
    "x_train_x5 = tf.image.resize(x_train_x5, [input_shape, input_shape]) \n",
    "x_test_x5 = tf.image.resize(x_test_x5, [input_shape, input_shape]) \n",
    "x_val_x5 = tf.image.resize(x_val_x5, [input_shape, input_shape])  \n",
    "\n",
    "x_train_x3 = tf.image.resize(x_train_x3, [input_shape, input_shape]) \n",
    "x_test_x3 = tf.image.resize(x_test_x3, [input_shape, input_shape])  \n",
    "x_val_x3 = tf.image.resize(x_val_x3, [input_shape, input_shape]) "
   ]
  },
  {
   "cell_type": "code",
   "execution_count": 11,
   "metadata": {},
   "outputs": [],
   "source": [
    "# define the number of epochs here. For testing, we can use 1?\n",
    "num_epochs = 10\n",
    "\n",
    "# To save time, we have saved the results of the following code in .csv files\n",
    "# If you want to retrain the models, set the following boolean to True\n",
    "train_all_models = False"
   ]
  },
  {
   "cell_type": "code",
   "execution_count": 12,
   "metadata": {},
   "outputs": [],
   "source": [
    "def train_resnet_model(x_train, y_train, x_val, y_val, x_test):\n",
    "    ''' This function loads the ResNet with preset weights, adds three layers, and fits the model.\n",
    "    parameters\n",
    "    ------\n",
    "    \n",
    "    returns\n",
    "    ------\n",
    "    history , predict : fitted model, predictions on train\n",
    "    '''\n",
    "    inputs = tf.keras.Input(shape = (input_shape, input_shape, 3))\n",
    "    \n",
    "    # Load ResNet with preset weights from \"imagenet\" training\n",
    "    base_model = tf.keras.applications.ResNet50(\n",
    "        input_tensor = inputs,\n",
    "        include_top = False,\n",
    "        weights = 'imagenet'\n",
    "    )\n",
    "\n",
    "    base_model.traninable = False\n",
    "    \n",
    "    # add additional layers\n",
    "#         Add three layers at the end of ResNet:\n",
    "#         A global average 2d pooling layer\n",
    "#         A dropout layer\n",
    "#         And a trainable binary classifier equivalent to the one that predicts spurious feature\n",
    "    add_model = tf.keras.Sequential()\n",
    "    add_model.add(base_model)\n",
    "    add_model.add(tf.keras.layers.GlobalAveragePooling2D())\n",
    "    add_model.add(tf.keras.layers.Dropout(0.2))\n",
    "    add_model.add(tf.keras.layers.Dense(2, \n",
    "                        activation='softmax'))\n",
    "    \n",
    "    # instantiate model for prediction\n",
    "    model = add_model\n",
    "    model.compile(loss='sparse_categorical_crossentropy', \n",
    "                  optimizer='sgd',\n",
    "                  metrics=['accuracy'])\n",
    "    \n",
    "    history = model.fit(x = x_train, y = y_train, validation_data = (x_val, y_val), epochs = num_epochs)\n",
    "\n",
    "    predict = model.predict(x_test)\n",
    "    \n",
    "    return history, predict    "
   ]
  },
  {
   "cell_type": "code",
   "execution_count": 13,
   "metadata": {},
   "outputs": [],
   "source": [
    "# train ResNet model with 90% spurious correlation\n",
    "if (train_all_models == True):\n",
    "    history_9, predict_9 = train_resnet_model(x_train = x_train_x9,\n",
    "                                              y_train = y_train,\n",
    "                                              x_val = x_val_x9,\n",
    "                                              y_val = y_val, \n",
    "                                              x_test = x_test_x9)\n",
    "    # re-save the prediction\n",
    "    np.savetxt('data/RESNET_predict_9.csv', predict_9, delimiter = ',')\n",
    "else:\n",
    "    predict_9 = np.genfromtxt('data/RESNET_predict_9.csv', delimiter = ',')\n"
   ]
  },
  {
   "cell_type": "code",
   "execution_count": 14,
   "metadata": {},
   "outputs": [],
   "source": [
    "if (train_all_models == True):\n",
    "    # train Resnet model with 70% spurious correlation\n",
    "    history_7, predict_7 = train_resnet_model(x_train = x_train_x7,\n",
    "                                              y_train = y_train,\n",
    "                                              x_val = x_val_x7,\n",
    "                                              y_val = y_val, \n",
    "                                              x_test = x_test_x7)\n",
    "    \n",
    "    np.savetxt('data/RESNET_predict_7.csv', predict_7, delimiter = ',')\n",
    "else:\n",
    "    predict_7 = np.genfromtxt('data/RESNET_predict_7.csv', delimiter = ',')"
   ]
  },
  {
   "cell_type": "code",
   "execution_count": 15,
   "metadata": {},
   "outputs": [],
   "source": [
    "if (train_all_models == True):\n",
    "    # train Resnet model with 50% spurious correlation\n",
    "    history_5, predict_5 = train_resnet_model(x_train = x_train_x5,\n",
    "                                              y_train = y_train,\n",
    "                                              x_val = x_val_x5,\n",
    "                                              y_val = y_val, \n",
    "                                              x_test = x_test_x5)\n",
    "    \n",
    "    np.savetxt('data/RESNET_predict_5.csv', predict_5, delimiter = ',')\n",
    "else:\n",
    "    predict_5 = np.genfromtxt('data/RESNET_predict_5.csv', delimiter = ',')"
   ]
  },
  {
   "cell_type": "code",
   "execution_count": 16,
   "metadata": {},
   "outputs": [],
   "source": [
    "if (train_all_models == True):\n",
    "    # train Resnet model with 30% spurious correlation\n",
    "    history_3, predict_3 = train_resnet_model(x_train = x_train_x3,\n",
    "                                              y_train = y_train,\n",
    "                                              x_val = x_val_x3,\n",
    "                                              y_val = y_val, \n",
    "                                              x_test = x_test_x3)\n",
    "    \n",
    "    np.savetxt('data/RESNET_predict_3.csv', predict_3, delimiter = ',')\n",
    "else:\n",
    "    predict_3 = np.genfromtxt('data/RESNET_predict_3.csv', delimiter = ',')"
   ]
  },
  {
   "cell_type": "markdown",
   "metadata": {
    "id": "lnq0shSxZc8i"
   },
   "source": [
    "As a comparison to the state-of-the-art ResNet models trained above, we also use Keras to train a simple 2-layer neural network for each of the spurious datasets (90%, 70%, 50%, 30%). These models can help us explore the impact of simple vs. complex models with transfer learning on the results. "
   ]
  },
  {
   "cell_type": "code",
   "execution_count": 17,
   "metadata": {
    "id": "4av5AUb0Znuw"
   },
   "outputs": [],
   "source": [
    "## Train keras model with 90% spurious correlation dataset\n",
    "reg_model_9 = tf.keras.models.Sequential([tf.keras.layers.Flatten(input_shape = (input_shape, input_shape,3)), \n",
    "                                    tf.keras.layers.Dense(128, activation = tf.nn.relu), \n",
    "                                    tf.keras.layers.Dense(1, activation = tf.nn.sigmoid)])"
   ]
  },
  {
   "cell_type": "code",
   "execution_count": 18,
   "metadata": {
    "colab": {
     "base_uri": "https://localhost:8080/"
    },
    "id": "-e1DijNkZygv",
    "outputId": "eec2a59d-64c6-4b60-c060-252a03c1f5c4"
   },
   "outputs": [
    {
     "name": "stdout",
     "output_type": "stream",
     "text": [
      "Model: \"sequential\"\n",
      "_________________________________________________________________\n",
      "Layer (type)                 Output Shape              Param #   \n",
      "=================================================================\n",
      "flatten (Flatten)            (None, 3072)              0         \n",
      "_________________________________________________________________\n",
      "dense (Dense)                (None, 128)               393344    \n",
      "_________________________________________________________________\n",
      "dense_1 (Dense)              (None, 1)                 129       \n",
      "=================================================================\n",
      "Total params: 393,473\n",
      "Trainable params: 393,473\n",
      "Non-trainable params: 0\n",
      "_________________________________________________________________\n"
     ]
    }
   ],
   "source": [
    "reg_model_9.summary()"
   ]
  },
  {
   "cell_type": "code",
   "execution_count": 19,
   "metadata": {
    "colab": {
     "base_uri": "https://localhost:8080/"
    },
    "id": "yWcNKY6iandp",
    "outputId": "ee473537-2873-47dc-cd34-8af4f8a753cf"
   },
   "outputs": [
    {
     "name": "stdout",
     "output_type": "stream",
     "text": [
      "Epoch 1/10\n",
      "380/380 [==============================] - 1s 3ms/step - loss: 0.1712 - accuracy: 0.9608 - val_loss: 0.0636 - val_accuracy: 0.9848\n",
      "Epoch 2/10\n",
      "380/380 [==============================] - 0s 1ms/step - loss: 0.0365 - accuracy: 0.9904 - val_loss: 0.0461 - val_accuracy: 0.9881\n",
      "Epoch 3/10\n",
      "380/380 [==============================] - 0s 1ms/step - loss: 0.0273 - accuracy: 0.9924 - val_loss: 0.0362 - val_accuracy: 0.9901\n",
      "Epoch 4/10\n",
      "380/380 [==============================] - 0s 1ms/step - loss: 0.0243 - accuracy: 0.9929 - val_loss: 0.0294 - val_accuracy: 0.9914\n",
      "Epoch 5/10\n",
      "380/380 [==============================] - 0s 1ms/step - loss: 0.0192 - accuracy: 0.9943 - val_loss: 0.0279 - val_accuracy: 0.9921\n",
      "Epoch 6/10\n",
      "380/380 [==============================] - 0s 1ms/step - loss: 0.0210 - accuracy: 0.9933 - val_loss: 0.0273 - val_accuracy: 0.9927\n",
      "Epoch 7/10\n",
      "380/380 [==============================] - 0s 1ms/step - loss: 0.0193 - accuracy: 0.9941 - val_loss: 0.0243 - val_accuracy: 0.9927\n",
      "Epoch 8/10\n",
      "380/380 [==============================] - 0s 1ms/step - loss: 0.0171 - accuracy: 0.9946 - val_loss: 0.0263 - val_accuracy: 0.9941\n",
      "Epoch 9/10\n",
      "380/380 [==============================] - 0s 1ms/step - loss: 0.0164 - accuracy: 0.9946 - val_loss: 0.0242 - val_accuracy: 0.9941\n",
      "Epoch 10/10\n",
      "380/380 [==============================] - 0s 1ms/step - loss: 0.0163 - accuracy: 0.9949 - val_loss: 0.0211 - val_accuracy: 0.9927\n"
     ]
    }
   ],
   "source": [
    "reg_model_9.compile(optimizer ='sgd',\n",
    "              loss = 'binary_crossentropy',\n",
    "              metrics=['accuracy'])\n",
    "\n",
    "# model 9 regular 2 layer rnn compile and fit\n",
    "reg_model_9_history = reg_model_9.fit(x = x_train_x9,\n",
    "                                      y = y_train,\n",
    "                                      validation_data = (x_val_x9, y_val), \n",
    "                                      epochs = num_epochs)\n",
    "\n",
    "\n",
    "predict_nn_9 = reg_model_9.predict(x_test_x9)"
   ]
  },
  {
   "cell_type": "code",
   "execution_count": 20,
   "metadata": {},
   "outputs": [],
   "source": [
    "np.savetxt('data/NN_predict_9.csv', predict_nn_9, delimiter = ',')"
   ]
  },
  {
   "cell_type": "code",
   "execution_count": 21,
   "metadata": {
    "id": "vWrM_mdNZ0Mr"
   },
   "outputs": [],
   "source": [
    "## Train keras model with 70% spurious correlation dataset\n",
    "reg_model_7 = tf.keras.models.Sequential([tf.keras.layers.Flatten(input_shape = (input_shape, input_shape,3)), \n",
    "                                    tf.keras.layers.Dense(128, activation=tf.nn.relu), \n",
    "                                    tf.keras.layers.Dense(1, activation=tf.nn.sigmoid)])"
   ]
  },
  {
   "cell_type": "code",
   "execution_count": 22,
   "metadata": {
    "colab": {
     "base_uri": "https://localhost:8080/"
    },
    "id": "_L_2Ap9VaFwj",
    "outputId": "2699ca92-3774-4ac2-c730-e8879fbc4325"
   },
   "outputs": [
    {
     "name": "stdout",
     "output_type": "stream",
     "text": [
      "Model: \"sequential_1\"\n",
      "_________________________________________________________________\n",
      "Layer (type)                 Output Shape              Param #   \n",
      "=================================================================\n",
      "flatten_1 (Flatten)          (None, 3072)              0         \n",
      "_________________________________________________________________\n",
      "dense_2 (Dense)              (None, 128)               393344    \n",
      "_________________________________________________________________\n",
      "dense_3 (Dense)              (None, 1)                 129       \n",
      "=================================================================\n",
      "Total params: 393,473\n",
      "Trainable params: 393,473\n",
      "Non-trainable params: 0\n",
      "_________________________________________________________________\n"
     ]
    }
   ],
   "source": [
    "reg_model_7.summary()"
   ]
  },
  {
   "cell_type": "code",
   "execution_count": 23,
   "metadata": {
    "colab": {
     "base_uri": "https://localhost:8080/"
    },
    "id": "g9uz0DTabPuB",
    "outputId": "4bbd642c-0ee2-45d8-c1f8-fcae87c105ff"
   },
   "outputs": [
    {
     "name": "stdout",
     "output_type": "stream",
     "text": [
      "Epoch 1/10\n",
      "380/380 [==============================] - 1s 1ms/step - loss: 0.1697 - accuracy: 0.9588 - val_loss: 0.0635 - val_accuracy: 0.9842\n",
      "Epoch 2/10\n",
      "380/380 [==============================] - 0s 1ms/step - loss: 0.0376 - accuracy: 0.9917 - val_loss: 0.0433 - val_accuracy: 0.9868\n",
      "Epoch 3/10\n",
      "380/380 [==============================] - 0s 1ms/step - loss: 0.0274 - accuracy: 0.9922 - val_loss: 0.0355 - val_accuracy: 0.9901\n",
      "Epoch 4/10\n",
      "380/380 [==============================] - 0s 1ms/step - loss: 0.0249 - accuracy: 0.9934 - val_loss: 0.0303 - val_accuracy: 0.9901\n",
      "Epoch 5/10\n",
      "380/380 [==============================] - 0s 1ms/step - loss: 0.0230 - accuracy: 0.9929 - val_loss: 0.0287 - val_accuracy: 0.9914\n",
      "Epoch 6/10\n",
      "380/380 [==============================] - 0s 1ms/step - loss: 0.0190 - accuracy: 0.9949 - val_loss: 0.0276 - val_accuracy: 0.9914\n",
      "Epoch 7/10\n",
      "380/380 [==============================] - 0s 1ms/step - loss: 0.0173 - accuracy: 0.9955 - val_loss: 0.0249 - val_accuracy: 0.9934\n",
      "Epoch 8/10\n",
      "380/380 [==============================] - 0s 1ms/step - loss: 0.0174 - accuracy: 0.9952 - val_loss: 0.0243 - val_accuracy: 0.9927\n",
      "Epoch 9/10\n",
      "380/380 [==============================] - 0s 1ms/step - loss: 0.0157 - accuracy: 0.9955 - val_loss: 0.0217 - val_accuracy: 0.9927\n",
      "Epoch 10/10\n",
      "380/380 [==============================] - 0s 1ms/step - loss: 0.0183 - accuracy: 0.9940 - val_loss: 0.0236 - val_accuracy: 0.9934\n"
     ]
    }
   ],
   "source": [
    "reg_model_7.compile(optimizer ='sgd',\n",
    "              loss = 'binary_crossentropy',\n",
    "              metrics=['accuracy'])\n",
    "\n",
    "# model 7 regular 2 layer rnn compile and fit\n",
    "reg_model_7_history = reg_model_7.fit(x=x_train_x7,y=y_train, validation_data=(x_val_x7, y_val), epochs=10)\n",
    "\n",
    "\n",
    "predict_nn_7 = reg_model_7.predict(x_test_x7)\n",
    "\n"
   ]
  },
  {
   "cell_type": "code",
   "execution_count": 24,
   "metadata": {},
   "outputs": [],
   "source": [
    "np.savetxt('data/NN_predict_7.csv', predict_nn_7, delimiter = ',')"
   ]
  },
  {
   "cell_type": "code",
   "execution_count": 25,
   "metadata": {
    "id": "lSIXZLH4Z2yZ"
   },
   "outputs": [],
   "source": [
    "## Train keras model with 50% spurious correlation dataset\n",
    "reg_model_5 = tf.keras.models.Sequential([tf.keras.layers.Flatten(input_shape = (input_shape, input_shape, 3)), \n",
    "                                    tf.keras.layers.Dense(128, activation=tf.nn.relu), \n",
    "                                    tf.keras.layers.Dense(1, activation=tf.nn.sigmoid)])"
   ]
  },
  {
   "cell_type": "code",
   "execution_count": 26,
   "metadata": {
    "colab": {
     "base_uri": "https://localhost:8080/"
    },
    "id": "XLh6HjixaG1e",
    "outputId": "c0e6ac0e-6570-4500-cdb6-cf6f49697a8b"
   },
   "outputs": [
    {
     "name": "stdout",
     "output_type": "stream",
     "text": [
      "Model: \"sequential_2\"\n",
      "_________________________________________________________________\n",
      "Layer (type)                 Output Shape              Param #   \n",
      "=================================================================\n",
      "flatten_2 (Flatten)          (None, 3072)              0         \n",
      "_________________________________________________________________\n",
      "dense_4 (Dense)              (None, 128)               393344    \n",
      "_________________________________________________________________\n",
      "dense_5 (Dense)              (None, 1)                 129       \n",
      "=================================================================\n",
      "Total params: 393,473\n",
      "Trainable params: 393,473\n",
      "Non-trainable params: 0\n",
      "_________________________________________________________________\n"
     ]
    }
   ],
   "source": [
    "reg_model_5.summary()"
   ]
  },
  {
   "cell_type": "code",
   "execution_count": 27,
   "metadata": {
    "colab": {
     "base_uri": "https://localhost:8080/"
    },
    "id": "OZw7Chdjbo3T",
    "outputId": "9adbc2de-0757-477a-dd73-5b08b38e024d"
   },
   "outputs": [
    {
     "name": "stdout",
     "output_type": "stream",
     "text": [
      "Epoch 1/10\n",
      "380/380 [==============================] - 1s 1ms/step - loss: 0.1731 - accuracy: 0.9589 - val_loss: 0.0580 - val_accuracy: 0.9835\n",
      "Epoch 2/10\n",
      "380/380 [==============================] - 0s 1ms/step - loss: 0.0354 - accuracy: 0.9899 - val_loss: 0.0460 - val_accuracy: 0.9868\n",
      "Epoch 3/10\n",
      "380/380 [==============================] - 0s 1ms/step - loss: 0.0314 - accuracy: 0.9915 - val_loss: 0.0405 - val_accuracy: 0.9895\n",
      "Epoch 4/10\n",
      "380/380 [==============================] - 0s 1ms/step - loss: 0.0273 - accuracy: 0.9927 - val_loss: 0.0304 - val_accuracy: 0.9908\n",
      "Epoch 5/10\n",
      "380/380 [==============================] - 0s 1ms/step - loss: 0.0198 - accuracy: 0.9941 - val_loss: 0.0290 - val_accuracy: 0.9914\n",
      "Epoch 6/10\n",
      "380/380 [==============================] - 0s 1ms/step - loss: 0.0182 - accuracy: 0.9948 - val_loss: 0.0258 - val_accuracy: 0.9927\n",
      "Epoch 7/10\n",
      "380/380 [==============================] - 0s 1ms/step - loss: 0.0185 - accuracy: 0.9944 - val_loss: 0.0244 - val_accuracy: 0.9927\n",
      "Epoch 8/10\n",
      "380/380 [==============================] - 0s 1ms/step - loss: 0.0180 - accuracy: 0.9950 - val_loss: 0.0219 - val_accuracy: 0.9934\n",
      "Epoch 9/10\n",
      "380/380 [==============================] - 0s 1ms/step - loss: 0.0164 - accuracy: 0.9942 - val_loss: 0.0214 - val_accuracy: 0.9934\n",
      "Epoch 10/10\n",
      "380/380 [==============================] - 0s 1ms/step - loss: 0.0156 - accuracy: 0.9957 - val_loss: 0.0209 - val_accuracy: 0.9927\n"
     ]
    }
   ],
   "source": [
    "reg_model_5.compile(optimizer ='sgd',\n",
    "              loss = 'binary_crossentropy',\n",
    "              metrics=['accuracy'])\n",
    "\n",
    "# model 5 regular 2 layer rnn compile and fit\n",
    "reg_model_5_history = reg_model_5.fit(x=x_train_x5,y=y_train, validation_data=(x_val_x5, y_val), epochs=10)\n",
    "\n",
    "\n",
    "predict_nn_5 = reg_model_5.predict(x_test_x5)"
   ]
  },
  {
   "cell_type": "code",
   "execution_count": 28,
   "metadata": {},
   "outputs": [],
   "source": [
    "np.savetxt('data/NN_predict_5.csv', predict_nn_5, delimiter = ',')"
   ]
  },
  {
   "cell_type": "code",
   "execution_count": 29,
   "metadata": {
    "id": "nbeCvDdsZ-Bh"
   },
   "outputs": [],
   "source": [
    "## Train keras model with 30% spurious correlation dataset\n",
    "reg_model_3 = tf.keras.models.Sequential([tf.keras.layers.Flatten(input_shape = (input_shape, input_shape,3)), \n",
    "                                    tf.keras.layers.Dense(128, activation=tf.nn.relu), \n",
    "                                    tf.keras.layers.Dense(1, activation=tf.nn.sigmoid)])"
   ]
  },
  {
   "cell_type": "code",
   "execution_count": 30,
   "metadata": {
    "colab": {
     "base_uri": "https://localhost:8080/"
    },
    "id": "GX2GBC1RaHz5",
    "outputId": "4bf41070-fca9-4f35-963f-fd04f2ba87ef"
   },
   "outputs": [
    {
     "name": "stdout",
     "output_type": "stream",
     "text": [
      "Model: \"sequential_3\"\n",
      "_________________________________________________________________\n",
      "Layer (type)                 Output Shape              Param #   \n",
      "=================================================================\n",
      "flatten_3 (Flatten)          (None, 3072)              0         \n",
      "_________________________________________________________________\n",
      "dense_6 (Dense)              (None, 128)               393344    \n",
      "_________________________________________________________________\n",
      "dense_7 (Dense)              (None, 1)                 129       \n",
      "=================================================================\n",
      "Total params: 393,473\n",
      "Trainable params: 393,473\n",
      "Non-trainable params: 0\n",
      "_________________________________________________________________\n"
     ]
    }
   ],
   "source": [
    "reg_model_3.summary()"
   ]
  },
  {
   "cell_type": "code",
   "execution_count": 31,
   "metadata": {
    "colab": {
     "base_uri": "https://localhost:8080/"
    },
    "id": "6P8IwkNhbqTJ",
    "outputId": "bd4c6558-a616-4517-db21-f344e05199e0"
   },
   "outputs": [
    {
     "name": "stdout",
     "output_type": "stream",
     "text": [
      "Epoch 1/10\n",
      "380/380 [==============================] - 1s 1ms/step - loss: 0.1700 - accuracy: 0.9591 - val_loss: 0.0649 - val_accuracy: 0.9842\n",
      "Epoch 2/10\n",
      "380/380 [==============================] - 0s 1ms/step - loss: 0.0339 - accuracy: 0.9917 - val_loss: 0.0463 - val_accuracy: 0.9868\n",
      "Epoch 3/10\n",
      "380/380 [==============================] - 0s 1ms/step - loss: 0.0299 - accuracy: 0.9921 - val_loss: 0.0373 - val_accuracy: 0.9895\n",
      "Epoch 4/10\n",
      "380/380 [==============================] - 0s 1ms/step - loss: 0.0254 - accuracy: 0.9935 - val_loss: 0.0342 - val_accuracy: 0.9901\n",
      "Epoch 5/10\n",
      "380/380 [==============================] - 0s 1ms/step - loss: 0.0260 - accuracy: 0.9924 - val_loss: 0.0271 - val_accuracy: 0.9908\n",
      "Epoch 6/10\n",
      "380/380 [==============================] - 0s 1ms/step - loss: 0.0214 - accuracy: 0.9940 - val_loss: 0.0272 - val_accuracy: 0.9914\n",
      "Epoch 7/10\n",
      "380/380 [==============================] - 0s 1ms/step - loss: 0.0175 - accuracy: 0.9956 - val_loss: 0.0251 - val_accuracy: 0.9914\n",
      "Epoch 8/10\n",
      "380/380 [==============================] - 0s 1ms/step - loss: 0.0182 - accuracy: 0.9947 - val_loss: 0.0231 - val_accuracy: 0.9921\n",
      "Epoch 9/10\n",
      "380/380 [==============================] - 0s 1ms/step - loss: 0.0175 - accuracy: 0.9943 - val_loss: 0.0220 - val_accuracy: 0.9927\n",
      "Epoch 10/10\n",
      "380/380 [==============================] - 0s 1ms/step - loss: 0.0164 - accuracy: 0.9954 - val_loss: 0.0216 - val_accuracy: 0.9921\n"
     ]
    }
   ],
   "source": [
    "reg_model_3.compile(optimizer ='sgd',\n",
    "              loss = 'binary_crossentropy',\n",
    "              metrics=['accuracy'])\n",
    "\n",
    "# model 3 regular 2 layer rnn compile and fit\n",
    "reg_model_3_history = reg_model_3.fit(x=x_train_x3,y=y_train, validation_data=(x_val_x3, y_val), epochs=10)\n",
    "\n",
    "\n",
    "predict_nn_3 = reg_model_3.predict(x_test_x3)"
   ]
  },
  {
   "cell_type": "code",
   "execution_count": 32,
   "metadata": {},
   "outputs": [],
   "source": [
    "np.savetxt('data/NN_predict_3.csv', predict_nn_3, delimiter = ',')"
   ]
  },
  {
   "cell_type": "markdown",
   "metadata": {},
   "source": [
    "## 6. Our Results - Replication and Extension\n",
    "#### What did we find, and how do our results align with the paper (Jones et al., 2021)?\n",
    "\n",
    "First, we plot the margin distribution, which captures the model’s confidences across all predictions and\n",
    "determines which examples it abstains on at each threshold. Formally, a selective classifier that makes prediction, $\\hat{y}$ on a point $x$ with a confidence $\\hat{c}$ is evaluated based on some confidence threshold $\\tau$. The margin distribution is a plot of the confidence margin on the $x$ axis and the density of points on the $y$ axis. The region of the plot that falls between $-\\tau$ and $+\\tau$ are points where the classifier abstains. We plot the overall margin distribution as well as the margin distribution of the worst group.\n",
    "\n",
    "When we vary this confidence threshold, $\\tau$, we can analyze the accuracy coverage where coverage is defined as the proportion of predicted points. This means that full coverage (100%) corresponds to a classifier that does not abstain on any predictions. Selective accuracy is defined as the average accuracy over all points and the worst group accuracy is the accuracy of points that are part of the worst performing group. The paper explores whether selective classification helps or hurts accuracy and how overall accuracy compares to the accuracy of different subgroups.\n",
    "\n",
    "The most striking finding of the paper shows that worst-group accuracy decreases with coverage. As in, the more confident the model is on the worst-group examples, the more incorrect it is. Let us examine to what degree we can recreate this result with our synthetic datasets."
   ]
  },
  {
   "cell_type": "code",
   "execution_count": 33,
   "metadata": {},
   "outputs": [],
   "source": [
    "sns.set() # set seaborn to make plots look nice\n",
    "# variable for margin range\n",
    "tau_max = 6"
   ]
  },
  {
   "cell_type": "code",
   "execution_count": 34,
   "metadata": {},
   "outputs": [],
   "source": [
    "def confidence(logit, actual_class):\n",
    "    \"\"\" Calculate the predictive confidence according to Eq 1 (Jones et al.)\n",
    "    \n",
    "        Parameters:\n",
    "            logit (tuple or list of tuples) : The probability of each prediction (P(Y = 1), P(Y = 0))\n",
    "            actual_class (int or list of ints) : Correct class labels (0 or 1) of the predictions\n",
    "        Returns :\n",
    "            c_hat (float or list of floats) : The confidence of each prediction\n",
    "                = 0.5 * log(max(logit_i) / (1 - max(logit_i))) if argmax(logit_i) == predicted_class_i\n",
    "                else\n",
    "                = -0.5 * log(max(logit_i) / (1 - max(logit_i))) if argmax(logit_i) != predicted_class_i\n",
    "    \"\"\"\n",
    "    \n",
    "    predicted_class = np.argmax(logit, axis = 1)\n",
    "    c_hat = [0.5 * np.log10(l[pc] / (1 - l[pc])) for l, pc in zip(logit, predicted_class)]\n",
    "    c_hat = [c if c != np.inf else (tau_max - 1) for c in c_hat] #if the confidence is infinity (i.e. P(Y = 1) or P(Y = 0) = 1), set confidence to arbitrary large number\n",
    "    c_hat = [c if pc == ac else -c for c, pc, ac in zip(c_hat, predicted_class, actual_class)]\n",
    "    return(c_hat)\n",
    "\n",
    "def dropout(confidence, tau):\n",
    "    \"\"\" Determine predictions above a threshold\n",
    "    \n",
    "        Parameters:\n",
    "            confidence (float or list of floats) : predictive confidence according to Eq 1 (Jones et al)\n",
    "            tau (float) : threshold for abstaining on predictions\n",
    "        Returns:\n",
    "            (float or list of floats) : the predictive confidence that exceeds (in absolute value terms) the threshold \n",
    "    \"\"\"\n",
    "    return(confidence[np.abs(confidence) > tau])\n",
    "\n",
    "def coverage(confidence, tau):\n",
    "    \"\"\" Determine the number of samples that are predicted above a confidence threshold\n",
    "    \n",
    "        Parameters:\n",
    "            confidence (float or list of floats) : predictive confidence according to Eq 1 (Jones et al)\n",
    "            tau (float) : threshold for abstaining on predictions\n",
    "        Returns:\n",
    "            (float) : the fraction of samples between 0 and 1 (inclusive) that are predicted with confidence above threshold tau\n",
    "    \"\"\"\n",
    "    dropped_out = dropout(confidence, tau)\n",
    "    return(len(dropped_out) / len(confidence))\n",
    "\n",
    "def accuracy(confidence, tau):\n",
    "    \"\"\" Determine the fraction of correctly predicted labels above a confidence threshold\n",
    "    \n",
    "    Parameters:\n",
    "            confidence (float or list of floats) : predictive confidence according to Eq 1 (Jones et al)\n",
    "            tau (float) : threshold for abstaining on predictions\n",
    "    Returns:\n",
    "            (float) : the fraction of samples between 0 and 1 (inclusive) that are correctly predicted \n",
    "        \n",
    "    \"\"\"\n",
    "    dropped_out = dropout(confidence, tau)\n",
    "    return(np.sum(dropped_out > 0) / len(dropped_out))\n",
    "\n",
    "def plot_margin(confidence, worst_group_idx, spur_proportion, model_type = 'RESNET'):\n",
    "    ''' This function plots the confidence margin on the x axis \n",
    "    and the density of points on the y axis to compare the full\n",
    "    dataset performance with the worst group performance.\n",
    "    '''\n",
    "    sns.set_style('white')\n",
    "    fig, ax = plt.subplots(1, 1, figsize = (8, 5))\n",
    "    ax.hist(confidence, label = 'full dataset', bins = 30, alpha = 0.5, color = 'blue')\n",
    "    ax.hist(np.array(confidence)[worst_group_idx], label = 'worst group', bins = 30, alpha = 0.8, color = 'red')\n",
    "    ax.set_title(\"{} - Synthetic dataset: spurious correlations {}%\".format(model_type, spur_proportion), fontsize = 18)\n",
    "    ax.set_xlabel('Margin', fontsize = 14)\n",
    "    ax.set_ylabel('Ave. Density', fontsize = 14)\n",
    "    plt.legend()\n",
    "    plt.show()\n",
    "    \n",
    "def plot_coverage(full_coverage, full_accuracy, worst_coverage, worst_accuracy, spur_proportion, model_type = 'RESNET'):\n",
    "    '''This function plots the coverage on the x axis and the accuracy on the y axis\n",
    "    for both the full dataset and the worst group in the dataset as defined in the paper.\n",
    "    '''\n",
    "    sns.set_style('whitegrid')\n",
    "    fig, ax = plt.subplots()\n",
    "    ax.plot(full_coverage, full_accuracy, label = 'All data', color = 'blue')\n",
    "    ax.plot(worst_coverage, worst_accuracy, label = 'Worst group', color = 'red')\n",
    "    ax.set_xlabel('Coverage', fontsize = 14)\n",
    "    ax.set_ylabel('Accuracy', fontsize = 14)\n",
    "    ax.set_title(\"{} - Synthetic dataset: spurious correlations {}%\".format(model_type, spur_proportion), fontsize = 18)\n",
    "    ax.legend()\n",
    "    plt.show()"
   ]
  },
  {
   "cell_type": "markdown",
   "metadata": {},
   "source": [
    "## 6a. Results for ResNet Model"
   ]
  },
  {
   "cell_type": "code",
   "execution_count": null,
   "metadata": {},
   "outputs": [],
   "source": [
    "import warnings\n",
    "\n",
    "def fxn():\n",
    "    warnings.warn(\"deprecated\", DeprecationWarning)\n",
    "\n",
    "with warnings.catch_warnings():\n",
    "    warnings.simplefilter(\"ignore\")\n",
    "    fxn()\n",
    "    \n",
    "    # Plot margin subplots for RESNET\n",
    "    model_type = 'ResNet'\n",
    "    # 90% group\n",
    "    resnet_9_logits = predict_9\n",
    "    altered_labels_9 = X_test_9_altindices\n",
    "    confidence_resnet_9 = confidence(resnet_9_logits, y_test)\n",
    "    worst_group_9 = (y_test == 1.0) & (altered_labels_9 == 1.0) \n",
    "\n",
    "    # 70% group\n",
    "    resnet_7_logits = predict_7\n",
    "    altered_labels_7 = X_test_7_altindices\n",
    "    confidence_resnet_7 = confidence(resnet_7_logits, y_test)\n",
    "    worst_group_7 = (y_test == 1.0) & (altered_labels_7 == 1.0)\n",
    "\n",
    "    # 50% group\n",
    "    resnet_5_logits = predict_5\n",
    "    altered_labels_5 = X_test_5_altindices\n",
    "    confidence_resnet_5 = confidence(resnet_5_logits, y_test)\n",
    "    worst_group_5 = (y_test == 1.0) & (altered_labels_5 == 1.0) \n",
    "\n",
    "    # 30% group\n",
    "    resnet_3_logits = predict_3\n",
    "    altered_labels_3 = X_test_3_altindices\n",
    "    confidence_resnet_3 = confidence(resnet_3_logits, y_test)\n",
    "    worst_group_3 = (y_test == 1.0) & (altered_labels_3 == 1.0)\n",
    "\n",
    "    plot_y_max = 600\n",
    "    ave_line_width = 2\n",
    "\n",
    "    sns.set_style('white')\n",
    "    fig, ax = plt.subplots(2, 2, figsize = (14, 9))\n",
    "    fig.tight_layout(pad = 5)\n",
    "    \n",
    "    ax[0 , 0].hist(confidence_resnet_9, label = 'full dataset', bins = 30, alpha = 0.5, color = 'blue')\n",
    "    ax[0 , 0].hist(np.array(confidence_resnet_9)[worst_group_9], label = 'worst group', bins = 30, alpha = 0.8, color = 'red')\n",
    "    ax[0 , 0].set_title(\"Spurious correlations {}%\".format(90), fontsize = 14)\n",
    "    ax[0 , 0].set_xlabel('Margin', fontsize = 14)\n",
    "    ax[0 , 0].set_ylabel('Ave. Density', fontsize = 14)\n",
    "    ax[0 , 0].set_ylim([0, plot_y_max])\n",
    "    ax[0 , 0].axvline(np.mean(confidence_resnet_9), color='b', linestyle='dashed', linewidth=ave_line_width)\n",
    "    ax[0 , 0].axvline(np.mean(np.array(confidence_resnet_9)[worst_group_9]), color='r', linestyle='dashed', linewidth=ave_line_width)\n",
    "    ax[0 , 0].legend()\n",
    "\n",
    "    ax[0 , 1].hist(confidence_resnet_7, label = 'full dataset', bins = 30, alpha = 0.5, color = 'blue')\n",
    "    ax[0 , 1].hist(np.array(confidence_resnet_7)[worst_group_7], label = 'worst group', bins = 30, alpha = 0.8, color = 'red')\n",
    "    ax[0 , 1].set_title(\"Spurious correlations {}%\".format(70), fontsize = 14)\n",
    "    ax[0 , 1].set_xlabel('Margin', fontsize = 14)\n",
    "    ax[0 , 1].set_ylabel('Ave. Density', fontsize = 14)\n",
    "    ax[0 , 1].set_ylim([0, plot_y_max])\n",
    "    ax[0 , 1].axvline(np.mean(confidence_resnet_7), color='b', linestyle='dashed', linewidth=ave_line_width)\n",
    "    ax[0 , 1].axvline(np.mean(np.array(confidence_resnet_7)[worst_group_7]), color='r', linestyle='dashed', linewidth=ave_line_width)\n",
    "    ax[0 , 1].legend()\n",
    "\n",
    "    ax[1, 0].hist(confidence_resnet_5, label = 'full dataset', bins = 30, alpha = 0.5, color = 'blue')\n",
    "    ax[1, 0].hist(np.array(confidence_resnet_5)[worst_group_5], label = 'worst group', bins = 30, alpha = 0.8, color = 'red')\n",
    "    ax[1, 0].set_title(\"Spurious correlations {}%\".format(50), fontsize = 14)\n",
    "    ax[1, 0].set_xlabel('Margin', fontsize = 14)\n",
    "    ax[1, 0].set_ylabel('Ave. Density', fontsize = 14)\n",
    "    ax[1, 0].set_ylim([0, plot_y_max])\n",
    "    ax[1, 0].axvline(np.mean(confidence_resnet_5), color='b', linestyle='dashed', linewidth=ave_line_width)\n",
    "    ax[1, 0].axvline(np.mean(np.array(confidence_resnet_5)[worst_group_5]), color='r', linestyle='dashed', linewidth=ave_line_width)\n",
    "    ax[1, 0].legend()\n",
    "\n",
    "    ax[1, 1].hist(confidence_resnet_3, label = 'full dataset', bins = 30, alpha = 0.5, color = 'blue')\n",
    "    ax[1, 1].hist(np.array(confidence_resnet_3)[worst_group_3], label = 'worst group', bins = 30, alpha = 0.8, color = 'red')\n",
    "    ax[1, 1].set_title(\"Spurious correlations {}%\".format(30), fontsize = 14)\n",
    "    ax[1, 1].set_xlabel('Margin', fontsize = 14)\n",
    "    ax[1, 1].set_ylabel('Ave. Density', fontsize = 14)\n",
    "    ax[1, 1].set_ylim([0, plot_y_max])\n",
    "    ax[1, 1].axvline(np.mean(confidence_resnet_3), color='b', linestyle='dashed', linewidth=ave_line_width)\n",
    "    ax[1, 1].axvline(np.mean(np.array(confidence_resnet_3)[worst_group_3]), color='r', linestyle='dashed', linewidth=ave_line_width)\n",
    "    ax[1, 1].legend()\n",
    "\n",
    "    fig.suptitle('{} - Ave Density for Full Dataset and Worst Group'.format(model_type), fontsize=20)\n",
    "    plt.show()"
   ]
  },
  {
   "cell_type": "markdown",
   "metadata": {},
   "source": [
    "These plots present somewhat conflicting results. For the datasets with spurious correlations in 90%, 50%, and 30% of the digit 7 (i.e., overrepresented) data, we see that the worst group has worse performance than the full dataset on average. This aligns somewhat with the findings of Jones et al. (2021), although these differences are not as stark as the ones found in the paper. However, for the datasets with spurious correlations in 70% of the data, the worst group seems to do slightly *better* on average. \n",
    "\n",
    "**NOTE**: In some cases the confidence was $\\inf$. For purposes of visualization, we set these values to be arbitrarily high ($\\hat{c} = 5$). "
   ]
  },
  {
   "cell_type": "code",
   "execution_count": null,
   "metadata": {},
   "outputs": [],
   "source": [
    "with warnings.catch_warnings():\n",
    "    warnings.simplefilter(\"ignore\")\n",
    "    fxn()\n",
    "    sns.set_style('white')\n",
    "    fig, ax = plt.subplots(2, 2, figsize = (14, 9))\n",
    "    fig.tight_layout(pad = 5)\n",
    "\n",
    "    tau = np.linspace(0, tau_max, 100)\n",
    "    full_coverage_9 = [coverage(np.array(confidence_resnet_9), t) for t in tau]\n",
    "    full_accuracy_9 = [accuracy(np.array(confidence_resnet_9), t) for t in tau]\n",
    "    worst_coverage_9 = [coverage(np.array(confidence_resnet_9)[worst_group_9], t) for t in tau]\n",
    "    worst_accuracy_9 = [accuracy(np.array(confidence_resnet_9)[worst_group_9], t) for t in tau]\n",
    "    \n",
    "    full_coverage_7 = [coverage(np.array(confidence_resnet_7), t) for t in tau]\n",
    "    full_accuracy_7 = [accuracy(np.array(confidence_resnet_7), t) for t in tau]\n",
    "    worst_coverage_7 = [coverage(np.array(confidence_resnet_7)[worst_group_7], t) for t in tau]\n",
    "    worst_accuracy_7 = [accuracy(np.array(confidence_resnet_7)[worst_group_7], t) for t in tau]\n",
    "    \n",
    "    full_coverage_5 = [coverage(np.array(confidence_resnet_5), t) for t in tau]\n",
    "    full_accuracy_5 = [accuracy(np.array(confidence_resnet_5), t) for t in tau]\n",
    "    worst_coverage_5 = [coverage(np.array(confidence_resnet_5)[worst_group_5], t) for t in tau]\n",
    "    worst_accuracy_5 = [accuracy(np.array(confidence_resnet_5)[worst_group_5], t) for t in tau]\n",
    "\n",
    "    full_coverage_3 = [coverage(np.array(confidence_resnet_3), t) for t in tau]\n",
    "    full_accuracy_3 = [accuracy(np.array(confidence_resnet_3), t) for t in tau]\n",
    "    worst_coverage_3 = [coverage(np.array(confidence_resnet_3)[worst_group_3], t) for t in tau]\n",
    "    worst_accuracy_3 = [accuracy(np.array(confidence_resnet_3)[worst_group_3], t) for t in tau]\n",
    "\n",
    "    ax[0,0].plot(full_coverage_9, full_accuracy_9, label = 'All data', color = 'blue')\n",
    "    ax[0,0].plot(worst_coverage_9, worst_accuracy_9, label = 'Worst group', color = 'red')\n",
    "    ax[0,0].set_xlabel('Coverage', fontsize = 14)\n",
    "    ax[0,0].set_ylabel('Accuracy', fontsize = 14)\n",
    "    ax[0,0].set_title(\"Spurious correlations {}%\".format(90), fontsize = 14)\n",
    "    ax[0,0].legend()\n",
    "    \n",
    "    ax[0,1].plot(full_coverage_7, full_accuracy_7, label = 'All data', color = 'blue')\n",
    "    ax[0,1].plot(worst_coverage_7, worst_accuracy_7, label = 'Worst group', color = 'red')\n",
    "    ax[0,1].set_xlabel('Coverage', fontsize = 14)\n",
    "    ax[0,1].set_ylabel('Accuracy', fontsize = 14)\n",
    "    ax[0,1].set_title(\"Spurious correlations {}%\".format(70), fontsize = 14)\n",
    "    ax[0,1].legend()\n",
    "    \n",
    "    ax[1,0].plot(full_coverage_5, full_accuracy_5, label = 'All data', color = 'blue')\n",
    "    ax[1,0].plot(worst_coverage_5, worst_accuracy_5, label = 'Worst group', color = 'red')\n",
    "    ax[1,0].set_xlabel('Coverage', fontsize = 14)\n",
    "    ax[1,0].set_ylabel('Accuracy', fontsize = 14)\n",
    "    ax[1,0].set_title(\"Spurious correlations {}%\".format(50), fontsize = 14)\n",
    "    ax[1,0].legend()\n",
    "    \n",
    "    ax[1,1].plot(full_coverage_3, full_accuracy_3, label = 'All data', color = 'blue')\n",
    "    ax[1,1].plot(worst_coverage_3, worst_accuracy_3, label = 'Worst group', color = 'red')\n",
    "    ax[1,1].set_xlabel('Coverage', fontsize = 14)\n",
    "    ax[1,1].set_ylabel('Accuracy', fontsize = 14)\n",
    "    ax[1,1].set_title(\"Spurious correlations {}%\".format(30), fontsize = 14)\n",
    "    ax[1,1].legend()\n",
    "    \n",
    "    fig.suptitle('{} - Accuracy-Coverage Curves for All Data and Worst Group'.format(model_type), fontsize=20)\n",
    "    plt.show()"
   ]
  },
  {
   "cell_type": "markdown",
   "metadata": {},
   "source": [
    "These plots provide similar information to the margin distributions above, such that there does not seem to be a consistent, meaningful difference between the full data and the worst group regarding the relationship between coverage and accuracy. While the findings from Jones and colleagues (2021) would suggest that accuracy for the worst group should decrease at lower coverage, we see that this is not the case - but rather that the worst group accuracy is very high (almost at ceiling) for low coverage. This seems to suggest that model training was *too* good such that it potentially was not affected by the spurious features added. Therefore, we investigate findings when using a simpler Keras model below. "
   ]
  },
  {
   "cell_type": "markdown",
   "metadata": {},
   "source": [
    "## 6b. Results for Keras Model"
   ]
  },
  {
   "cell_type": "code",
   "execution_count": null,
   "metadata": {},
   "outputs": [],
   "source": [
    "with warnings.catch_warnings():\n",
    "    warnings.simplefilter(\"ignore\")\n",
    "    fxn()\n",
    "    \n",
    "    # Plot margin subplots for RESNET\n",
    "    model_type = 'Keras'\n",
    "    # 90% group\n",
    "    keras_9_logits =  np.hstack((1.0 - predict_nn_9, predict_nn_9))\n",
    "    altered_labels_9 = X_test_9_altindices\n",
    "    confidence_keras_9 = confidence(keras_9_logits, y_test)\n",
    "    \n",
    "\n",
    "    # 70% group\n",
    "    keras_7_logits =  np.hstack((1.0 - predict_nn_7, predict_nn_7) )\n",
    "    altered_labels_7 = X_test_7_altindices\n",
    "    confidence_keras_7 = confidence(keras_7_logits, y_test)\n",
    "\n",
    "    # 50% group\n",
    "    keras_5_logits =  np.hstack((1.0 - predict_nn_5, predict_nn_5) )\n",
    "    altered_labels_5 = X_test_5_altindices\n",
    "    confidence_keras_5 = confidence(keras_5_logits, y_test)\n",
    "\n",
    "    # 30% group\n",
    "    keras_3_logits =  np.hstack((1.0 - predict_nn_3, predict_nn_3) )\n",
    "    altered_labels_3 = X_test_3_altindices\n",
    "    confidence_keras_3 = confidence(keras_3_logits, y_test)\n",
    "\n",
    "    plot_y_max = 200\n",
    "    ave_line_width = 2\n",
    "\n",
    "    sns.set_style('white')\n",
    "    fig, ax = plt.subplots(2, 2, figsize = (14, 9))\n",
    "    fig.tight_layout(pad = 5)\n",
    "    ax[0 , 0].hist(confidence_keras_9, label = 'full dataset', bins = 30, alpha = 0.5, color = 'blue')\n",
    "    ax[0 , 0].hist(np.array(confidence_keras_9)[worst_group_9], label = 'worst group', bins = 30, alpha = 0.8, color = 'red')\n",
    "    ax[0 , 0].set_title(\"Spurious correlations {}%\".format(90), fontsize = 14)\n",
    "    ax[0 , 0].set_xlabel('Margin', fontsize = 14)\n",
    "    ax[0 , 0].set_ylabel('Ave. Density', fontsize = 14)\n",
    "    ax[0 , 0].set_ylim([0, plot_y_max])\n",
    "    ax[0 , 0].axvline(np.mean(confidence_keras_9), color='b', linestyle='dashed', linewidth=ave_line_width)\n",
    "    ax[0 , 0].axvline(np.mean(np.array(confidence_keras_9)[worst_group_9]), color='r', linestyle='dashed', linewidth=ave_line_width)\n",
    "    ax[0 , 0].legend()\n",
    "\n",
    "    ax[0 , 1].hist(confidence_keras_7, label = 'full dataset', bins = 30, alpha = 0.5, color = 'blue')\n",
    "    ax[0 , 1].hist(np.array(confidence_keras_7)[worst_group_7], label = 'worst group', bins = 30, alpha = 0.8, color = 'red')\n",
    "    ax[0 , 1].set_title(\"Spurious correlations {}%\".format(70), fontsize = 14)\n",
    "    ax[0 , 1].set_xlabel('Margin', fontsize = 14)\n",
    "    ax[0 , 1].set_ylabel('Ave. Density', fontsize = 14)\n",
    "    ax[0 , 1].set_ylim([0, plot_y_max])\n",
    "    ax[0 , 1].axvline(np.mean(confidence_keras_7), color='b', linestyle='dashed', linewidth=ave_line_width)\n",
    "    ax[0 , 1].axvline(np.mean(np.array(confidence_keras_7)[worst_group_7]), color='r', linestyle='dashed', linewidth=ave_line_width)\n",
    "    ax[0 , 1].legend()\n",
    "\n",
    "    ax[1, 0].hist(confidence_keras_5, label = 'full dataset', bins = 30, alpha = 0.5, color = 'blue')\n",
    "    ax[1, 0].hist(np.array(confidence_keras_5)[worst_group_5], label = 'worst group', bins = 30, alpha = 0.8, color = 'red')\n",
    "    ax[1, 0].set_title(\"Spurious correlations {}%\".format(50), fontsize = 14)\n",
    "    ax[1, 0].set_xlabel('Margin', fontsize = 14)\n",
    "    ax[1, 0].set_ylabel('Ave. Density', fontsize = 14)\n",
    "    ax[1, 0].set_ylim([0, plot_y_max])\n",
    "    ax[1, 0].axvline(np.mean(confidence_keras_5), color='b', linestyle='dashed', linewidth=ave_line_width)\n",
    "    ax[1, 0].axvline(np.mean(np.array(confidence_keras_5)[worst_group_5]), color='r', linestyle='dashed', linewidth=ave_line_width)\n",
    "    ax[1, 0].legend()\n",
    "\n",
    "    ax[1, 1].hist(confidence_keras_3, label = 'full dataset', bins = 30, alpha = 0.5, color = 'blue')\n",
    "    ax[1, 1].hist(np.array(confidence_keras_3)[worst_group_3], label = 'worst group', bins = 30, alpha = 0.8, color = 'red')\n",
    "    ax[1, 1].set_title(\"Spurious correlations {}%\".format(30), fontsize = 14)\n",
    "    ax[1, 1].set_xlabel('Margin', fontsize = 14)\n",
    "    ax[1, 1].set_ylabel('Ave. Density', fontsize = 14)\n",
    "    ax[1, 1].set_ylim([0, plot_y_max])\n",
    "    ax[1, 1].axvline(np.mean(confidence_keras_3), color='b', linestyle='dashed', linewidth=ave_line_width)\n",
    "    ax[1, 1].axvline(np.mean(np.array(confidence_keras_3)[worst_group_3]), color='r', linestyle='dashed', linewidth=ave_line_width)\n",
    "    ax[1, 1].legend()\n",
    "\n",
    "    fig.suptitle('{} - Ave Density for Full Dataset and Worst Group'.format(model_type), fontsize=20)\n",
    "    plt.show()"
   ]
  },
  {
   "cell_type": "markdown",
   "metadata": {},
   "source": [
    "These plots present results that are more in line with the findings from Jones et al. (2021), such that the worst group has consistently worse performance than the average group. Of note, however, these models do not seem to be making many incorrect predictions - rather, the worst group predictions are simply less confident than the full dataset. It seems that the accuracy is close to ceiling for these models. "
   ]
  },
  {
   "cell_type": "code",
   "execution_count": null,
   "metadata": {},
   "outputs": [],
   "source": [
    "with warnings.catch_warnings():\n",
    "    warnings.simplefilter(\"ignore\")\n",
    "    fxn()\n",
    "    sns.set_style('white')\n",
    "    fig, ax = plt.subplots(2, 2, figsize = (14, 9))\n",
    "    fig.tight_layout(pad = 5)\n",
    "\n",
    "    tau = np.linspace(0, tau_max, 100)\n",
    "    full_coverage_9 = [coverage(np.array(confidence_keras_9), t) for t in tau]\n",
    "    full_accuracy_9 = [accuracy(np.array(confidence_keras_9), t) for t in tau]\n",
    "    worst_coverage_9 = [coverage(np.array(confidence_keras_9)[worst_group_9], t) for t in tau]\n",
    "    worst_accuracy_9 = [accuracy(np.array(confidence_keras_9)[worst_group_9], t) for t in tau]\n",
    "    \n",
    "    full_coverage_7 = [coverage(np.array(confidence_keras_7), t) for t in tau]\n",
    "    full_accuracy_7 = [accuracy(np.array(confidence_keras_7), t) for t in tau]\n",
    "    worst_coverage_7 = [coverage(np.array(confidence_keras_7)[worst_group_7], t) for t in tau]\n",
    "    worst_accuracy_7 = [accuracy(np.array(confidence_keras_7)[worst_group_7], t) for t in tau]\n",
    "    \n",
    "    full_coverage_5 = [coverage(np.array(confidence_keras_5), t) for t in tau]\n",
    "    full_accuracy_5 = [accuracy(np.array(confidence_keras_5), t) for t in tau]\n",
    "    worst_coverage_5 = [coverage(np.array(confidence_keras_5)[worst_group_5], t) for t in tau]\n",
    "    worst_accuracy_5 = [accuracy(np.array(confidence_keras_5)[worst_group_5], t) for t in tau]\n",
    "\n",
    "    full_coverage_3 = [coverage(np.array(confidence_keras_3), t) for t in tau]\n",
    "    full_accuracy_3 = [accuracy(np.array(confidence_keras_3), t) for t in tau]\n",
    "    worst_coverage_3 = [coverage(np.array(confidence_keras_3)[worst_group_3], t) for t in tau]\n",
    "    worst_accuracy_3 = [accuracy(np.array(confidence_keras_3)[worst_group_3], t) for t in tau]\n",
    "\n",
    "    ax[0,0].plot(full_coverage_9, full_accuracy_9, label = 'All data', color = 'blue')\n",
    "    ax[0,0].plot(worst_coverage_9, worst_accuracy_9, label = 'Worst group', color = 'red')\n",
    "    ax[0,0].set_xlabel('Coverage', fontsize = 14)\n",
    "    ax[0,0].set_ylabel('Accuracy', fontsize = 14)\n",
    "    ax[0,0].set_title(\"Spurious correlations {}%\".format(90), fontsize = 14)\n",
    "    ax[0,0].legend()\n",
    "    \n",
    "    ax[0,1].plot(full_coverage_7, full_accuracy_7, label = 'All data', color = 'blue')\n",
    "    ax[0,1].plot(worst_coverage_7, worst_accuracy_7, label = 'Worst group', color = 'red')\n",
    "    ax[0,1].set_xlabel('Coverage', fontsize = 14)\n",
    "    ax[0,1].set_ylabel('Accuracy', fontsize = 14)\n",
    "    ax[0,1].set_title(\"Spurious correlations {}%\".format(70), fontsize = 14)\n",
    "    ax[0,1].legend()\n",
    "    \n",
    "    ax[1,0].plot(full_coverage_5, full_accuracy_5, label = 'All data', color = 'blue')\n",
    "    ax[1,0].plot(worst_coverage_5, worst_accuracy_5, label = 'Worst group', color = 'red')\n",
    "    ax[1,0].set_xlabel('Coverage', fontsize = 14)\n",
    "    ax[1,0].set_ylabel('Accuracy', fontsize = 14)\n",
    "    ax[1,0].set_title(\"Spurious correlations {}%\".format(50), fontsize = 14)\n",
    "    ax[1,0].legend()\n",
    "    \n",
    "    ax[1,1].plot(full_coverage_3, full_accuracy_3, label = 'All data', color = 'blue')\n",
    "    ax[1,1].plot(worst_coverage_3, worst_accuracy_3, label = 'Worst group', color = 'red')\n",
    "    ax[1,1].set_xlabel('Coverage', fontsize = 14)\n",
    "    ax[1,1].set_ylabel('Accuracy', fontsize = 14)\n",
    "    ax[1,1].set_title(\"Spurious correlations {}%\".format(30), fontsize = 14)\n",
    "    ax[1,1].legend()\n",
    "    \n",
    "    fig.suptitle('Keras - Accuracy-Coverage Curves for All Data and Worst Group', fontsize=20)\n",
    "    plt.show()"
   ]
  },
  {
   "cell_type": "markdown",
   "metadata": {},
   "source": [
    "The first thing to note on these plots is the y-axis, which does not even dip below 0.98. Therefore, our suspicion that these models are at ceiling seems to be accurate, such that regardless of coverage, the full dataset and worst group seem to be predicted nearly perfectly. It is possible that our synthetic data was not complex enough to lead to inaccurate classifications, even with this simple model. "
   ]
  },
  {
   "cell_type": "markdown",
   "metadata": {},
   "source": [
    "## 7a. Conclusions and Final Evaluation\n",
    "\n",
    "In this paper, the authors claim that the results suggest that selective classification should be used with care and underscore the importance of training models to perform equally well across groups at full coverage. However, it seems that the results may rely on the dataset being particularly prone to spurious correlations and it is not clear that this phenomena is concerning across all domains that consider using selective classification. \n",
    "\n",
    "Consider our toy datasets and the addition of black boxes that are essentially meaningless in the context of the classification task. Whether or not an image contains an artificially added black box is not related to the number written in the image. In addition to developing better selective classification techniques that reduce group disparities at full coverage, it also seems natural to consider addressing problematic characteristics of the dataset. If there are in fact spurious correlations present in a given dataset, how meaningful are the correlations? In our toy example, we could simply remove the black boxes in order to avoid the contrasting result. This makes us wonder if there is a more naïve approach where practitioners better examine dataset characteristics before applying methodologies like selective classification in order to avoid these types of issues altogether.\n",
    "\n",
    "In our implementation, neither the ResNet nor the Keras models fully reproduced the problems identified by Jones and colleagues (2021). While the Keras models did seem to produce results that were more *consistent* with results from the paper, we were limited by a near-total absense of incorrect classifications. Of note, we purposely chose the digits 1 vs. 7 to increase \"difficulty\" of the problem (i.e., out of all the 10 digits, the digits 1 and 7 seem most similar to each other visually). However, this did not seem to cause problems with accurately classifying the digits, even with a simpler Keras model. \n",
    "\n",
    "In short, the experimental section of the paper could have explicitly dealt with dataset characteristics and responding to why this affect arises. We are still unclear if the results are the result of the model type of the specific datasets chosen in the paper. The paper could have benefited from stronger evaluation of the limitations of this affect.\n",
    "\n",
    "## 7b. Broader Impact\n",
    "\n",
    "Selective classification is meant to mitigate situations where the model makes inaccurate predictions on points. The entire point of selective classification is to offer the option of abstaining when the model is not confident and a prediction error is particularly costly. Consider high-stakes settings like criminal justice or medicine where inaccurate predictions result in real life human implications. In criminal justice, classification models that are used for example to predict whether a person should be eligible for bail based on how likely they are to re-offend need to be well formulated if used at all. If there are attributes correlated with the outcome (i.e. spurious correlations) and the selective classification ends up magnifying disparities in this context, then using the model to make decisions about someone's life is highly unethical. In medical settings where models might predict which patient receives treatment, magnifying disparate outcomes is particularly alarming. If selective classification is invoked to help mitigate these disparate outcomes, but is found to actually exasturbate them, these results are very important in terms of the broader societal impact.\n",
    "\n",
    "The stakeholders would depend on the setting. For criminal justice, the stakeholders include people up for bail decisions, judges and others involved in the decision making process. If the decision makers are unaware of the predictive confidence when using the model, they may wrongly associate too much confidence in the model. If the decision makers are made aware of selective classification and the option for the model to abstain, then this could result in the judge relying on domain and human knowledge to make the decision. There might also be individual circumstances that the model has not considered when making the decision. Consider a single mother who is up for bail and needs to be released in order to both care for her children but also make it to work in order to provide for her children. The judge deciding on her case should be very careful not to rely solely on the model's prediction, especially if it is inaccurate. Similarly, in the clinical setting, especially when it comes to mental health diagnosis, selective classification and abstaining on certain patients could be helpful to signal to the medical providers to take a second look at those patients. At the same time, overly confident predictions for certain patients could be damaging in its own way.\n",
    "\n",
    "When invoking selective classification as an option to abstain on certain predictions, there is a larger question around whether predictive models should be deployed at all in certain high-stakes settings with so much human impact. Even when trying to correct or mitigate the disparate impact of a model, it is important to come back to this question throughout the lifecycle of the model. As in, we should not take for granted the assumption that the model has to be used in any given setting in the first place.\n",
    "\n",
    "## 7c. Future work\n",
    "\n",
    "To build on our synthetic data analysis, future work should consider different types of synthetic datasets and multiclassification problems (we only consider the binary classification setting). Notice that the accuracy is very good for even the worst group in our example. Additional dataset types that may be more difficult to classify would be informative in terms of whether the magnification of disparate impacts is specific to settings where the accuracy is reasonable but not as good as ours.\n",
    "\n",
    "Finally, in the original paper, it is worth noting that none of the datasets seem particularly relevant to real-world application where bias and disparities are highly impactful (e.g., healthcare, predictive policing, criminal justice). The \"worst group\" is not underrepresented in the sense that individuals belonging to these groups experience social injustices, but rather in the sense that there are fewer examples of observations in this group (e.g., blond men being the \"worst group\" in `CelebA` dataset). While the framing of the paper encourages consideration of how selective classification can worsen group disparities, and this was demonstrated in various datasets, this finding would be much more compelling if it were applied in a dataset with meaningful real-world use cases. This would be an important future direction to inform building classification models in risk-adverse settings."
   ]
  },
  {
   "cell_type": "code",
   "execution_count": null,
   "metadata": {},
   "outputs": [],
   "source": []
  }
 ],
 "metadata": {
  "accelerator": "GPU",
  "colab": {
   "machine_shape": "hm",
   "name": "gen_data_PT.ipynb",
   "provenance": []
  },
  "kernelspec": {
   "display_name": "Python 3",
   "language": "python",
   "name": "python3"
  },
  "language_info": {
   "codemirror_mode": {
    "name": "ipython",
    "version": 3
   },
   "file_extension": ".py",
   "mimetype": "text/x-python",
   "name": "python",
   "nbconvert_exporter": "python",
   "pygments_lexer": "ipython3",
   "version": "3.7.8"
  }
 },
 "nbformat": 4,
 "nbformat_minor": 4
}
