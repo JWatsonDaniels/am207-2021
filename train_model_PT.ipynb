{
 "cells": [
  {
   "cell_type": "markdown",
   "metadata": {
    "id": "Pt9Bt291J76u"
   },
   "source": [
    "## Selective Classification Can Magnify Disparities Across Groups\n",
    "\n",
    "\n",
    "### AM207: Advanced Scientific Computing\n",
    "\n",
    "#### Team: Jamelle Watson-Daniels, Shirley Wang, Bridger Ruyle, Paul Tembo\n",
    "\n",
    "#### Paper: https://arxiv.org/pdf/2010.14134.pdf: "
   ]
  },
  {
   "cell_type": "markdown",
   "metadata": {},
   "source": [
    "### High Level Summary\n",
    "\n",
    "Selective classification performs predictions only when the model is highly confident in the outcome (for example, $p(y | x) > 0.5 + 𝛕$ for binary classifiers where $𝛕$ is a threshold chosen by the model user). Abstaining from prediction when the model is uncertain has nice properties including improving average and out of distribution accuracies. In this paper, the authors demonstrate that this phenomenon is theoretically guaranteed for models with confidence distributions that are left-log concave and right skewed (i.e. skewed towards correct predictions) and that accurately predict the outcome $>50\\%$ of the time. However, for models that do not accurately predict the outcome $>50\\%$ of the time, or for subgroups in larger models whose outcomes are poorly predicted, selective classification decreases predictive accuracy. This phenomenon is “an insidious failure mode” because selective classification will increasingly make wrong predictions with greater confidence, particularly for groups with poor accuracy at full coverage, thus magnifying between-group disparities. Even for subgroups that are accurately predicted $>50\\%$ of the time, selective classification improves accuracy for these groups at a slower rate compared to the overall model. Therefore selective classification can exacerbate inter-group disparities in model performance and raises concern for equity because disadvantaged or at-risk subgroups which may be most harmed by an incorrect prediction are often underrepresented in the overall dataset and therefore have lower accuracies than the model average. This can be particularly concerning in high-stakes applications (e.g., healthcare, criminal justice systems) where model bias and group disparities are already major issues. \n",
    "\n",
    "In the paper, the authors demonstrate this phenomenon on five datasets that are known to develop spurious correlations during training. They also discuss a potential way to mitigate this problem by training the model using group distributionally robust optimization which minimizes the worst-group training loss instead of the overall training loss for the dataset. In this method, the confidence distribution of the worst-group more closely matches the distribution of the overall model and thus selective classification affects both subgroups and the overall data equally. To use this approach you need to know group labels during training, but these labels can be removed during for testing/deployment.\n"
   ]
  },
  {
   "attachments": {},
   "cell_type": "markdown",
   "metadata": {},
   "source": [
    "### Project Overview\n",
    "\n",
    "The paper reports that selective classification can magnify existing group disparities particularly in the presence of spurious correlations demonstrating this behavior across five datasets. In this project, we examine the following question: what are the dataset characteristics the lead to the increased disparities? Because the paper notes the importance of spurious correlations, we bring our attention to varying levels of correlations. We consider the image classification setting and generate synthetic datasets with varying degrees of spurious correlations. Then, we analyze the margin distributions and the selective accuracy of both the overall dataset and the worst group. Ultimately, we compare these results for the varying degrees of spurious correlations to make conclusions about the importance of the dataset characteristics in obtaining the specific magnifying group disparities result."
   ]
  },
  {
   "attachments": {},
   "cell_type": "markdown",
   "metadata": {},
   "source": [
    "### Generating Synthetic Data\n",
    "\n",
    "The paper claims to consider datasets known to have spurious correlations. The image datasets used in the paper contain over 100,000 examples and are not practical for use in this project analysis. Therefore, we generate synthetic datasets derived from the MNIST dataset where we add spurious correlations of varying degrees. \n",
    "\n",
    "Specifically, we download the `mnist` dataset and select two numbers for the binary classification task. We introduce spurious attributes as filled in pixels added to the empty space on the upper left hand corner of a given image. These filled pixels can be thought of as boxes that will be correlated with one of the labels. In essence, a given label might then be correlated not only with the original written digit in the `mnist` dataset, but also with whether or not the image contains this added black box. In the training dataset, we add these black boxes to a percentage of the images with each label $Y \\in {0,1}$. To mimic the characteristics of the `celebA` dataset used in the paper, we keep the percentage of images with $Y = 0$ label constant at 8.5%. This means that we only add black boxes to 8.5% of training examples with the label $Y = 0$. We generate four datasets with different proportions of examples with the $Y = 1$ label altered: 30%, 50%, 70% and 90%. This results in spurious correlations between the added black box and the $Y = 1$ label.\n",
    "\n",
    "We consider the task of classifying digits 1 and 7. And we alter the data such that the digit 1 is spuriously correlated with the added black box. Concretely, inputs are `mnist` digits, labels are digit number Y = {1, 7}, and suprious attributes are black boxes, A = {present, absent}, with added black boxes associated with digit 7. Of the four groups, digit 1 with black boxes are the smallest group. "
   ]
  },
  {
   "cell_type": "code",
   "execution_count": 1,
   "metadata": {
    "id": "IRsgDeRzJ76z"
   },
   "outputs": [
    {
     "name": "stderr",
     "output_type": "stream",
     "text": [
      "/Users/WMP/.pyenv/versions/3.7.8/lib/python3.7/site-packages/pandas/compat/__init__.py:97: UserWarning: Could not import the lzma module. Your installed Python is incomplete. Attempting to use lzma compression will result in a RuntimeError.\n",
      "  warnings.warn(msg)\n"
     ]
    }
   ],
   "source": [
    "from autograd import grad\n",
    "import pandas as pd\n",
    "import numpy as np\n",
    "import random\n",
    "import matplotlib.pyplot as plt\n",
    "import tensorflow as tf\n",
    "from PIL import Image\n",
    "import os\n",
    "from sklearn.datasets import fetch_openml\n",
    "from sklearn.utils import check_random_state\n",
    "from sklearn.model_selection import train_test_split\n",
    "\n",
    "import seaborn as sns"
   ]
  },
  {
   "cell_type": "code",
   "execution_count": 2,
   "metadata": {
    "id": "Rx92mxAzJ760"
   },
   "outputs": [],
   "source": [
    "# Load data from https://www.openml.org/d/554\n",
    "X, y = fetch_openml('mnist_784', version = 1, return_X_y = True, as_frame = False)"
   ]
  },
  {
   "cell_type": "code",
   "execution_count": 3,
   "metadata": {
    "id": "yflBKwzpJ760"
   },
   "outputs": [],
   "source": [
    "# Pick out two classes of digits: 1, 7 and take a subset of samples \n",
    "X_subset = X[((y == '1') | (y == '7'))]\n",
    "y_subset = y[((y == '1') | (y == '7'))]\n",
    "\n",
    "# Encode the label '1' with y = 1, and the label '7' with y = 0\n",
    "y_subset[y_subset == '1'] = 1\n",
    "y_subset[y_subset == '7'] = 0\n",
    "y_subset = y_subset.astype(int)"
   ]
  },
  {
   "cell_type": "code",
   "execution_count": 4,
   "metadata": {
    "id": "I_wCfNC7J761"
   },
   "outputs": [],
   "source": [
    "# Split into training and testing sets\n",
    "# Following celebA: 80% training, 10% val, 10% test \n",
    "\n",
    "rand_seed = 123\n",
    "X_train, X_test_tot, y_train, y_test_tot = train_test_split(X_subset, y_subset, test_size = 0.2, random_state = rand_seed) # split out train\n",
    "X_val, X_test, y_val, y_test = train_test_split(X_test_tot, y_test_tot, test_size = 0.5, random_state = rand_seed) # split out validation set "
   ]
  },
  {
   "cell_type": "code",
   "execution_count": 5,
   "metadata": {
    "id": "qaPp0FA4K_Zz"
   },
   "outputs": [],
   "source": [
    "# save y_train, y_val, y_test labels in data folder\n",
    "\n",
    "np.savetxt('data/y_train.csv', y_train, delimiter = ',')\n",
    "np.savetxt('data/y_val.csv', y_val, delimiter = ',')\n",
    "np.savetxt('data/y_test.csv', y_test, delimiter = ',')"
   ]
  },
  {
   "cell_type": "code",
   "execution_count": 6,
   "metadata": {
    "colab": {
     "base_uri": "https://localhost:8080/",
     "height": 35
    },
    "id": "CFDVKxgcKexr",
    "outputId": "5e418186-455d-4073-cdd4-eb06209c5f16"
   },
   "outputs": [
    {
     "data": {
      "text/plain": [
       "'/Users/WMP/Documents/GitHub/am207-2021'"
      ]
     },
     "execution_count": 6,
     "metadata": {},
     "output_type": "execute_result"
    }
   ],
   "source": [
    "os.getcwd()"
   ]
  },
  {
   "cell_type": "code",
   "execution_count": 7,
   "metadata": {
    "colab": {
     "base_uri": "https://localhost:8080/",
     "height": 179
    },
    "id": "w3QorZyvJ762",
    "outputId": "304edb89-110a-47aa-df8a-32459834a1f3"
   },
   "outputs": [
    {
     "data": {
      "image/png": "[encoded data removed]",
      "text/plain": [
       "<Figure size 1800x288 with 20 Axes>"
      ]
     },
     "metadata": {},
     "output_type": "display_data"
    }
   ],
   "source": [
    "# Visualize some samples from the training dataset \n",
    "fig, ax = plt.subplots(2, 10, figsize = (25, 4))\n",
    "for i in range(10):\n",
    "    ax[0, i].imshow(X_train[y_train == 0][i].reshape((28, 28)), cmap = plt.cm.gray_r, interpolation = 'nearest')\n",
    "    ax[1, i].imshow(X_train[y_train == 1][i].reshape((28, 28)), cmap = plt.cm.gray_r, interpolation = 'nearest')"
   ]
  },
  {
   "cell_type": "code",
   "execution_count": 8,
   "metadata": {
    "id": "WOrfI5UGJ764"
   },
   "outputs": [],
   "source": [
    "# function to add a grey rectangular box to top left-hand corner of digit\n",
    "\n",
    "def add_spurious_ft(x_array, y_array, perc_spurious_1, perc_spurious_2):\n",
    "    '''\n",
    "    this function takes in x and y arrays, adds spurious features to some images, and returns \n",
    "    the altered image array, along with indices of the images that were altered. spurious features\n",
    "    include a grey box on the upper lefthand side of the image.\n",
    "    \n",
    "    x_array: array of shape (n_images, 784)\n",
    "    y_array: array of shape (n_images, )\n",
    "    perc_spurious_1: percent of digit 1 images to add spurious features to\n",
    "    perc_spurious_2: percent of digit 1 images to add spurious features to\n",
    "\n",
    "    returns: \n",
    "        altered image array\n",
    "        indices of altered images (0 = not altered, 1 = altered)\n",
    "    '''\n",
    "    \n",
    "    indices_1 = np.asarray(np.where(y_train == 1)).reshape(-1) # indices where digit = 1 \n",
    "    indices_2 = np.asarray(np.where(y_train == 0)).reshape(-1) # indices where digit = 2 \n",
    "    \n",
    "    num_digit_1 = len(indices_1) # number of digit 1 images \n",
    "    num_digit_2 = len(indices_2) # number of digit 2 images \n",
    "\n",
    "    num_alter_1 = int(perc_spurious_1 * num_digit_1) # number of digit 1 images to alter\n",
    "    num_alter_2 = int(perc_spurious_2 * num_digit_2) # number of digit 2 images to alter\n",
    "    \n",
    "    np.random.seed(123)\n",
    "    rand_indices_1 = np.random.choice(len(indices_1), size = num_alter_1, replace = False) \n",
    "    rand_indices_2 = np.random.choice(len(indices_2), size = num_alter_2, replace = False) \n",
    "    \n",
    "    grey_boxes = np.r_[0:15, 28:43, 56:71]\n",
    "    altered_imgs = x_array\n",
    "    \n",
    "    image_altered = []\n",
    "    \n",
    "    for i in range(len(altered_imgs)):\n",
    "        \n",
    "        # alter digit 2 images \n",
    "        if y_train[i] == 0:\n",
    "            if i in rand_indices_2:\n",
    "                altered_imgs[i][grey_boxes] = np.array([256] * len(grey_boxes))\n",
    "                image_altered.append(1) # 1 = altered \n",
    "            else:\n",
    "                image_altered.append(0) # 0 = not altered\n",
    "        \n",
    "        # alter digit 1 images \n",
    "        elif y_train[i] == 1:\n",
    "            if i in rand_indices_1:\n",
    "                altered_imgs[i][grey_boxes] = np.array([256] * len(grey_boxes))\n",
    "                image_altered.append(1)\n",
    "            else: \n",
    "                image_altered.append(0)\n",
    "    \n",
    "    return altered_imgs, np.array(image_altered)"
   ]
  },
  {
   "cell_type": "code",
   "execution_count": 9,
   "metadata": {
    "id": "BXqXhZHAJ764"
   },
   "outputs": [],
   "source": [
    "# test to see if the function works \n",
    "test_altered_imgs, test_altered_indices = add_spurious_ft(X_train, y_train, 0.085, 0.7)"
   ]
  },
  {
   "cell_type": "code",
   "execution_count": 10,
   "metadata": {
    "colab": {
     "base_uri": "https://localhost:8080/",
     "height": 179
    },
    "id": "phyaUoBfJ765",
    "outputId": "536fd8b2-c394-4c32-f13c-9968f89f8cd7"
   },
   "outputs": [
    {
     "data": {
      "image/png": "[encoded data removed]",
      "text/plain": [
       "<Figure size 1800x288 with 20 Axes>"
      ]
     },
     "metadata": {},
     "output_type": "display_data"
    }
   ],
   "source": [
    "# Visualize some samples from the altered training dataset. more 2's with spurious features than 1's. seems to work! \n",
    "fig, ax = plt.subplots(2, 10, figsize = (25, 4))\n",
    "for i in range(10):\n",
    "    ax[0, i].imshow(test_altered_imgs[y_train == 0][i].reshape((28, 28)), cmap = plt.cm.gray_r, interpolation = 'nearest')\n",
    "    ax[1, i].imshow(test_altered_imgs[y_train == 1][i].reshape((28, 28)), cmap = plt.cm.gray_r, interpolation = 'nearest')"
   ]
  },
  {
   "cell_type": "markdown",
   "metadata": {
    "id": "KCb_8pNrJ766"
   },
   "source": [
    "#### Generate 4 Sets of Image Datasets (Train, Val, Test): \n",
    "\n",
    "`X_train_9`, `X_val_9`, `X_test_9`: 90% spurious features in digit 2; 8.5% spurious features in digit 1.\n",
    "\n",
    "`X_train_7`, `X_val_7`, `X_test_7`: 70% spurious features in digit 2; 8.5% spurious features in digit 1.\n",
    "\n",
    "`X_train_5`, `X_val_5`, `X_test_5`: 50% spurious features in digit 2; 8.5% spurious features in digit 1.\n",
    "\n",
    "`X_train_3`, `X_val_3`, `X_test_3`: 30% spurious features in digit 2; 8.5% spurious features in digit 1."
   ]
  },
  {
   "cell_type": "code",
   "execution_count": 11,
   "metadata": {
    "id": "kHnBa-BUJ766"
   },
   "outputs": [],
   "source": [
    "pct_label_0 = 0.085\n",
    "# 90% spurious in digit 7 \n",
    "X_train_9, X_train_9_altindices = add_spurious_ft(X_train, y_train, pct_label_0, 0.9)\n",
    "X_val_9, X_val_9_altindices = add_spurious_ft(X_val, y_val, pct_label_0, 0.9)\n",
    "X_test_9, X_test_9_altindices = add_spurious_ft(X_test, y_test, pct_label_0, 0.9)\n",
    "\n",
    "# 70% spurious in digit 7 \n",
    "X_train_7, X_train_7_altindices = add_spurious_ft(X_train, y_train, pct_label_0, 0.7)\n",
    "X_val_7, X_val_7_altindices = add_spurious_ft(X_val, y_val, pct_label_0, 0.7)\n",
    "X_test_7, X_test_7_altindices = add_spurious_ft(X_test, y_test, pct_label_0, 0.7)\n",
    "\n",
    "# 50% spurious in digit 7\n",
    "X_train_5, X_train_5_altindices = add_spurious_ft(X_train, y_train, pct_label_0, 0.5)\n",
    "X_val_5, X_val_5_altindices = add_spurious_ft(X_val, y_val, pct_label_0, 0.5)\n",
    "X_test_5, X_test_5_altindices = add_spurious_ft(X_test, y_test, pct_label_0, 0.5)\n",
    "\n",
    "# 30% spurious in digit7\n",
    "X_train_3, X_train_3_altindices = add_spurious_ft(X_train, y_train, pct_label_0, 0.3)\n",
    "X_val_3, X_val_3_altindices = add_spurious_ft(X_val, y_val, pct_label_0, 0.3)\n",
    "X_test_3, X_test_3_altindices = add_spurious_ft(X_test, y_test, pct_label_0, 0.3)"
   ]
  },
  {
   "cell_type": "code",
   "execution_count": 12,
   "metadata": {
    "id": "FC4FV6fNJ767"
   },
   "outputs": [],
   "source": [
    "# save altered indices labels \n",
    "\n",
    "np.savetxt('data/altered_index_train_9.csv', X_train_9_altindices, delimiter = ',')\n",
    "np.savetxt('data/altered_index_val_9.csv', X_val_9_altindices, delimiter = ',')\n",
    "np.savetxt('data/altered_index_test_9.csv', X_test_9_altindices, delimiter = ',')\n",
    "\n",
    "np.savetxt('data/altered_index_train_7.csv', X_train_7_altindices, delimiter = ',')\n",
    "np.savetxt('data/altered_index_val_7.csv', X_val_7_altindices, delimiter = ',')\n",
    "np.savetxt('data/altered_index_test_7.csv', X_test_7_altindices, delimiter = ',')\n",
    "\n",
    "np.savetxt('data/altered_index_train_5.csv', X_train_5_altindices, delimiter = ',')\n",
    "np.savetxt('data/altered_index_val_5.csv', X_val_5_altindices, delimiter = ',')\n",
    "np.savetxt('data/altered_index_test_5.csv', X_test_5_altindices, delimiter = ',')\n",
    "\n",
    "np.savetxt('data/altered_index_train_3.csv', X_train_3_altindices, delimiter = ',')\n",
    "np.savetxt('data/altered_index_val_3.csv', X_val_3_altindices, delimiter = ',')\n",
    "np.savetxt('data/altered_index_test_3.csv', X_test_3_altindices, delimiter = ',')"
   ]
  },
  {
   "cell_type": "code",
   "execution_count": null,
   "metadata": {
    "id": "G5_fTKA3J767"
   },
   "outputs": [],
   "source": [
    "# try to save x_arrays \n",
    "# the code below doesn't run so I am commenting it out - Jamelle note Dec 9, 2021 @ 2pm ET\n",
    "\n",
    "# np.savetxt('data/x_array/X_train_9.csv', X_train_9, delimiter = ',')\n",
    "# np.savetxt('data/x_array/X_val_9.csv', X_val_9, delimiter = ',')\n",
    "# np.savetxt('data/x_array/X_test_9.csv', X_test_9, delimiter = ',')\n",
    "\n",
    "# np.savetxt('data/x_array/X_train_7.csv', X_train_7, delimiter = ',')\n",
    "# np.savetxt('data/x_array/X_val_7.csv', X_val_7, delimiter = ',')\n",
    "# np.savetxt('data/x_array/X_test_7.csv', X_test_7, delimiter = ',')\n",
    "\n",
    "# np.savetxt('data/x_array/X_train_5.csv', X_train_5, delimiter = ',')\n",
    "# np.savetxt('data/x_array/X_val_5.csv', X_val_5, delimiter = ',')\n",
    "# np.savetxt('data/x_array/X_test_5.csv', X_test_5, delimiter = ',')\n",
    "\n",
    "# np.savetxt('data/x_array/X_train_3.csv', X_train_3, delimiter = ',')\n",
    "# np.savetxt('data/x_array/X_val_3.csv', X_val_3, delimiter = ',')\n",
    "# np.savetxt('data/x_array/X_test_3.csv', X_test_3, delimiter = ',')"
   ]
  },
  {
   "attachments": {},
   "cell_type": "markdown",
   "metadata": {
    "id": "l2ygmt6RKWki"
   },
   "source": [
    "### Analysis\n",
    "\n",
    "We develop a neural network to classify the images in the four datasets produced. Designing the architecture of the model took time as we tried to replicate the trends of the paper. Once we train a model for each of the four datasets, we investigate the margin distributions and the accuracy coverage curve to compare our results with those in the paper.\n",
    "\n",
    "### Training the Model\n",
    "\n",
    "To prepare the synthetic data for a ResNet NN, we perform some data processing."
   ]
  },
  {
   "cell_type": "code",
   "execution_count": 13,
   "metadata": {
    "colab": {
     "base_uri": "https://localhost:8080/"
    },
    "id": "s-UqGzOKLcAL",
    "outputId": "55444cce-a129-4a4f-c140-157e4c4dbe37"
   },
   "outputs": [],
   "source": [
    "# # # Reshape the datasets\n",
    "# 90% spurious in digit 2 reshaped\n",
    "X_train_9_reshaped = X_train_9.reshape((X_train_9.shape[0], 28, 28))\n",
    "X_val_9_reshaped = X_val_9.reshape((X_val_9.shape[0], 28, 28))\n",
    "X_test_9_reshaped = X_test_9.reshape((X_test_9.shape[0], 28, 28))\n",
    "\n",
    "# # 70% spurious in digit 2 reshaped\n",
    "X_train_7_reshaped = X_train_7.reshape((X_train_7.shape[0], 28, 28))\n",
    "X_val_7_reshaped = X_val_7.reshape((X_val_7.shape[0], 28, 28))\n",
    "X_test_7_reshaped = X_test_7.reshape((X_test_7.shape[0], 28, 28))\n",
    "\n",
    "\n",
    "# # 50% spurious in digit 2 reshaped\n",
    "X_train_5_reshaped = X_train_5.reshape((X_train_5.shape[0], 28, 28))\n",
    "X_val_5_reshaped = X_val_5.reshape((X_val_5.shape[0], 28, 28))\n",
    "X_test_5_reshaped = X_test_5.reshape((X_test_5.shape[0], 28, 28))\n",
    "\n",
    "\n",
    "# # 30% spurious in digit 2 reshaped\n",
    "X_train_3_reshaped = X_train_3.reshape((X_train_3.shape[0], 28, 28))\n",
    "X_val_3_reshaped = X_val_3.reshape((X_val_3.shape[0], 28, 28))\n",
    "X_test_3_reshaped = X_test_3.reshape((X_test_3.shape[0], 28, 28))\n",
    "\n",
    "# # # Exapand the datasets\n",
    "# expand new axis, channel axis \n",
    "x_train_x9 = np.expand_dims(X_train_9_reshaped, axis = -1)\n",
    "x_test_x9 = np.expand_dims(X_test_9_reshaped, axis = -1)\n",
    "x_val_x9 = np.expand_dims(X_val_9_reshaped, axis = -1)\n",
    "\n",
    "x_train_x7 = np.expand_dims(X_train_7_reshaped, axis = -1)\n",
    "x_test_x7 = np.expand_dims(X_test_7_reshaped, axis = -1)\n",
    "x_val_x7 = np.expand_dims(X_val_7_reshaped, axis = -1)\n",
    "\n",
    "x_train_x5 = np.expand_dims(X_train_5_reshaped, axis = -1)\n",
    "x_test_x5 = np.expand_dims(X_test_5_reshaped, axis = -1)\n",
    "x_val_x5 = np.expand_dims(X_val_5_reshaped, axis = -1)\n",
    "\n",
    "x_train_x3 = np.expand_dims(X_train_3_reshaped, axis = -1)\n",
    "x_test_x3 = np.expand_dims(X_test_3_reshaped, axis = -1)\n",
    "x_val_x3 = np.expand_dims(X_val_3_reshaped, axis = -1)\n",
    "\n",
    "# We need 3 channel (instead of 1)\n",
    "channel_num = 3\n",
    "x_train_x9 = np.repeat(x_train_x9, channel_num, axis = -1)\n",
    "x_test_x9 = np.repeat(x_test_x9, channel_num, axis = -1)\n",
    "x_val_x9 = np.repeat(x_val_x9, channel_num, axis = -1)\n",
    "\n",
    "x_train_x7 = np.repeat(x_train_x7, channel_num, axis = -1)\n",
    "x_test_x7 = np.repeat(x_test_x7, channel_num, axis = -1)\n",
    "x_val_x7 = np.repeat(x_val_x7, channel_num, axis = -1)\n",
    "\n",
    "x_train_x5 = np.repeat(x_train_x5, channel_num, axis = -1)\n",
    "x_test_x5 = np.repeat(x_test_x5, channel_num, axis = -1)\n",
    "x_val_x5 = np.repeat(x_val_x5, channel_num, axis = -1)\n",
    "\n",
    "x_train_x3 = np.repeat(x_train_x3, channel_num, axis = -1)\n",
    "x_test_x3 = np.repeat(x_test_x3, channel_num, axis = -1)\n",
    "x_val_x3 = np.repeat(x_val_x3, channel_num, axis = -1)\n",
    "\n",
    "# normalize \n",
    "normalization = 255\n",
    "x_train_x9 = x_train_x9.astype('float32') / normalization\n",
    "x_test_x9 = x_test_x9.astype('float32') / normalization\n",
    "x_val_x9 = x_val_x9.astype('float32') / normalization\n",
    "\n",
    "x_train_x7 = x_train_x7.astype('float32') / normalization\n",
    "x_test_x7 = x_test_x7.astype('float32') / normalization\n",
    "x_val_x7 = x_val_x7.astype('float32') / normalization\n",
    "\n",
    "x_train_x5 = x_train_x5.astype('float32') / normalization\n",
    "x_test_x5 = x_test_x5.astype('float32') / normalization\n",
    "x_val_x5 = x_val_x5.astype('float32') / normalization\n",
    "x_train_x3 = x_train_x3.astype('float32') / normalization\n",
    "x_test_x3 = x_test_x3.astype('float32') / normalization\n",
    "x_val_x3 = x_val_x3.astype('float32') / normalization\n",
    "\n",
    "# resize the input shape , i.e. old shape: 28, new shape: 32\n",
    "input_shape = 32\n",
    "x_train_x9 = tf.image.resize(x_train_x9, [input_shape, input_shape]) \n",
    "x_test_x9 = tf.image.resize(x_test_x9, [input_shape, input_shape]) \n",
    "x_val_x9 = tf.image.resize(x_val_x9, [input_shape, input_shape])  \n",
    "\n",
    "x_train_x7 = tf.image.resize(x_train_x7, [input_shape, input_shape]) \n",
    "x_test_x7 = tf.image.resize(x_test_x7, [input_shape, input_shape]) \n",
    "x_val_x7 = tf.image.resize(x_val_x7, [input_shape, input_shape]) \n",
    "\n",
    "x_train_x5 = tf.image.resize(x_train_x5, [input_shape, input_shape]) \n",
    "x_test_x5 = tf.image.resize(x_test_x5, [input_shape, input_shape]) \n",
    "x_val_x5 = tf.image.resize(x_val_x5, [input_shape, input_shape])  \n",
    "\n",
    "x_train_x3 = tf.image.resize(x_train_x3, [input_shape, input_shape]) \n",
    "x_test_x3 = tf.image.resize(x_test_x3, [input_shape, input_shape])  \n",
    "x_val_x3 = tf.image.resize(x_val_x3, [input_shape, input_shape]) "
   ]
  },
  {
   "cell_type": "code",
   "execution_count": 17,
   "metadata": {},
   "outputs": [],
   "source": [
    "# define the number of epochs here. For testing, we can use 1?\n",
    "num_epochs = 10"
   ]
  },
  {
   "cell_type": "code",
   "execution_count": 18,
   "metadata": {},
   "outputs": [],
   "source": [
    "def train_resnet_model(x_train, y_train, x_val, y_val, x_test):\n",
    "    ''' This function loads the ResNet with preset weights, adds three layers, and fits the model.\n",
    "    parameters\n",
    "    ------\n",
    "    \n",
    "    returns\n",
    "    ------\n",
    "    history , predict : fitted model, predictions on train\n",
    "    '''\n",
    "    inputs = tf.keras.Input(shape = (input_shape, input_shape, 3))\n",
    "    \n",
    "    # Load ResNet with preset weights from \"imagenet\" training\n",
    "    base_model = tf.keras.applications.ResNet50(\n",
    "        input_tensor = inputs,\n",
    "        include_top = False,\n",
    "        weights = 'imagenet'\n",
    "    )\n",
    "\n",
    "    base_model.traninable = False\n",
    "    \n",
    "    # add additional layers\n",
    "#         Add three layers at the end of ResNet:\n",
    "#         A global average 2d pooling layer\n",
    "#         A dropout layer\n",
    "#         And a trainable binary classifier equivalent to the one that predicts spurious feature\n",
    "    add_model = tf.keras.Sequential()\n",
    "    add_model.add(base_model)\n",
    "    add_model.add(tf.keras.layers.GlobalAveragePooling2D())\n",
    "    add_model.add(tf.keras.layers.Dropout(0.2))\n",
    "    add_model.add(tf.keras.layers.Dense(2, \n",
    "                        activation='softmax'))\n",
    "    \n",
    "    # instantiate model for prediction\n",
    "    model = add_model\n",
    "    model.compile(loss='sparse_categorical_crossentropy', \n",
    "                  optimizer='sgd',\n",
    "                  metrics=['accuracy'])\n",
    "    \n",
    "    history = model.fit(x = x_train, y = y_train, validation_data = (x_val, y_val), epochs = num_epochs)\n",
    "\n",
    "    predict = model.predict(x_test)\n",
    "    \n",
    "    return history, predict    "
   ]
  },
  {
   "cell_type": "code",
   "execution_count": 19,
   "metadata": {},
   "outputs": [
    {
     "name": "stdout",
     "output_type": "stream",
     "text": [
      "Epoch 1/10\n",
      "380/380 [==============================] - 280s 729ms/step - loss: 0.1378 - accuracy: 0.9558 - val_loss: 0.8084 - val_accuracy: 0.5208\n",
      "Epoch 2/10\n",
      "380/380 [==============================] - 274s 722ms/step - loss: 0.0172 - accuracy: 0.9957 - val_loss: 0.2523 - val_accuracy: 0.8761\n",
      "Epoch 3/10\n",
      "380/380 [==============================] - 270s 712ms/step - loss: 0.0090 - accuracy: 0.9968 - val_loss: 0.0131 - val_accuracy: 0.9960\n",
      "Epoch 4/10\n",
      "380/380 [==============================] - 279s 735ms/step - loss: 0.0071 - accuracy: 0.9982 - val_loss: 1.6686 - val_accuracy: 0.7666\n",
      "Epoch 5/10\n",
      "380/380 [==============================] - 287s 755ms/step - loss: 0.0301 - accuracy: 0.9914 - val_loss: 0.0118 - val_accuracy: 0.9980\n",
      "Epoch 6/10\n",
      "380/380 [==============================] - 273s 718ms/step - loss: 0.0080 - accuracy: 0.9977 - val_loss: 0.0093 - val_accuracy: 0.9974\n",
      "Epoch 7/10\n",
      "380/380 [==============================] - 278s 732ms/step - loss: 0.0050 - accuracy: 0.9984 - val_loss: 0.0073 - val_accuracy: 0.9980\n",
      "Epoch 8/10\n",
      "380/380 [==============================] - 277s 728ms/step - loss: 0.0070 - accuracy: 0.9987 - val_loss: 0.0119 - val_accuracy: 0.9974\n",
      "Epoch 9/10\n",
      "380/380 [==============================] - 276s 726ms/step - loss: 0.0026 - accuracy: 0.9989 - val_loss: 0.0237 - val_accuracy: 0.9960\n",
      "Epoch 10/10\n",
      "380/380 [==============================] - 275s 723ms/step - loss: 0.0042 - accuracy: 0.9984 - val_loss: 0.0116 - val_accuracy: 0.9980\n"
     ]
    }
   ],
   "source": [
    "# train ResNet model with 90% spurious correlation\n",
    "history_9, predict_9 = train_resnet_model(x_train = x_train_x9,\n",
    "                                          y_train = y_train,\n",
    "                                          x_val = x_val_x9,\n",
    "                                          y_val = y_val, \n",
    "                                          x_test = x_test_x9)\n",
    "\n",
    "# The below line only runs if we already have an existing file with that name.\n",
    "# It may not be needed in the combined notebook with all our results.\n",
    "# np.savetxt('data/prediction/RESNET_predict_9.csv', predict_9, delimiter = ',')"
   ]
  },
  {
   "cell_type": "code",
   "execution_count": null,
   "metadata": {},
   "outputs": [],
   "source": [
    "# train Resnet model with 70% spurious correlation\n",
    "history_7, predict_7 = train_resnet_model(x_train = x_train_x7,\n",
    "                                          y_train = y_train,\n",
    "                                          x_val = x_val_x7,\n",
    "                                          y_val = y_val, \n",
    "                                          x_test = x_test_x7)\n",
    "\n",
    "\n",
    "# np.savetxt('data/prediction/RESNET_predict_7.csv', predict_7, delimiter = ',')"
   ]
  },
  {
   "cell_type": "code",
   "execution_count": null,
   "metadata": {},
   "outputs": [],
   "source": [
    "# train Resnet model with 50% spurious correlation\n",
    "history_5, predict_5 = train_resnet_model(x_train = x_train_x5,\n",
    "                                          y_train = y_train,\n",
    "                                          x_val = x_val_x5,\n",
    "                                          y_val = y_val, \n",
    "                                          x_test = x_test_x5)\n",
    "\n",
    "# np.savetxt('data/prediction/RESNET_predict_5.csv', predict_5, delimiter = ',')"
   ]
  },
  {
   "cell_type": "code",
   "execution_count": null,
   "metadata": {},
   "outputs": [],
   "source": [
    "# train Resnet model with 30% spurious correlation\n",
    "history_3, predict_3 = train_resnet_model(x_train = x_train_x3,\n",
    "                                          y_train = y_train,\n",
    "                                          x_val = x_val_x3,\n",
    "                                          y_val = y_val, \n",
    "                                          x_test = x_test_x3)\n",
    "\n",
    "# np.savetxt('data/prediction/RESNET_predict_3.csv', predict_3, delimiter = ',')"
   ]
  },
  {
   "cell_type": "markdown",
   "metadata": {
    "id": "lnq0shSxZc8i"
   },
   "source": [
    "### In comparison to ResNet, Train a simple 2 layer NN via Keras"
   ]
  },
  {
   "cell_type": "code",
   "execution_count": null,
   "metadata": {
    "id": "4av5AUb0Znuw"
   },
   "outputs": [],
   "source": [
    "# # # Train keras model with 90% spurious correlation dataset\n",
    "reg_model_9 = tf.keras.models.Sequential([tf.keras.layers.Flatten(input_shape = (input_shape, input_shape,3)), \n",
    "                                    tf.keras.layers.Dense(128, activation = tf.nn.relu), \n",
    "                                    tf.keras.layers.Dense(1, activation = tf.nn.sigmoid)])"
   ]
  },
  {
   "cell_type": "code",
   "execution_count": null,
   "metadata": {
    "colab": {
     "base_uri": "https://localhost:8080/"
    },
    "id": "-e1DijNkZygv",
    "outputId": "eec2a59d-64c6-4b60-c060-252a03c1f5c4"
   },
   "outputs": [],
   "source": [
    "reg_model_9.summary()"
   ]
  },
  {
   "cell_type": "code",
   "execution_count": null,
   "metadata": {
    "colab": {
     "base_uri": "https://localhost:8080/"
    },
    "id": "yWcNKY6iandp",
    "outputId": "ee473537-2873-47dc-cd34-8af4f8a753cf"
   },
   "outputs": [],
   "source": [
    "reg_model_9.compile(optimizer ='sgd',\n",
    "              loss = 'binary_crossentropy',\n",
    "              metrics=['accuracy'])\n",
    "\n",
    "# model 9 regular 2 layer rnn compile and fit\n",
    "reg_model_9_history = reg_model_9.fit(x = x_train_x9,\n",
    "                                      y = y_train,\n",
    "                                      validation_data = (x_val_x9, y_val), \n",
    "                                      epochs = num_epochs)\n",
    "\n",
    "\n",
    "predict_nn_9 = reg_model_9.predict(x_test_x9)\n",
    "\n",
    "# np.savetxt('data/prediction/NN_predict_9.csv', predict_nn_9, delimiter = ',')"
   ]
  },
  {
   "cell_type": "code",
   "execution_count": null,
   "metadata": {
    "id": "vWrM_mdNZ0Mr"
   },
   "outputs": [],
   "source": [
    "# # # Train keras model with 70% spurious correlation dataset\n",
    "reg_model_7 = tf.keras.models.Sequential([tf.keras.layers.Flatten(input_shape = (input_shape, input_shape,3)), \n",
    "                                    tf.keras.layers.Dense(128, activation=tf.nn.relu), \n",
    "                                    tf.keras.layers.Dense(1, activation=tf.nn.sigmoid)])"
   ]
  },
  {
   "cell_type": "code",
   "execution_count": null,
   "metadata": {
    "colab": {
     "base_uri": "https://localhost:8080/"
    },
    "id": "_L_2Ap9VaFwj",
    "outputId": "2699ca92-3774-4ac2-c730-e8879fbc4325"
   },
   "outputs": [],
   "source": [
    "reg_model_7.summary()"
   ]
  },
  {
   "cell_type": "code",
   "execution_count": null,
   "metadata": {
    "colab": {
     "base_uri": "https://localhost:8080/"
    },
    "id": "g9uz0DTabPuB",
    "outputId": "4bbd642c-0ee2-45d8-c1f8-fcae87c105ff"
   },
   "outputs": [],
   "source": [
    "reg_model_7.compile(optimizer ='sgd',\n",
    "              loss = 'binary_crossentropy',\n",
    "              metrics=['accuracy'])\n",
    "\n",
    "# model 7 regular 2 layer rnn compile and fit\n",
    "reg_model_7_history = reg_model_7.fit(x=x_train_x7,y=y_train, validation_data=(x_val_x7, y_val), epochs=10)\n",
    "\n",
    "\n",
    "predict_nn_7 = reg_model_7.predict(x_test_x7)\n",
    "\n",
    "# np.savetxt('data/prediction/NN_predict_7.csv', predict_nn_7, delimiter = ',')"
   ]
  },
  {
   "cell_type": "code",
   "execution_count": null,
   "metadata": {
    "id": "lSIXZLH4Z2yZ"
   },
   "outputs": [],
   "source": [
    "# # # Train keras model with 50% spurious correlation dataset\n",
    "reg_model_5 = tf.keras.models.Sequential([tf.keras.layers.Flatten(input_shape = (input_shape, input_shape, 3)), \n",
    "                                    tf.keras.layers.Dense(128, activation=tf.nn.relu), \n",
    "                                    tf.keras.layers.Dense(1, activation=tf.nn.sigmoid)])"
   ]
  },
  {
   "cell_type": "code",
   "execution_count": null,
   "metadata": {
    "colab": {
     "base_uri": "https://localhost:8080/"
    },
    "id": "XLh6HjixaG1e",
    "outputId": "c0e6ac0e-6570-4500-cdb6-cf6f49697a8b"
   },
   "outputs": [],
   "source": [
    "reg_model_5.summary()"
   ]
  },
  {
   "cell_type": "code",
   "execution_count": null,
   "metadata": {
    "colab": {
     "base_uri": "https://localhost:8080/"
    },
    "id": "OZw7Chdjbo3T",
    "outputId": "9adbc2de-0757-477a-dd73-5b08b38e024d"
   },
   "outputs": [],
   "source": [
    "reg_model_5.compile(optimizer ='sgd',\n",
    "              loss = 'binary_crossentropy',\n",
    "              metrics=['accuracy'])\n",
    "\n",
    "# model 5 regular 2 layer rnn compile and fit\n",
    "reg_model_5_history = reg_model_5.fit(x=x_train_x5,y=y_train, validation_data=(x_val_x5, y_val), epochs=10)\n",
    "\n",
    "\n",
    "predict_nn_5 = reg_model_5.predict(x_test_x5)\n",
    "\n",
    "# np.savetxt('data/prediction/NN_predict_5.csv', predict_nn_5, delimiter = ',')"
   ]
  },
  {
   "cell_type": "code",
   "execution_count": null,
   "metadata": {
    "id": "nbeCvDdsZ-Bh"
   },
   "outputs": [],
   "source": [
    "# # # Train keras model with 30% spurious correlation dataset\n",
    "reg_model_3 = tf.keras.models.Sequential([tf.keras.layers.Flatten(input_shape = (input_shape, input_shape,3)), \n",
    "                                    tf.keras.layers.Dense(128, activation=tf.nn.relu), \n",
    "                                    tf.keras.layers.Dense(1, activation=tf.nn.sigmoid)])"
   ]
  },
  {
   "cell_type": "code",
   "execution_count": null,
   "metadata": {
    "colab": {
     "base_uri": "https://localhost:8080/"
    },
    "id": "GX2GBC1RaHz5",
    "outputId": "4bf41070-fca9-4f35-963f-fd04f2ba87ef"
   },
   "outputs": [],
   "source": [
    "reg_model_3.summary()"
   ]
  },
  {
   "cell_type": "code",
   "execution_count": null,
   "metadata": {
    "colab": {
     "base_uri": "https://localhost:8080/"
    },
    "id": "6P8IwkNhbqTJ",
    "outputId": "bd4c6558-a616-4517-db21-f344e05199e0"
   },
   "outputs": [],
   "source": [
    "reg_model_3.compile(optimizer ='sgd',\n",
    "              loss = 'binary_crossentropy',\n",
    "              metrics=['accuracy'])\n",
    "\n",
    "# model 3 regular 2 layer rnn compile and fit\n",
    "reg_model_3_history = reg_model_3.fit(x=x_train_x3,y=y_train, validation_data=(x_val_x3, y_val), epochs=10)\n",
    "\n",
    "\n",
    "predict_nn_3 = reg_model_3.predict(x_test_x3)\n",
    "\n",
    "# np.savetxt('data/prediction/NN_predict_3.csv', predict_nn_3, delimiter = ',')"
   ]
  },
  {
   "cell_type": "markdown",
   "metadata": {},
   "source": [
    "### Findings\n",
    "\n",
    "First, we plot the margin distribution, which captures the model’s confidences across all predictions and\n",
    "determines which examples it abstains on at each threshold. Formally, a selective classifier that makes prediction, $\\hat{y}$ on a point $x$ with a confidence $\\hat{c}$ is evaluated based on some confidence threshold $\\tau$. The margin distribution is a plot of the confidence margin on the $x$ axis and the density of points on the $y$ axis. The region of the plot that falls between $-\\tau$ and $+\\tau$ are points where the classifier abstains. We plot the overall margin distribution as well as the margin distribution of the worst group.\n",
    "\n",
    "When we vary this confidence threshold, $\\tau$, we can analyze the accuracy coverage where coverage is defined as the proportion of predicted points. This means that full coverage (100%) corresponds to a classifier that does not abstain on any predictions. Selective accuracy is defined as the average accuracy over all points and the worst group accuracy is the accuracy of points that are part of the worst performing group. The paper explores whether selective classification helps or hurts accuracy and how overall accuracy compares to the accuracy of different subgroups.\n",
    "\n",
    "The most striking finding of the paper shows that worst-group accuracy decreases with coverage. As in, the more confident the model is on the worst-group examples, the more incorrect it is. Let us examine to what degree we can recreate this result with our synthetic datasets."
   ]
  },
  {
   "cell_type": "code",
   "execution_count": 20,
   "metadata": {},
   "outputs": [],
   "source": [
    "# Let's first demonstrate findings on the 90% spurious correlations dataset\n",
    "sns.set() # set seaborn to make plots look nice\n",
    "resnet_9_logits = predict_9\n",
    "altered_labels_9 = X_test_9_altindices"
   ]
  },
  {
   "cell_type": "code",
   "execution_count": 21,
   "metadata": {},
   "outputs": [],
   "source": [
    "def confidence(logit, actual_class):\n",
    "    predicted_class = np.argmax(logit, axis = 1)\n",
    "    c_hat = [0.5 * np.log10(l[pc] / (1 - l[pc])) for l, pc in zip(logit, predicted_class)]\n",
    "    c_hat = [c if c != np.inf else 3 for c in c_hat] ##need to fix this!\n",
    "    c_hat = [c if pc == ac else -c for c, pc, ac in zip(c_hat, predicted_class, actual_class)]\n",
    "    return(c_hat)\n",
    "\n",
    "def dropout(confidence, tau):\n",
    "    return(confidence[np.abs(confidence) > tau])\n",
    "\n",
    "def coverage(confidence, tau):\n",
    "    dropped_out = dropout(confidence, tau)\n",
    "    return(len(dropped_out) / len(confidence))\n",
    "\n",
    "def accuracy(confidence, tau):\n",
    "    dropped_out = dropout(confidence, tau)\n",
    "    return(np.sum(dropped_out > 0) / len(dropped_out))"
   ]
  },
  {
   "cell_type": "code",
   "execution_count": 22,
   "metadata": {},
   "outputs": [
    {
     "name": "stderr",
     "output_type": "stream",
     "text": [
      "/Users/WMP/.pyenv/versions/3.7.8/lib/python3.7/site-packages/ipykernel_launcher.py:3: RuntimeWarning: divide by zero encountered in true_divide\n",
      "  This is separate from the ipykernel package so we can avoid doing imports until\n"
     ]
    }
   ],
   "source": [
    "confidence_resnet_9 = confidence(resnet_9_logits, y_test)"
   ]
  },
  {
   "cell_type": "code",
   "execution_count": 23,
   "metadata": {},
   "outputs": [],
   "source": [
    "worst_group = (y_test == 0) & (altered_labels_9 == 0) \n",
    "# the \"worst\" group is 2s (y label 0) without spurious feature (altered label 0)"
   ]
  },
  {
   "cell_type": "code",
   "execution_count": 24,
   "metadata": {},
   "outputs": [],
   "source": [
    "def plot_margin(confidence, worst_group_idx, spur_proportion):\n",
    "    ''' This function plots the confidence margin on the x axis \n",
    "    and the density of points on the y axis to compare the full\n",
    "    dataset performance with the worst group performance.\n",
    "    '''\n",
    "    sns.set_style('white')\n",
    "    fig, ax = plt.subplots(1, 1, figsize = (8, 5))\n",
    "    ax.hist(confidence, label = 'full dataset', bins = 30, alpha = 0.5, color = 'blue')\n",
    "    ax.hist(np.array(confidence)[worst_group_idx], label = 'worst group', bins = 30, alpha = 0.8, color = 'red')\n",
    "    ax.set_title(\"Synthetic dataset: spurious correlations {}%\".format(spur_proportion), fontsize = 18)\n",
    "    ax.set_xlabel('Margin', fontsize = 14)\n",
    "    ax.set_ylabel('Ave. Density', fontsize = 14)\n",
    "    plt.legend()\n",
    "    plt.show()"
   ]
  },
  {
   "cell_type": "code",
   "execution_count": 25,
   "metadata": {},
   "outputs": [
    {
     "data": {
      "image/png": "[encoded data removed]",
      "text/plain": [
       "<Figure size 576x360 with 1 Axes>"
      ]
     },
     "metadata": {},
     "output_type": "display_data"
    }
   ],
   "source": [
    "plot_margin(confidence = confidence_resnet_9,\n",
    "            worst_group_idx = worst_group,\n",
    "            spur_proportion = 90)"
   ]
  },
  {
   "cell_type": "code",
   "execution_count": 26,
   "metadata": {},
   "outputs": [
    {
     "name": "stderr",
     "output_type": "stream",
     "text": [
      "/Users/WMP/.pyenv/versions/3.7.8/lib/python3.7/site-packages/ipykernel_launcher.py:17: RuntimeWarning: invalid value encountered in long_scalars\n"
     ]
    }
   ],
   "source": [
    "tau = np.linspace(0, 4, 100)\n",
    "full_coverage_9 = [coverage(np.array(confidence_resnet_9), t) for t in tau]\n",
    "full_accuracy_9 = [accuracy(np.array(confidence_resnet_9), t) for t in tau]\n",
    "worst_coverage_9 = [coverage(np.array(confidence_resnet_9)[worst_group], t) for t in tau]\n",
    "worst_accuracy_9 = [accuracy(np.array(confidence_resnet_9)[worst_group], t) for t in tau]"
   ]
  },
  {
   "cell_type": "code",
   "execution_count": 27,
   "metadata": {},
   "outputs": [],
   "source": [
    "def plot_coverage(full_coverage, full_accuracy, worst_coverage, worst_accuracy, spur_proportion):\n",
    "    '''This function plots the coverage on the x axis and the accuracy on the y axis\n",
    "    for both the full dataset and the worst group in the dataset as defined in the paper.\n",
    "    '''\n",
    "    sns.set_style('whitegrid')\n",
    "    fig, ax = plt.subplots()\n",
    "    ax.plot(full_coverage, full_accuracy, label = 'All data', color = 'blue')\n",
    "    ax.plot(worst_coverage, worst_accuracy, label = 'Worst group', color = 'red')\n",
    "    ax.set_xlabel('Coverage', fontsize = 14)\n",
    "    ax.set_ylabel('Accuracy', fontsize = 14)\n",
    "    ax.set_title(\"Synthetic dataset: spurious correlations {}%\".format(spur_proportion), fontsize = 18)\n",
    "    ax.legend()\n",
    "    plt.show()"
   ]
  },
  {
   "cell_type": "code",
   "execution_count": 28,
   "metadata": {},
   "outputs": [
    {
     "data": {
      "image/png": "[encoded data removed]",
      "text/plain": [
       "<Figure size 432x288 with 1 Axes>"
      ]
     },
     "metadata": {},
     "output_type": "display_data"
    }
   ],
   "source": [
    "plot_coverage(full_coverage = full_coverage_9,\n",
    "              full_accuracy = full_accuracy_9,\n",
    "              worst_coverage = worst_coverage_9,\n",
    "              worst_accuracy = worst_accuracy_9, \n",
    "              spur_proportion = 90)"
   ]
  },
  {
   "cell_type": "code",
   "execution_count": null,
   "metadata": {},
   "outputs": [],
   "source": [
    "# TODO: add code to call plot functions for 70%, 50%, and 50% resnet models\n",
    "# TODO: add code to call plot functions for 90%, 70%, 50%, and 50% keras simple models\n",
    "# TODO: Add in discussion about keras vs resnet models\n",
    "# TODO: double check that all code is well commented and readable for grading\n",
    "# TODO: adjust the black boxes to be smaller or less dark as needed, depending on results\n"
   ]
  },
  {
   "attachments": {},
   "cell_type": "markdown",
   "metadata": {},
   "source": [
    "### Conclusions and Discussion\n",
    "The authors claim that the results suggest that selective classification should be used with care and underscore the importance of training models to perform equally well across groups at full coverage. But it seems that the results may rely on the dataset being particular prone to spurious correlations and it is not clear that this phenomena is concerning across domains that consider using selective classification. \n",
    "\n",
    "Consider our toy datasets and the addition of black boxes that are essentially meaningless in the context of the classification task. Whether or not an image contains an artificially added black box is not related to the number written in the image. In addition to developing better selective classification techniques that reduce group disparities at full coverage, it also seems natural to consider addressing problematic characteristics of the dataset. If there are in fact spurious correlations present in a given dataset, how meaningful are the correlations? In our toy example, we could simply remove the black boxes in order to avoid the contrasting result. This makes us wonder if there is a more naïve approach where practitioners better examine dataset characteristics before applying methodologies like selective classification in order to avoid these types of issues altogether.\n",
    "\n",
    "In the original paper, we see that in all these datasets, the \"worst group\" is underrepresented as in there are much fewer examples for the \"worst group\" category. Also, notice that the datasets considered in this paper do not seem immediately relevant in terms of the real world implications of disparities, we wonder how we might examine this using toy examples. Are there examples of real world datasets with meaningful use cases that demonstrate these same properties and if so, we wonder why the authors did not conduct their analysis on them."
   ]
  },
  {
   "cell_type": "code",
   "execution_count": null,
   "metadata": {},
   "outputs": [],
   "source": []
  }
 ],
 "metadata": {
  "accelerator": "GPU",
  "colab": {
   "machine_shape": "hm",
   "name": "gen_data_PT.ipynb",
   "provenance": []
  },
  "kernelspec": {
   "display_name": "Python 3",
   "language": "python",
   "name": "python3"
  },
  "language_info": {
   "codemirror_mode": {
    "name": "ipython",
    "version": 3
   },
   "file_extension": ".py",
   "mimetype": "text/x-python",
   "name": "python",
   "nbconvert_exporter": "python",
   "pygments_lexer": "ipython3",
   "version": "3.7.8"
  }
 },
 "nbformat": 4,
 "nbformat_minor": 1
}
