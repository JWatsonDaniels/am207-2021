{
  "cells": [
    {
      "cell_type": "markdown",
      "metadata": {
        "id": "Pt9Bt291J76u"
      },
      "source": [
        "## Selective Classification Can Magnify Disparities Across Groups\n",
        "\n",
        "\n",
        "### AM207: Advanced Scientific Computing\n",
        "\n",
        "#### Team: Jamelle Watson-Daniels, Shirley Wang, Bridger Ruyle, Paul Tembo\n",
        "\n",
        "#### Paper: https://arxiv.org/pdf/2010.14134.pdfODOS: \n",
        "\n",
        "Minimal goal: Investigate how selective classification affects group accuracy on a synthetic `mnist` dataset\n",
        "- Generate synthetic dataset from `mnist`\n",
        "- Train empirical risk minimization model (minimize loss - Logistic regression i.e. ResNet)    \n",
        "- Calculate average coverage\n",
        "- Calculate group coverage\n",
        "- Calculate selective accuracy\n",
        "- Plot average coverage vs group coverage for `mnist` dataset\n",
        "- Plot average coverage vs selective accuracy for `mnist` dataset\n",
        "\n",
        "If there is time goal: Show that selective accuracies on average and on the worst-group are determined by their respective margin distributions\n",
        "- Calculate margin\n",
        "- Calculate worst-group density\n",
        "- Calculate Average density\n",
        "- Plot margin (-10,+10) versus worst-group density\n",
        "- Plot margin (-10,+10) versus Average density\n",
        "\n",
        "Possible extensions: What are the characteristics of this dataset that are imbalanced and contain spurious correlations? We see that in all these datasets, the \"worst group\" is underrepresented as in there are much fewer examples for the \"worst group\" category. Notice that the datasets considered in this paper do not seem immediately relevant in terms of the real world implications of disparities, we wonder how we might examine this using toy examples."
      ]
    },
    {
      "cell_type": "markdown",
      "metadata": {
        "id": "yLT-8bVxJ76y"
      },
      "source": [
        "#### Dataset description\n",
        "\"Models have been shown to latch onto spurious correlations between labels and demographic attributes such as race and gender (Buolamwini & Gebru, 2018; Joshi et al., 2018), and we\n",
        "study this on the CelebA dataset (Liu et al., 2015). Following Sagawa et al. (2020), we consider\n",
        "the task of classifying hair color, which is spuriously correlated with the gender. Concretely, inputs\n",
        "are celebrity face images, labels are hair color Y = {blond, non-blond}, and spurious attributes are\n",
        "gender, A = {male, female}, with blondness associated with being female. Of the four groups,\n",
        "blond males are the smallest group, with only 1,387 examples out of 162,770 training examples, and\n",
        "they tend to be the worst group empirically. We use the official train-val-split of the dataset.\""
      ]
    },
    {
      "cell_type": "markdown",
      "metadata": {
        "id": "OHh1N7gNJ76y"
      },
      "source": [
        "## Generate synthetic data \n",
        "\n",
        "Take the `mnist` dataset and consider the task of classifying digits 1 vs. 7. Alter the data such that the digit 1 is spuriously correlated with grey dots on the upper lefthand corner of the image. \n",
        "\n",
        "Concretely, inputs are `mnist` digits, labels are digit number Y = {1, 7}, and suprious attributes are grey boxes, A = {present, absent}, with added grey boxes associated with digit 7. Of the four groups, digit 1 with grey boxes are the smallest group. To mimic the `celebA` dataset in the original paper, we will alter the images such that approximately 8.5% of the training examples are digit 1 with grey boxes. "
      ]
    },
    {
      "cell_type": "code",
      "execution_count": null,
      "metadata": {
        "id": "IRsgDeRzJ76z"
      },
      "outputs": [],
      "source": [
        "from autograd import grad\n",
        "import pandas as pd\n",
        "import numpy as np\n",
        "import random\n",
        "import matplotlib.pyplot as plt\n",
        "import tensorflow as tf\n",
        "from PIL import Image\n",
        "import os\n",
        "from sklearn.datasets import fetch_openml\n",
        "from sklearn.utils import check_random_state\n",
        "from sklearn.model_selection import train_test_split"
      ]
    },
    {
      "cell_type": "code",
      "execution_count": null,
      "metadata": {
        "id": "Rx92mxAzJ760"
      },
      "outputs": [],
      "source": [
        "# Load data from https://www.openml.org/d/554\n",
        "X, y = fetch_openml('mnist_784', version = 1, return_X_y = True, as_frame = False)"
      ]
    },
    {
      "cell_type": "code",
      "execution_count": null,
      "metadata": {
        "id": "yflBKwzpJ760"
      },
      "outputs": [],
      "source": [
        "# Pick out two classes of digits: 1, 7 and take a subset of samples \n",
        "X_subset = X[((y == '1') | (y == '7'))]\n",
        "y_subset = y[((y == '1') | (y == '7'))]\n",
        "\n",
        "# Encode the label '1' with y = 1, and the label '7' with y = 0\n",
        "y_subset[y_subset == '1'] = 1\n",
        "y_subset[y_subset == '7'] = 0\n",
        "y_subset = y_subset.astype(int)"
      ]
    },
    {
      "cell_type": "code",
      "execution_count": null,
      "metadata": {
        "id": "I_wCfNC7J761"
      },
      "outputs": [],
      "source": [
        "# Split into training and testing sets\n",
        "# Following celebA: 80% training, 10% val, 10% test \n",
        "\n",
        "rand_seed = 123\n",
        "X_train, X_test_tot, y_train, y_test_tot = train_test_split(X_subset, y_subset, test_size = 0.2, random_state = rand_seed) # split out train\n",
        "X_val, X_test, y_val, y_test = train_test_split(X_test_tot, y_test_tot, test_size = 0.5, random_state = rand_seed) # split out validation set "
      ]
    },
    {
      "cell_type": "code",
      "execution_count": null,
      "metadata": {
        "id": "qaPp0FA4K_Zz"
      },
      "outputs": [],
      "source": [
        "# save y_train, y_val, y_test labels in data folder\n",
        "\n",
        "np.savetxt('data/y_train.csv', y_train, delimiter = ',')\n",
        "np.savetxt('data/y_val.csv', y_val, delimiter = ',')\n",
        "np.savetxt('data/y_test.csv', y_test, delimiter = ',')"
      ]
    },
    {
      "cell_type": "code",
      "execution_count": null,
      "metadata": {
        "colab": {
          "base_uri": "https://localhost:8080/",
          "height": 35
        },
        "id": "CFDVKxgcKexr",
        "outputId": "5e418186-455d-4073-cdd4-eb06209c5f16"
      },
      "outputs": [
        {
          "data": {
            "application/vnd.google.colaboratory.intrinsic+json": {
              "type": "string"
            },
            "text/plain": [
              "'/content'"
            ]
          },
          "execution_count": 9,
          "metadata": {},
          "output_type": "execute_result"
        }
      ],
      "source": [
        "os.getcwd()"
      ]
    },
    {
      "cell_type": "code",
      "execution_count": null,
      "metadata": {
        "colab": {
          "base_uri": "https://localhost:8080/",
          "height": 179
        },
        "id": "w3QorZyvJ762",
        "outputId": "304edb89-110a-47aa-df8a-32459834a1f3"
      },
      "outputs": [
        {
          "data": {
            "image/png": "[encoded data removed]",
            "text/plain": [
              "<Figure size 1800x288 with 20 Axes>"
            ]
          },
          "metadata": {},
          "output_type": "display_data"
        }
      ],
      "source": [
        "# Visualize some samples from the training dataset \n",
        "fig, ax = plt.subplots(2, 10, figsize = (25, 4))\n",
        "for i in range(10):\n",
        "    ax[0, i].imshow(X_train[y_train == 0][i].reshape((28, 28)), cmap = plt.cm.gray_r, interpolation = 'nearest')\n",
        "    ax[1, i].imshow(X_train[y_train == 1][i].reshape((28, 28)), cmap = plt.cm.gray_r, interpolation = 'nearest')"
      ]
    },
    {
      "cell_type": "code",
      "execution_count": null,
      "metadata": {
        "id": "WOrfI5UGJ764"
      },
      "outputs": [],
      "source": [
        "# function to add a grey rectangular box to top left-hand corner of digit\n",
        "\n",
        "def add_spurious_ft(x_array, y_array, perc_spurious_1, perc_spurious_2):\n",
        "    '''\n",
        "    this function takes in x and y arrays, adds spurious features to some images, and returns \n",
        "    the altered image array, along with indices of the images that were altered. spurious features\n",
        "    include a grey box on the upper lefthand side of the image.\n",
        "    \n",
        "    x_array: array of shape (n_images, 784)\n",
        "    y_array: array of shape (n_images, )\n",
        "    perc_spurious_1: percent of digit 1 images to add spurious features to\n",
        "    perc_spurious_2: percent of digit 1 images to add spurious features to\n",
        "\n",
        "    returns: \n",
        "        altered image array\n",
        "        indices of altered images (0 = not altered, 1 = altered)\n",
        "    '''\n",
        "    \n",
        "    indices_1 = np.asarray(np.where(y_train == 1)).reshape(-1) # indices where digit = 1 \n",
        "    indices_2 = np.asarray(np.where(y_train == 0)).reshape(-1) # indices where digit = 2 \n",
        "    \n",
        "    num_digit_1 = len(indices_1) # number of digit 1 images \n",
        "    num_digit_2 = len(indices_2) # number of digit 2 images \n",
        "\n",
        "    num_alter_1 = int(perc_spurious_1 * num_digit_1) # number of digit 1 images to alter\n",
        "    num_alter_2 = int(perc_spurious_2 * num_digit_2) # number of digit 2 images to alter\n",
        "    \n",
        "    np.random.seed(123)\n",
        "    rand_indices_1 = np.random.choice(len(indices_1), size = num_alter_1, replace = False) \n",
        "    rand_indices_2 = np.random.choice(len(indices_2), size = num_alter_2, replace = False) \n",
        "    \n",
        "    grey_boxes = np.r_[0:15, 28:43, 56:71]\n",
        "    altered_imgs = x_array\n",
        "    \n",
        "    image_altered = []\n",
        "    \n",
        "    for i in range(len(altered_imgs)):\n",
        "        \n",
        "        # alter digit 2 images \n",
        "        if y_train[i] == 0:\n",
        "            if i in rand_indices_2:\n",
        "                altered_imgs[i][grey_boxes] = np.array([256] * len(grey_boxes))\n",
        "                image_altered.append(1) # 1 = altered \n",
        "            else:\n",
        "                image_altered.append(0) # 0 = not altered\n",
        "        \n",
        "        # alter digit 1 images \n",
        "        elif y_train[i] == 1:\n",
        "            if i in rand_indices_1:\n",
        "                altered_imgs[i][grey_boxes] = np.array([256] * len(grey_boxes))\n",
        "                image_altered.append(1)\n",
        "            else: \n",
        "                image_altered.append(0)\n",
        "    \n",
        "    return altered_imgs, np.array(image_altered)"
      ]
    },
    {
      "cell_type": "code",
      "execution_count": null,
      "metadata": {
        "id": "BXqXhZHAJ764"
      },
      "outputs": [],
      "source": [
        "# test to see if the function works \n",
        "test_altered_imgs, test_altered_indices = add_spurious_ft(X_train, y_train, 0.085, 0.7)"
      ]
    },
    {
      "cell_type": "code",
      "execution_count": null,
      "metadata": {
        "colab": {
          "base_uri": "https://localhost:8080/",
          "height": 179
        },
        "id": "phyaUoBfJ765",
        "outputId": "536fd8b2-c394-4c32-f13c-9968f89f8cd7"
      },
      "outputs": [
        {
          "data": {
            "image/png": "[encoded data removed]",
            "text/plain": [
              "<Figure size 1800x288 with 20 Axes>"
            ]
          },
          "metadata": {},
          "output_type": "display_data"
        }
      ],
      "source": [
        "# Visualize some samples from the altered training dataset. more 2's with spurious features than 1's. seems to work! \n",
        "fig, ax = plt.subplots(2, 10, figsize = (25, 4))\n",
        "for i in range(10):\n",
        "    ax[0, i].imshow(test_altered_imgs[y_train == 0][i].reshape((28, 28)), cmap = plt.cm.gray_r, interpolation = 'nearest')\n",
        "    ax[1, i].imshow(test_altered_imgs[y_train == 1][i].reshape((28, 28)), cmap = plt.cm.gray_r, interpolation = 'nearest')"
      ]
    },
    {
      "cell_type": "markdown",
      "metadata": {
        "id": "KCb_8pNrJ766"
      },
      "source": [
        "## Generate 4 Sets of Image Datasets (Train, Val, Test): \n",
        "\n",
        "`X_train_9`, `X_val_9`, `X_test_9`: 90% spurious features in digit 2; 8.5% spurious features in digit 1.\n",
        "\n",
        "`X_train_7`, `X_val_7`, `X_test_7`: 70% spurious features in digit 2; 8.5% spurious features in digit 1.\n",
        "\n",
        "`X_train_5`, `X_val_5`, `X_test_5`: 50% spurious features in digit 2; 8.5% spurious features in digit 1.\n",
        "\n",
        "`X_train_3`, `X_val_3`, `X_test_3`: 30% spurious features in digit 2; 8.5% spurious features in digit 1."
      ]
    },
    {
      "cell_type": "code",
      "execution_count": null,
      "metadata": {
        "id": "kHnBa-BUJ766"
      },
      "outputs": [],
      "source": [
        "# 90% spurious in digit 7 \n",
        "X_train_9, X_train_9_altindices = add_spurious_ft(X_train, y_train, 0.085, 0.9)\n",
        "X_val_9, X_val_9_altindices = add_spurious_ft(X_val, y_val, 0.085, 0.9)\n",
        "X_test_9, X_test_9_altindices = add_spurious_ft(X_test, y_test, 0.085, 0.9)\n",
        "\n",
        "# 70% spurious in digit 7 \n",
        "X_train_7, X_train_7_altindices = add_spurious_ft(X_train, y_train, 0.085, 0.7)\n",
        "X_val_7, X_val_7_altindices = add_spurious_ft(X_val, y_val, 0.085, 0.7)\n",
        "X_test_7, X_test_7_altindices = add_spurious_ft(X_test, y_test, 0.085, 0.7)\n",
        "\n",
        "# 50% spurious in digit 7\n",
        "X_train_5, X_train_5_altindices = add_spurious_ft(X_train, y_train, 0.085, 0.5)\n",
        "X_val_5, X_val_5_altindices = add_spurious_ft(X_val, y_val, 0.085, 0.5)\n",
        "X_test_5, X_test_5_altindices = add_spurious_ft(X_test, y_test, 0.085, 0.5)\n",
        "\n",
        "# 30% spurious in digit7\n",
        "X_train_3, X_train_3_altindices = add_spurious_ft(X_train, y_train, 0.085, 0.3)\n",
        "X_val_3, X_val_3_altindices = add_spurious_ft(X_val, y_val, 0.085, 0.3)\n",
        "X_test_3, X_test_3_altindices = add_spurious_ft(X_test, y_test, 0.085, 0.3)"
      ]
    },
    {
      "cell_type": "code",
      "execution_count": null,
      "metadata": {
        "id": "FC4FV6fNJ767"
      },
      "outputs": [],
      "source": [
        "# save altered indices labels \n",
        "\n",
        "np.savetxt('data/altered_index_train_9.csv', X_train_9_altindices, delimiter = ',')\n",
        "np.savetxt('data/altered_index_val_9.csv', X_val_9_altindices, delimiter = ',')\n",
        "np.savetxt('data/altered_index_test_9.csv', X_test_9_altindices, delimiter = ',')\n",
        "\n",
        "np.savetxt('data/altered_index_train_7.csv', X_train_7_altindices, delimiter = ',')\n",
        "np.savetxt('data/altered_index_val_7.csv', X_val_7_altindices, delimiter = ',')\n",
        "np.savetxt('data/altered_index_test_7.csv', X_test_7_altindices, delimiter = ',')\n",
        "\n",
        "np.savetxt('data/altered_index_train_5.csv', X_train_5_altindices, delimiter = ',')\n",
        "np.savetxt('data/altered_index_val_5.csv', X_val_5_altindices, delimiter = ',')\n",
        "np.savetxt('data/altered_index_test_5.csv', X_test_5_altindices, delimiter = ',')\n",
        "\n",
        "np.savetxt('data/altered_index_train_3.csv', X_train_3_altindices, delimiter = ',')\n",
        "np.savetxt('data/altered_index_val_3.csv', X_val_3_altindices, delimiter = ',')\n",
        "np.savetxt('data/altered_index_test_3.csv', X_test_3_altindices, delimiter = ',')"
      ]
    },
    {
      "cell_type": "code",
      "execution_count": null,
      "metadata": {
        "id": "G5_fTKA3J767"
      },
      "outputs": [],
      "source": [
        "# try to save x_arrays \n",
        "\n",
        "np.savetxt('data/x_array/X_train_9.csv', X_train_9, delimiter = ',')\n",
        "np.savetxt('data/x_array/X_val_9.csv', X_val_9, delimiter = ',')\n",
        "np.savetxt('data/x_array/X_test_9.csv', X_test_9, delimiter = ',')\n",
        "\n",
        "np.savetxt('data/x_array/X_train_7.csv', X_train_7, delimiter = ',')\n",
        "np.savetxt('data/x_array/X_val_7.csv', X_val_7, delimiter = ',')\n",
        "np.savetxt('data/x_array/X_test_7.csv', X_test_7, delimiter = ',')\n",
        "\n",
        "np.savetxt('data/x_array/X_train_5.csv', X_train_5, delimiter = ',')\n",
        "np.savetxt('data/x_array/X_val_5.csv', X_val_5, delimiter = ',')\n",
        "np.savetxt('data/x_array/X_test_5.csv', X_test_5, delimiter = ',')\n",
        "\n",
        "np.savetxt('data/x_array/X_train_3.csv', X_train_3, delimiter = ',')\n",
        "np.savetxt('data/x_array/X_val_3.csv', X_val_3, delimiter = ',')\n",
        "np.savetxt('data/x_array/X_test_3.csv', X_test_3, delimiter = ',')"
      ]
    },
    {
      "cell_type": "markdown",
      "metadata": {
        "id": "l2ygmt6RKWki"
      },
      "source": [
        "# Pauls Part"
      ]
    },
    {
      "cell_type": "code",
      "execution_count": null,
      "metadata": {
        "colab": {
          "base_uri": "https://localhost:8080/"
        },
        "id": "s-UqGzOKLcAL",
        "outputId": "55444cce-a129-4a4f-c140-157e4c4dbe37"
      },
      "outputs": [
        {
          "name": "stdout",
          "output_type": "stream",
          "text": [
            "(12136, 28, 28)\n",
            "(1517, 28, 28)\n",
            "(1517, 28, 28)\n"
          ]
        }
      ],
      "source": [
        "# 90% spurious in digit 2 reshaped\n",
        "\n",
        "X_train_9_reshaped = X_train_9.reshape((X_train_9.shape[0], 28, 28))\n",
        "X_val_9_reshaped = X_val_9.reshape((X_val_9.shape[0], 28, 28))\n",
        "X_test_9_reshaped = X_test_9.reshape((X_test_9.shape[0], 28, 28))\n",
        "\n",
        "# # 70% spurious in digit 2 reshaped\n",
        "X_train_7_reshaped = X_train_7.reshape((X_train_7.shape[0], 28, 28))\n",
        "X_val_7_reshaped = X_val_7.reshape((X_val_7.shape[0], 28, 28))\n",
        "X_test_7_reshaped = X_test_7.reshape((X_test_7.shape[0], 28, 28))\n",
        "\n",
        "\n",
        "# # 50% spurious in digit 2 reshaped\n",
        "\n",
        "X_train_5_reshaped = X_train_5.reshape((X_train_5.shape[0], 28, 28))\n",
        "X_val_5_reshaped = X_val_5.reshape((X_val_5.shape[0], 28, 28))\n",
        "X_test_5_reshaped = X_test_5.reshape((X_test_5.shape[0], 28, 28))\n",
        "\n",
        "\n",
        "# # 30% spurious in digit 2 reshaped\n",
        "\n",
        "\n",
        "X_train_3_reshaped = X_train_3.reshape((X_train_3.shape[0], 28, 28))\n",
        "X_val_3_reshaped = X_val_3.reshape((X_val_3.shape[0], 28, 28))\n",
        "X_test_3_reshaped = X_test_3.reshape((X_test_3.shape[0], 28, 28))\n",
        "\n",
        "\n",
        "print(X_train_9_reshaped.shape)\n",
        "print(X_val_9_reshaped.shape)\n",
        "print(X_test_9_reshaped.shape)\n",
        "# print(X_train_7_reshaped.shape)\n",
        "# print(X_val_7_reshaped.shape)\n",
        "# print(X_test_7_reshaped.shape)\n",
        "# print(X_train_5_reshaped.shape)\n",
        "# print(X_val_5_reshaped.shape)\n",
        "# print(X_test_5_reshaped.shape)\n",
        "# print(X_train_3_reshaped.shape)\n",
        "# print(X_val_3_reshaped.shape)\n",
        "# print(X_test_3_reshaped.shape)"
      ]
    },
    {
      "cell_type": "code",
      "execution_count": null,
      "metadata": {
        "colab": {
          "base_uri": "https://localhost:8080/"
        },
        "id": "wDLlKnuBLh7R",
        "outputId": "74bfea77-471a-46ff-8b4f-a12b2e3cb925"
      },
      "outputs": [
        {
          "name": "stdout",
          "output_type": "stream",
          "text": [
            "(12136, 28, 28)\n",
            "(12136,)\n",
            "(1517, 28, 28)\n",
            "(1517,)\n"
          ]
        }
      ],
      "source": [
        "print(X_train_9_reshaped.shape)\n",
        "print(y_train.shape)\n",
        "print(X_test_9_reshaped.shape)\n",
        "print(y_test.shape)\n",
        "# expand new axis, channel axis \n",
        "x_train_x9 = np.expand_dims(X_train_9_reshaped, axis=-1)\n",
        "x_test_x9 = np.expand_dims(X_test_9_reshaped, axis=-1)\n",
        "x_val_x9 = np.expand_dims(X_val_9_reshaped, axis=-1)\n",
        "x_train_x7 = np.expand_dims(X_train_7_reshaped, axis=-1)\n",
        "x_test_x7 = np.expand_dims(X_test_7_reshaped, axis=-1)\n",
        "\n",
        "x_val_x7 = np.expand_dims(X_val_7_reshaped, axis=-1)\n",
        "\n",
        "x_train_x5 = np.expand_dims(X_train_5_reshaped, axis=-1)\n",
        "x_test_x5 = np.expand_dims(X_test_5_reshaped, axis=-1)\n",
        "\n",
        "x_val_x5 = np.expand_dims(X_val_5_reshaped, axis=-1)\n",
        "\n",
        "x_train_x3 = np.expand_dims(X_train_3_reshaped, axis=-1)\n",
        "x_test_x3 = np.expand_dims(X_test_3_reshaped, axis=-1)\n",
        "\n",
        "x_val_x3 = np.expand_dims(X_val_3_reshaped, axis=-1)\n",
        "\n",
        "# We need 3 channel (instead of 1)\n",
        "x_train_x9 = np.repeat(x_train_x9, 3, axis=-1)\n",
        "x_test_x9 = np.repeat(x_test_x9, 3, axis=-1)\n",
        "x_val_x9 = np.repeat(x_val_x9, 3, axis=-1)\n",
        "\n",
        "x_train_x7 = np.repeat(x_train_x7, 3, axis=-1)\n",
        "x_test_x7 = np.repeat(x_test_x7, 3, axis=-1)\n",
        "\n",
        "x_val_x7 = np.repeat(x_val_x7, 3, axis=-1)\n",
        "\n",
        "x_train_x5 = np.repeat(x_train_x5, 3, axis=-1)\n",
        "x_test_x5 = np.repeat(x_test_x5, 3, axis=-1)\n",
        "\n",
        "x_val_x5 = np.repeat(x_val_x5, 3, axis=-1)\n",
        "\n",
        "x_train_x3 = np.repeat(x_train_x3, 3, axis=-1)\n",
        "x_test_x3 = np.repeat(x_test_x3, 3, axis=-1)\n",
        "x_val_x3 = np.repeat(x_val_x3, 3, axis=-1)\n",
        "\n",
        "# normalize \n",
        "x_train_x9 = x_train_x9.astype('float32') / 255\n",
        "x_test_x9 = x_test_x9.astype('float32') / 255\n",
        "x_val_x9 = x_val_x9.astype('float32') / 255\n",
        "\n",
        "x_train_x7 = x_train_x7.astype('float32') / 255\n",
        "x_test_x7 = x_test_x7.astype('float32') / 255\n",
        "x_val_x7 = x_val_x7.astype('float32') / 255\n",
        "\n",
        "x_train_x5 = x_train_x5.astype('float32') / 255\n",
        "x_test_x5 = x_test_x5.astype('float32') / 255\n",
        "x_val_x5 = x_val_x5.astype('float32') / 255\n",
        "x_train_x3 = x_train_x3.astype('float32') / 255\n",
        "x_test_x3 = x_test_x3.astype('float32') / 255\n",
        "x_val_x3 = x_val_x3.astype('float32') / 255\n",
        "\n",
        "# resize the input shape , i.e. old shape: 28, new shape: 32\n",
        "x_train_x9 = tf.image.resize(x_train_x9, [32,32]) # if we want to resize\n",
        "x_test_x9 = tf.image.resize(x_test_x9, [32,32]) # if we want to resize \n",
        "x_val_x9 = tf.image.resize(x_val_x9, [32,32]) # if we want to resize \n",
        "\n",
        "x_train_x7 = tf.image.resize(x_train_x7, [32,32]) # if we want to resize\n",
        "x_test_x7 = tf.image.resize(x_test_x7, [32,32]) # if we want to resize \n",
        "x_val_x7 = tf.image.resize(x_val_x7, [32,32]) # if we want to resize \n",
        "\n",
        "x_train_x5 = tf.image.resize(x_train_x5, [32,32]) # if we want to resize\n",
        "x_test_x5 = tf.image.resize(x_test_x5, [32,32]) # if we want to resize \n",
        "x_val_x5 = tf.image.resize(x_val_x5, [32,32]) # if we want to resize \n",
        "\n",
        "x_train_x3 = tf.image.resize(x_train_x3, [32,32]) # if we want to resize\n",
        "x_test_x3 = tf.image.resize(x_test_x3, [32,32]) # if we want to resize \n",
        "x_val_x3 = tf.image.resize(x_val_x3, [32,32]) # if we want to resize "
      ]
    },
    {
      "cell_type": "code",
      "execution_count": null,
      "metadata": {
        "colab": {
          "base_uri": "https://localhost:8080/"
        },
        "id": "QL_Ez8yrL0eL",
        "outputId": "129a5f52-f16d-42aa-c16f-e38a9fd2f49c"
      },
      "outputs": [
        {
          "name": "stdout",
          "output_type": "stream",
          "text": [
            "Downloading data from https://storage.googleapis.com/tensorflow/keras-applications/resnet/resnet50_weights_tf_dim_ordering_tf_kernels_notop.h5\n",
            "94773248/94765736 [==============================] - 0s 0us/step\n",
            "94781440/94765736 [==============================] - 0s 0us/step\n"
          ]
        }
      ],
      "source": [
        "inputs = tf.keras.Input(shape = (32, 32, 3))\n",
        "\n",
        "# Load ResNet with preset weights from \"imagenet\" training\n",
        "base_model_9 = tf.keras.applications.ResNet50(\n",
        "    input_tensor = inputs,\n",
        "    include_top = False,\n",
        "    weights = 'imagenet'\n",
        ")\n",
        "\n",
        "base_model_9.traninable = False"
      ]
    },
    {
      "cell_type": "code",
      "execution_count": null,
      "metadata": {
        "id": "9gczJk-AMfyV"
      },
      "outputs": [],
      "source": [
        "# Add three layers at the end of ResNet:\n",
        "    #A global average 2d pooling layer\n",
        "    #A dropout layer\n",
        "    #And a trainable binary classifier that predicts whether an celebrity has blond or non-blond hair\n",
        "add_model = tf.keras.Sequential()\n",
        "add_model.add(base_model_9)\n",
        "add_model.add(tf.keras.layers.GlobalAveragePooling2D())\n",
        "add_model.add(tf.keras.layers.Dropout(0.2))\n",
        "add_model.add(tf.keras.layers.Dense(2, \n",
        "                    activation='softmax'))\n",
        "\n",
        "model_9 = add_model\n",
        "model_9.compile(loss='sparse_categorical_crossentropy', \n",
        "              optimizer='sgd',\n",
        "              metrics=['accuracy'])"
      ]
    },
    {
      "cell_type": "code",
      "execution_count": 32,
      "metadata": {
        "colab": {
          "base_uri": "https://localhost:8080/"
        },
        "id": "MEUVDLQWMt72",
        "outputId": "d3d14c6c-e2db-4a4b-c580-5506e6056873"
      },
      "outputs": [
        {
          "output_type": "stream",
          "name": "stdout",
          "text": [
            "Epoch 1/10\n",
            "380/380 [==============================] - 13s 35ms/step - loss: 0.0019 - accuracy: 0.9997 - val_loss: 0.0148 - val_accuracy: 0.9967\n",
            "Epoch 2/10\n",
            "380/380 [==============================] - 13s 35ms/step - loss: 6.8497e-04 - accuracy: 0.9999 - val_loss: 0.0285 - val_accuracy: 0.9927\n",
            "Epoch 3/10\n",
            "380/380 [==============================] - 13s 35ms/step - loss: 0.0016 - accuracy: 0.9996 - val_loss: 0.0132 - val_accuracy: 0.9974\n",
            "Epoch 4/10\n",
            "380/380 [==============================] - 13s 35ms/step - loss: 4.7733e-04 - accuracy: 0.9998 - val_loss: 0.0160 - val_accuracy: 0.9980\n",
            "Epoch 5/10\n",
            "380/380 [==============================] - 13s 35ms/step - loss: 1.7498e-04 - accuracy: 0.9999 - val_loss: 0.0148 - val_accuracy: 0.9980\n",
            "Epoch 6/10\n",
            "380/380 [==============================] - 13s 35ms/step - loss: 1.3306e-04 - accuracy: 1.0000 - val_loss: 0.0162 - val_accuracy: 0.9980\n",
            "Epoch 7/10\n",
            "380/380 [==============================] - 13s 35ms/step - loss: 3.0857e-04 - accuracy: 0.9999 - val_loss: 0.0163 - val_accuracy: 0.9974\n",
            "Epoch 8/10\n",
            "380/380 [==============================] - 13s 35ms/step - loss: 0.0018 - accuracy: 0.9997 - val_loss: 0.0201 - val_accuracy: 0.9974\n",
            "Epoch 9/10\n",
            "380/380 [==============================] - 13s 35ms/step - loss: 1.9709e-04 - accuracy: 0.9999 - val_loss: 0.0215 - val_accuracy: 0.9967\n",
            "Epoch 10/10\n",
            "380/380 [==============================] - 13s 35ms/step - loss: 2.1128e-04 - accuracy: 0.9999 - val_loss: 0.0218 - val_accuracy: 0.9967\n"
          ]
        }
      ],
      "source": [
        "#base_model compile and fit model 9\n",
        "history_9 = model_9.fit(x=x_train_x9,y=y_train, validation_data=(x_val_x9, y_val), epochs=10)\n",
        "\n",
        "predict_9 = model_9.predict(x_test_x9)\n",
        "\n",
        "np.savetxt('data/prediction/RESNET_predict_9.csv', predict_9, delimiter = ',')"
      ]
    },
    {
      "cell_type": "code",
      "execution_count": null,
      "metadata": {
        "id": "JYZhBbNbMwYq"
      },
      "outputs": [],
      "source": [
        ""
      ]
    },
    {
      "cell_type": "code",
      "execution_count": 33,
      "metadata": {
        "id": "-643GxzML6a8"
      },
      "outputs": [],
      "source": [
        "inputs = tf.keras.Input(shape = (32, 32, 3))\n",
        "\n",
        "# Load ResNet with preset weights from \"imagenet\" training\n",
        "base_model_7 = tf.keras.applications.ResNet50(\n",
        "    input_tensor = inputs,\n",
        "    include_top = False,\n",
        "    weights = 'imagenet'\n",
        ")\n",
        "\n",
        "base_model_7.traninable = False"
      ]
    },
    {
      "cell_type": "code",
      "source": [
        "# Add three layers at the end of ResNet:\n",
        "    #A global average 2d pooling layer\n",
        "    #A dropout layer\n",
        "    #And a trainable binary classifier that predicts whether an celebrity has blond or non-blond hair\n",
        "add_model = tf.keras.Sequential()\n",
        "add_model.add(base_model_7)\n",
        "add_model.add(tf.keras.layers.GlobalAveragePooling2D())\n",
        "add_model.add(tf.keras.layers.Dropout(0.2))\n",
        "add_model.add(tf.keras.layers.Dense(2, \n",
        "                    activation='softmax'))\n",
        "\n",
        "model_7 = add_model\n",
        "model_7.compile(loss='sparse_categorical_crossentropy', \n",
        "              optimizer='sgd',\n",
        "              metrics=['accuracy'])"
      ],
      "metadata": {
        "id": "6eNWC-6sWZZv"
      },
      "execution_count": 34,
      "outputs": []
    },
    {
      "cell_type": "code",
      "source": [
        "#base_model compile and fit model 9\n",
        "history_7 = model_7.fit(x=x_train_x7,y=y_train, validation_data=(x_val_x7, y_val), epochs=10)\n",
        "\n",
        "predict_7 = model_7.predict(x_test_x7)\n",
        "\n",
        "np.savetxt('data/prediction/RESNET_predict_7.csv', predict_7, delimiter = ',')"
      ],
      "metadata": {
        "colab": {
          "base_uri": "https://localhost:8080/"
        },
        "id": "dmKf0w3IWZTr",
        "outputId": "dc93a776-db14-47bf-e805-547b64c136f6"
      },
      "execution_count": 35,
      "outputs": [
        {
          "output_type": "stream",
          "name": "stdout",
          "text": [
            "Epoch 1/10\n",
            "380/380 [==============================] - 18s 37ms/step - loss: 0.0482 - accuracy: 0.9842 - val_loss: 1.1543 - val_accuracy: 0.5208\n",
            "Epoch 2/10\n",
            "380/380 [==============================] - 13s 35ms/step - loss: 0.0130 - accuracy: 0.9964 - val_loss: 0.2306 - val_accuracy: 0.8787\n",
            "Epoch 3/10\n",
            "380/380 [==============================] - 13s 35ms/step - loss: 0.0096 - accuracy: 0.9971 - val_loss: 0.0180 - val_accuracy: 0.9954\n",
            "Epoch 4/10\n",
            "380/380 [==============================] - 13s 35ms/step - loss: 0.0061 - accuracy: 0.9986 - val_loss: 0.0416 - val_accuracy: 0.9875\n",
            "Epoch 5/10\n",
            "380/380 [==============================] - 13s 35ms/step - loss: 0.0111 - accuracy: 0.9962 - val_loss: 0.5261 - val_accuracy: 0.8688\n",
            "Epoch 6/10\n",
            "380/380 [==============================] - 13s 35ms/step - loss: 0.0074 - accuracy: 0.9977 - val_loss: 0.0116 - val_accuracy: 0.9960\n",
            "Epoch 7/10\n",
            "380/380 [==============================] - 13s 35ms/step - loss: 0.0035 - accuracy: 0.9985 - val_loss: 0.0140 - val_accuracy: 0.9967\n",
            "Epoch 8/10\n",
            "380/380 [==============================] - 13s 35ms/step - loss: 0.0033 - accuracy: 0.9993 - val_loss: 0.0151 - val_accuracy: 0.9967\n",
            "Epoch 9/10\n",
            "380/380 [==============================] - 13s 35ms/step - loss: 0.0038 - accuracy: 0.9988 - val_loss: 0.0148 - val_accuracy: 0.9974\n",
            "Epoch 10/10\n",
            "380/380 [==============================] - 13s 35ms/step - loss: 0.0025 - accuracy: 0.9989 - val_loss: 0.0206 - val_accuracy: 0.9960\n"
          ]
        }
      ]
    },
    {
      "cell_type": "code",
      "source": [
        ""
      ],
      "metadata": {
        "id": "hpIeCAMFWZNb"
      },
      "execution_count": null,
      "outputs": []
    },
    {
      "cell_type": "code",
      "execution_count": 38,
      "metadata": {
        "id": "It4pW3BWL8Vi"
      },
      "outputs": [],
      "source": [
        "inputs = tf.keras.Input(shape = (32, 32, 3))\n",
        "\n",
        "# Load ResNet with preset weights from \"imagenet\" training\n",
        "base_model_5 = tf.keras.applications.ResNet50(\n",
        "    input_tensor = inputs,\n",
        "    include_top = False,\n",
        "    weights = 'imagenet'\n",
        ")\n",
        "\n",
        "base_model_5.traninable = False"
      ]
    },
    {
      "cell_type": "code",
      "source": [
        "# Add three layers at the end of ResNet:\n",
        "    #A global average 2d pooling layer\n",
        "    #A dropout layer\n",
        "    #And a trainable binary classifier that predicts whether an celebrity has blond or non-blond hair\n",
        "add_model = tf.keras.Sequential()\n",
        "add_model.add(base_model_5)\n",
        "add_model.add(tf.keras.layers.GlobalAveragePooling2D())\n",
        "add_model.add(tf.keras.layers.Dropout(0.2))\n",
        "add_model.add(tf.keras.layers.Dense(2, \n",
        "                    activation='softmax'))\n",
        "\n",
        "model_5 = add_model\n",
        "model_5.compile(loss='sparse_categorical_crossentropy', \n",
        "              optimizer='sgd',\n",
        "              metrics=['accuracy'])"
      ],
      "metadata": {
        "id": "669IQrQMXHW_"
      },
      "execution_count": 39,
      "outputs": []
    },
    {
      "cell_type": "code",
      "source": [
        "#base_model compile and fit model 9\n",
        "history_5 = model_5.fit(x=x_train_x5,y=y_train, validation_data=(x_val_x5, y_val), epochs=10)\n",
        "\n",
        "predict_5 = model_7.predict(x_test_x5)\n",
        "\n",
        "np.savetxt('data/prediction/RESNET_predict_5.csv', predict_5, delimiter = ',')"
      ],
      "metadata": {
        "colab": {
          "base_uri": "https://localhost:8080/"
        },
        "id": "hLsuY8g1XHMg",
        "outputId": "a59cbaf5-84b0-4e8c-a41b-61597620f6ad"
      },
      "execution_count": 40,
      "outputs": [
        {
          "output_type": "stream",
          "name": "stdout",
          "text": [
            "Epoch 1/10\n",
            "380/380 [==============================] - 18s 37ms/step - loss: 0.0593 - accuracy: 0.9810 - val_loss: 0.6638 - val_accuracy: 0.5748\n",
            "Epoch 2/10\n",
            "380/380 [==============================] - 13s 35ms/step - loss: 0.0156 - accuracy: 0.9951 - val_loss: 0.4022 - val_accuracy: 0.8603\n",
            "Epoch 3/10\n",
            "380/380 [==============================] - 13s 34ms/step - loss: 0.0088 - accuracy: 0.9972 - val_loss: 0.0125 - val_accuracy: 0.9974\n",
            "Epoch 4/10\n",
            "380/380 [==============================] - 13s 34ms/step - loss: 0.0093 - accuracy: 0.9974 - val_loss: 0.0107 - val_accuracy: 0.9980\n",
            "Epoch 5/10\n",
            "380/380 [==============================] - 13s 34ms/step - loss: 0.0049 - accuracy: 0.9985 - val_loss: 0.0117 - val_accuracy: 0.9980\n",
            "Epoch 6/10\n",
            "380/380 [==============================] - 13s 35ms/step - loss: 0.0037 - accuracy: 0.9988 - val_loss: 0.0125 - val_accuracy: 0.9980\n",
            "Epoch 7/10\n",
            "380/380 [==============================] - 13s 35ms/step - loss: 0.0027 - accuracy: 0.9989 - val_loss: 0.0155 - val_accuracy: 0.9967\n",
            "Epoch 8/10\n",
            "380/380 [==============================] - 13s 35ms/step - loss: 0.0023 - accuracy: 0.9992 - val_loss: 0.0117 - val_accuracy: 0.9974\n",
            "Epoch 9/10\n",
            "380/380 [==============================] - 13s 35ms/step - loss: 0.0021 - accuracy: 0.9994 - val_loss: 0.0110 - val_accuracy: 0.9974\n",
            "Epoch 10/10\n",
            "380/380 [==============================] - 13s 35ms/step - loss: 4.9462e-04 - accuracy: 1.0000 - val_loss: 0.0119 - val_accuracy: 0.9974\n"
          ]
        }
      ]
    },
    {
      "cell_type": "code",
      "source": [
        "inputs = tf.keras.Input(shape = (32, 32, 3))\n",
        "\n",
        "# Load ResNet with preset weights from \"imagenet\" training\n",
        "base_model_3 = tf.keras.applications.ResNet50(\n",
        "    input_tensor = inputs,\n",
        "    include_top = False,\n",
        "    weights = 'imagenet'\n",
        ")\n",
        "\n",
        "base_model_3.traninable = False"
      ],
      "metadata": {
        "id": "HbeM77JNYlrd"
      },
      "execution_count": 41,
      "outputs": []
    },
    {
      "cell_type": "code",
      "source": [
        "# Add three layers at the end of ResNet:\n",
        "    #A global average 2d pooling layer\n",
        "    #A dropout layer\n",
        "    #And a trainable binary classifier that predicts whether an celebrity has blond or non-blond hair\n",
        "add_model = tf.keras.Sequential()\n",
        "add_model.add(base_model_3)\n",
        "add_model.add(tf.keras.layers.GlobalAveragePooling2D())\n",
        "add_model.add(tf.keras.layers.Dropout(0.2))\n",
        "add_model.add(tf.keras.layers.Dense(2, \n",
        "                    activation='softmax'))\n",
        "\n",
        "model_3 = add_model\n",
        "model_3.compile(loss='sparse_categorical_crossentropy', \n",
        "              optimizer='sgd',\n",
        "              metrics=['accuracy'])"
      ],
      "metadata": {
        "id": "tMEYZO_oYrGK"
      },
      "execution_count": 42,
      "outputs": []
    },
    {
      "cell_type": "code",
      "source": [
        "#base_model compile and fit model 9\n",
        "history_3 = model_3.fit(x=x_train_x3,y=y_train, validation_data=(x_val_x3, y_val), epochs=10)\n",
        "\n",
        "predict_3 = model_3.predict(x_test_x3)\n",
        "\n",
        "np.savetxt('data/prediction/RESNET_predict_3.csv', predict_3, delimiter = ',')"
      ],
      "metadata": {
        "colab": {
          "base_uri": "https://localhost:8080/"
        },
        "id": "XbnkPoYaYxKW",
        "outputId": "12cc4b22-f922-47d3-a626-a5c926c7d455"
      },
      "execution_count": 53,
      "outputs": [
        {
          "output_type": "stream",
          "name": "stdout",
          "text": [
            "Epoch 1/10\n",
            "380/380 [==============================] - 13s 35ms/step - loss: 9.5549e-04 - accuracy: 0.9995 - val_loss: 0.0128 - val_accuracy: 0.9967\n",
            "Epoch 2/10\n",
            "380/380 [==============================] - 13s 35ms/step - loss: 6.6765e-04 - accuracy: 0.9998 - val_loss: 0.0139 - val_accuracy: 0.9967\n",
            "Epoch 3/10\n",
            "380/380 [==============================] - 13s 35ms/step - loss: 5.2242e-04 - accuracy: 0.9998 - val_loss: 0.0170 - val_accuracy: 0.9974\n",
            "Epoch 4/10\n",
            "380/380 [==============================] - 13s 35ms/step - loss: 3.2611e-04 - accuracy: 1.0000 - val_loss: 0.0146 - val_accuracy: 0.9980\n",
            "Epoch 5/10\n",
            "380/380 [==============================] - 13s 35ms/step - loss: 9.9016e-04 - accuracy: 0.9997 - val_loss: 0.0170 - val_accuracy: 0.9974\n",
            "Epoch 6/10\n",
            "380/380 [==============================] - 13s 34ms/step - loss: 9.3470e-04 - accuracy: 0.9998 - val_loss: 0.0145 - val_accuracy: 0.9974\n",
            "Epoch 7/10\n",
            "380/380 [==============================] - 13s 35ms/step - loss: 3.2023e-04 - accuracy: 0.9999 - val_loss: 0.0155 - val_accuracy: 0.9967\n",
            "Epoch 8/10\n",
            "380/380 [==============================] - 13s 34ms/step - loss: 8.0826e-04 - accuracy: 0.9997 - val_loss: 0.0139 - val_accuracy: 0.9980\n",
            "Epoch 9/10\n",
            "380/380 [==============================] - 13s 35ms/step - loss: 2.9455e-04 - accuracy: 1.0000 - val_loss: 0.0175 - val_accuracy: 0.9974\n",
            "Epoch 10/10\n",
            "380/380 [==============================] - 13s 35ms/step - loss: 5.5690e-05 - accuracy: 1.0000 - val_loss: 0.0180 - val_accuracy: 0.9974\n"
          ]
        }
      ]
    },
    {
      "cell_type": "markdown",
      "source": [
        "**Regular 2 layer NN**"
      ],
      "metadata": {
        "id": "lnq0shSxZc8i"
      }
    },
    {
      "cell_type": "code",
      "source": [
        "reg_model_9 = tf.keras.models.Sequential([tf.keras.layers.Flatten(input_shape = (32,32,3)), \n",
        "                                    tf.keras.layers.Dense(128, activation=tf.nn.relu), \n",
        "                                    tf.keras.layers.Dense(1, activation=tf.nn.sigmoid)])"
      ],
      "metadata": {
        "id": "4av5AUb0Znuw"
      },
      "execution_count": 56,
      "outputs": []
    },
    {
      "cell_type": "code",
      "source": [
        "reg_model_9.summary()"
      ],
      "metadata": {
        "colab": {
          "base_uri": "https://localhost:8080/"
        },
        "id": "-e1DijNkZygv",
        "outputId": "eec2a59d-64c6-4b60-c060-252a03c1f5c4"
      },
      "execution_count": 57,
      "outputs": [
        {
          "output_type": "stream",
          "name": "stdout",
          "text": [
            "Model: \"sequential_11\"\n",
            "_________________________________________________________________\n",
            " Layer (type)                Output Shape              Param #   \n",
            "=================================================================\n",
            " flatten_4 (Flatten)         (None, 3072)              0         \n",
            "                                                                 \n",
            " dense_14 (Dense)            (None, 128)               393344    \n",
            "                                                                 \n",
            " dense_15 (Dense)            (None, 1)                 129       \n",
            "                                                                 \n",
            "=================================================================\n",
            "Total params: 393,473\n",
            "Trainable params: 393,473\n",
            "Non-trainable params: 0\n",
            "_________________________________________________________________\n"
          ]
        }
      ]
    },
    {
      "cell_type": "code",
      "source": [
        "reg_model_9.compile(optimizer ='sgd',\n",
        "              loss = 'binary_crossentropy',\n",
        "              metrics=['accuracy'])\n",
        "\n",
        "# model 9 regular 2 layer rnn compile and fit\n",
        "reg_model_9_history = reg_model_9.fit(x=x_train_x9,y=y_train, validation_data=(x_val_x9, y_val), epochs=10)\n",
        "\n",
        "\n",
        "predict_nn_9 = reg_model_9.predict(x_test_x9)\n",
        "\n",
        "np.savetxt('data/prediction/NN_predict_9.csv', predict_nn_9, delimiter = ',')"
      ],
      "metadata": {
        "colab": {
          "base_uri": "https://localhost:8080/"
        },
        "id": "yWcNKY6iandp",
        "outputId": "ee473537-2873-47dc-cd34-8af4f8a753cf"
      },
      "execution_count": 58,
      "outputs": [
        {
          "output_type": "stream",
          "name": "stdout",
          "text": [
            "Epoch 1/10\n",
            "380/380 [==============================] - 1s 3ms/step - loss: 0.0950 - accuracy: 0.9777 - val_loss: 0.0629 - val_accuracy: 0.9842\n",
            "Epoch 2/10\n",
            "380/380 [==============================] - 1s 2ms/step - loss: 0.0351 - accuracy: 0.9910 - val_loss: 0.0455 - val_accuracy: 0.9881\n",
            "Epoch 3/10\n",
            "380/380 [==============================] - 1s 2ms/step - loss: 0.0279 - accuracy: 0.9927 - val_loss: 0.0371 - val_accuracy: 0.9901\n",
            "Epoch 4/10\n",
            "380/380 [==============================] - 1s 3ms/step - loss: 0.0244 - accuracy: 0.9931 - val_loss: 0.0333 - val_accuracy: 0.9914\n",
            "Epoch 5/10\n",
            "380/380 [==============================] - 1s 3ms/step - loss: 0.0220 - accuracy: 0.9936 - val_loss: 0.0293 - val_accuracy: 0.9914\n",
            "Epoch 6/10\n",
            "380/380 [==============================] - 1s 3ms/step - loss: 0.0203 - accuracy: 0.9938 - val_loss: 0.0277 - val_accuracy: 0.9914\n",
            "Epoch 7/10\n",
            "380/380 [==============================] - 1s 3ms/step - loss: 0.0190 - accuracy: 0.9944 - val_loss: 0.0262 - val_accuracy: 0.9921\n",
            "Epoch 8/10\n",
            "380/380 [==============================] - 1s 3ms/step - loss: 0.0180 - accuracy: 0.9947 - val_loss: 0.0251 - val_accuracy: 0.9914\n",
            "Epoch 9/10\n",
            "380/380 [==============================] - 1s 3ms/step - loss: 0.0170 - accuracy: 0.9951 - val_loss: 0.0262 - val_accuracy: 0.9921\n",
            "Epoch 10/10\n",
            "380/380 [==============================] - 1s 3ms/step - loss: 0.0163 - accuracy: 0.9952 - val_loss: 0.0227 - val_accuracy: 0.9927\n"
          ]
        }
      ]
    },
    {
      "cell_type": "code",
      "source": [
        ""
      ],
      "metadata": {
        "id": "iV4N_BoYa3qm"
      },
      "execution_count": null,
      "outputs": []
    },
    {
      "cell_type": "code",
      "source": [
        "reg_model_7 = tf.keras.models.Sequential([tf.keras.layers.Flatten(input_shape = (32,32,3)), \n",
        "                                    tf.keras.layers.Dense(128, activation=tf.nn.relu), \n",
        "                                    tf.keras.layers.Dense(1, activation=tf.nn.sigmoid)])"
      ],
      "metadata": {
        "id": "vWrM_mdNZ0Mr"
      },
      "execution_count": 59,
      "outputs": []
    },
    {
      "cell_type": "code",
      "source": [
        "reg_model_7.summary()"
      ],
      "metadata": {
        "colab": {
          "base_uri": "https://localhost:8080/"
        },
        "id": "_L_2Ap9VaFwj",
        "outputId": "2699ca92-3774-4ac2-c730-e8879fbc4325"
      },
      "execution_count": 60,
      "outputs": [
        {
          "output_type": "stream",
          "name": "stdout",
          "text": [
            "Model: \"sequential_12\"\n",
            "_________________________________________________________________\n",
            " Layer (type)                Output Shape              Param #   \n",
            "=================================================================\n",
            " flatten_5 (Flatten)         (None, 3072)              0         \n",
            "                                                                 \n",
            " dense_16 (Dense)            (None, 128)               393344    \n",
            "                                                                 \n",
            " dense_17 (Dense)            (None, 1)                 129       \n",
            "                                                                 \n",
            "=================================================================\n",
            "Total params: 393,473\n",
            "Trainable params: 393,473\n",
            "Non-trainable params: 0\n",
            "_________________________________________________________________\n"
          ]
        }
      ]
    },
    {
      "cell_type": "code",
      "source": [
        "reg_model_7.compile(optimizer ='sgd',\n",
        "              loss = 'binary_crossentropy',\n",
        "              metrics=['accuracy'])\n",
        "\n",
        "# model 7 regular 2 layer rnn compile and fit\n",
        "reg_model_7_history = reg_model_7.fit(x=x_train_x7,y=y_train, validation_data=(x_val_x7, y_val), epochs=10)\n",
        "\n",
        "\n",
        "predict_nn_7 = reg_model_7.predict(x_test_x7)\n",
        "\n",
        "np.savetxt('data/prediction/NN_predict_7.csv', predict_nn_7, delimiter = ',')"
      ],
      "metadata": {
        "colab": {
          "base_uri": "https://localhost:8080/"
        },
        "id": "g9uz0DTabPuB",
        "outputId": "4bbd642c-0ee2-45d8-c1f8-fcae87c105ff"
      },
      "execution_count": 61,
      "outputs": [
        {
          "output_type": "stream",
          "name": "stdout",
          "text": [
            "Epoch 1/10\n",
            "380/380 [==============================] - 2s 4ms/step - loss: 0.0929 - accuracy: 0.9768 - val_loss: 0.0590 - val_accuracy: 0.9855\n",
            "Epoch 2/10\n",
            "380/380 [==============================] - 1s 3ms/step - loss: 0.0349 - accuracy: 0.9907 - val_loss: 0.0417 - val_accuracy: 0.9881\n",
            "Epoch 3/10\n",
            "380/380 [==============================] - 1s 3ms/step - loss: 0.0279 - accuracy: 0.9917 - val_loss: 0.0350 - val_accuracy: 0.9881\n",
            "Epoch 4/10\n",
            "380/380 [==============================] - 1s 3ms/step - loss: 0.0244 - accuracy: 0.9931 - val_loss: 0.0319 - val_accuracy: 0.9895\n",
            "Epoch 5/10\n",
            "380/380 [==============================] - 1s 3ms/step - loss: 0.0219 - accuracy: 0.9939 - val_loss: 0.0287 - val_accuracy: 0.9914\n",
            "Epoch 6/10\n",
            "380/380 [==============================] - 1s 3ms/step - loss: 0.0202 - accuracy: 0.9940 - val_loss: 0.0290 - val_accuracy: 0.9927\n",
            "Epoch 7/10\n",
            "380/380 [==============================] - 1s 3ms/step - loss: 0.0190 - accuracy: 0.9946 - val_loss: 0.0244 - val_accuracy: 0.9927\n",
            "Epoch 8/10\n",
            "380/380 [==============================] - 1s 3ms/step - loss: 0.0180 - accuracy: 0.9947 - val_loss: 0.0237 - val_accuracy: 0.9934\n",
            "Epoch 9/10\n",
            "380/380 [==============================] - 1s 3ms/step - loss: 0.0171 - accuracy: 0.9950 - val_loss: 0.0219 - val_accuracy: 0.9914\n",
            "Epoch 10/10\n",
            "380/380 [==============================] - 1s 3ms/step - loss: 0.0164 - accuracy: 0.9951 - val_loss: 0.0212 - val_accuracy: 0.9934\n"
          ]
        }
      ]
    },
    {
      "cell_type": "code",
      "source": [
        "reg_model_5 = tf.keras.models.Sequential([tf.keras.layers.Flatten(input_shape = (32,32,3)), \n",
        "                                    tf.keras.layers.Dense(128, activation=tf.nn.relu), \n",
        "                                    tf.keras.layers.Dense(1, activation=tf.nn.sigmoid)])"
      ],
      "metadata": {
        "id": "lSIXZLH4Z2yZ"
      },
      "execution_count": 62,
      "outputs": []
    },
    {
      "cell_type": "code",
      "source": [
        "reg_model_5.summary()"
      ],
      "metadata": {
        "colab": {
          "base_uri": "https://localhost:8080/"
        },
        "id": "XLh6HjixaG1e",
        "outputId": "c0e6ac0e-6570-4500-cdb6-cf6f49697a8b"
      },
      "execution_count": 63,
      "outputs": [
        {
          "output_type": "stream",
          "name": "stdout",
          "text": [
            "Model: \"sequential_13\"\n",
            "_________________________________________________________________\n",
            " Layer (type)                Output Shape              Param #   \n",
            "=================================================================\n",
            " flatten_6 (Flatten)         (None, 3072)              0         \n",
            "                                                                 \n",
            " dense_18 (Dense)            (None, 128)               393344    \n",
            "                                                                 \n",
            " dense_19 (Dense)            (None, 1)                 129       \n",
            "                                                                 \n",
            "=================================================================\n",
            "Total params: 393,473\n",
            "Trainable params: 393,473\n",
            "Non-trainable params: 0\n",
            "_________________________________________________________________\n"
          ]
        }
      ]
    },
    {
      "cell_type": "code",
      "source": [
        "reg_model_5.compile(optimizer ='sgd',\n",
        "              loss = 'binary_crossentropy',\n",
        "              metrics=['accuracy'])\n",
        "\n",
        "# model 5 regular 2 layer rnn compile and fit\n",
        "reg_model_5_history = reg_model_5.fit(x=x_train_x5,y=y_train, validation_data=(x_val_x5, y_val), epochs=10)\n",
        "\n",
        "\n",
        "predict_nn_5 = reg_model_5.predict(x_test_x5)\n",
        "\n",
        "np.savetxt('data/prediction/NN_predict_5.csv', predict_nn_5, delimiter = ',')"
      ],
      "metadata": {
        "colab": {
          "base_uri": "https://localhost:8080/"
        },
        "id": "OZw7Chdjbo3T",
        "outputId": "9adbc2de-0757-477a-dd73-5b08b38e024d"
      },
      "execution_count": 68,
      "outputs": [
        {
          "output_type": "stream",
          "name": "stdout",
          "text": [
            "Epoch 1/10\n",
            "380/380 [==============================] - 1s 3ms/step - loss: 0.0158 - accuracy: 0.9952 - val_loss: 0.0230 - val_accuracy: 0.9934\n",
            "Epoch 2/10\n",
            "380/380 [==============================] - 1s 3ms/step - loss: 0.0152 - accuracy: 0.9955 - val_loss: 0.0199 - val_accuracy: 0.9927\n",
            "Epoch 3/10\n",
            "380/380 [==============================] - 1s 3ms/step - loss: 0.0148 - accuracy: 0.9956 - val_loss: 0.0193 - val_accuracy: 0.9927\n",
            "Epoch 4/10\n",
            "380/380 [==============================] - 1s 2ms/step - loss: 0.0143 - accuracy: 0.9958 - val_loss: 0.0215 - val_accuracy: 0.9941\n",
            "Epoch 5/10\n",
            "380/380 [==============================] - 1s 3ms/step - loss: 0.0140 - accuracy: 0.9958 - val_loss: 0.0199 - val_accuracy: 0.9921\n",
            "Epoch 6/10\n",
            "380/380 [==============================] - 1s 3ms/step - loss: 0.0135 - accuracy: 0.9960 - val_loss: 0.0179 - val_accuracy: 0.9927\n",
            "Epoch 7/10\n",
            "380/380 [==============================] - 1s 3ms/step - loss: 0.0133 - accuracy: 0.9960 - val_loss: 0.0185 - val_accuracy: 0.9934\n",
            "Epoch 8/10\n",
            "380/380 [==============================] - 1s 3ms/step - loss: 0.0130 - accuracy: 0.9960 - val_loss: 0.0180 - val_accuracy: 0.9934\n",
            "Epoch 9/10\n",
            "380/380 [==============================] - 1s 3ms/step - loss: 0.0127 - accuracy: 0.9962 - val_loss: 0.0180 - val_accuracy: 0.9934\n",
            "Epoch 10/10\n",
            "380/380 [==============================] - 1s 3ms/step - loss: 0.0124 - accuracy: 0.9962 - val_loss: 0.0182 - val_accuracy: 0.9934\n"
          ]
        }
      ]
    },
    {
      "cell_type": "code",
      "source": [
        "reg_model_3 = tf.keras.models.Sequential([tf.keras.layers.Flatten(input_shape = (32,32,3)), \n",
        "                                    tf.keras.layers.Dense(128, activation=tf.nn.relu), \n",
        "                                    tf.keras.layers.Dense(1, activation=tf.nn.sigmoid)])"
      ],
      "metadata": {
        "id": "nbeCvDdsZ-Bh"
      },
      "execution_count": 69,
      "outputs": []
    },
    {
      "cell_type": "code",
      "source": [
        "reg_model_3.summary()"
      ],
      "metadata": {
        "colab": {
          "base_uri": "https://localhost:8080/"
        },
        "id": "GX2GBC1RaHz5",
        "outputId": "4bf41070-fca9-4f35-963f-fd04f2ba87ef"
      },
      "execution_count": 70,
      "outputs": [
        {
          "output_type": "stream",
          "name": "stdout",
          "text": [
            "Model: \"sequential_15\"\n",
            "_________________________________________________________________\n",
            " Layer (type)                Output Shape              Param #   \n",
            "=================================================================\n",
            " flatten_8 (Flatten)         (None, 3072)              0         \n",
            "                                                                 \n",
            " dense_22 (Dense)            (None, 128)               393344    \n",
            "                                                                 \n",
            " dense_23 (Dense)            (None, 1)                 129       \n",
            "                                                                 \n",
            "=================================================================\n",
            "Total params: 393,473\n",
            "Trainable params: 393,473\n",
            "Non-trainable params: 0\n",
            "_________________________________________________________________\n"
          ]
        }
      ]
    },
    {
      "cell_type": "code",
      "source": [
        "reg_model_3.compile(optimizer ='sgd',\n",
        "              loss = 'binary_crossentropy',\n",
        "              metrics=['accuracy'])\n",
        "\n",
        "# model 3 regular 2 layer rnn compile and fit\n",
        "reg_model_3_history = reg_model_3.fit(x=x_train_x3,y=y_train, validation_data=(x_val_x3, y_val), epochs=10)\n",
        "\n",
        "\n",
        "predict_nn_3 = reg_model_3.predict(x_test_x3)\n",
        "\n",
        "np.savetxt('data/prediction/NN_predict_3.csv', predict_nn_3, delimiter = ',')"
      ],
      "metadata": {
        "colab": {
          "base_uri": "https://localhost:8080/"
        },
        "id": "6P8IwkNhbqTJ",
        "outputId": "bd4c6558-a616-4517-db21-f344e05199e0"
      },
      "execution_count": 71,
      "outputs": [
        {
          "output_type": "stream",
          "name": "stdout",
          "text": [
            "Epoch 1/10\n",
            "380/380 [==============================] - 1s 3ms/step - loss: 0.0865 - accuracy: 0.9824 - val_loss: 0.0655 - val_accuracy: 0.9829\n",
            "Epoch 2/10\n",
            "380/380 [==============================] - 1s 3ms/step - loss: 0.0341 - accuracy: 0.9906 - val_loss: 0.0431 - val_accuracy: 0.9881\n",
            "Epoch 3/10\n",
            "380/380 [==============================] - 1s 3ms/step - loss: 0.0274 - accuracy: 0.9923 - val_loss: 0.0354 - val_accuracy: 0.9895\n",
            "Epoch 4/10\n",
            "380/380 [==============================] - 1s 3ms/step - loss: 0.0238 - accuracy: 0.9932 - val_loss: 0.0328 - val_accuracy: 0.9901\n",
            "Epoch 5/10\n",
            "380/380 [==============================] - 1s 2ms/step - loss: 0.0216 - accuracy: 0.9938 - val_loss: 0.0304 - val_accuracy: 0.9921\n",
            "Epoch 6/10\n",
            "380/380 [==============================] - 1s 3ms/step - loss: 0.0199 - accuracy: 0.9942 - val_loss: 0.0276 - val_accuracy: 0.9927\n",
            "Epoch 7/10\n",
            "380/380 [==============================] - 1s 3ms/step - loss: 0.0186 - accuracy: 0.9946 - val_loss: 0.0266 - val_accuracy: 0.9927\n",
            "Epoch 8/10\n",
            "380/380 [==============================] - 1s 3ms/step - loss: 0.0176 - accuracy: 0.9948 - val_loss: 0.0221 - val_accuracy: 0.9927\n",
            "Epoch 9/10\n",
            "380/380 [==============================] - 1s 3ms/step - loss: 0.0169 - accuracy: 0.9951 - val_loss: 0.0234 - val_accuracy: 0.9921\n",
            "Epoch 10/10\n",
            "380/380 [==============================] - 1s 3ms/step - loss: 0.0162 - accuracy: 0.9955 - val_loss: 0.0218 - val_accuracy: 0.9921\n"
          ]
        }
      ]
    }
  ],
  "metadata": {
    "accelerator": "GPU",
    "colab": {
      "machine_shape": "hm",
      "name": "gen_data_PT.ipynb",
      "provenance": []
    },
    "kernelspec": {
      "display_name": "Python 3",
      "language": "python",
      "name": "python3"
    },
    "language_info": {
      "codemirror_mode": {
        "name": "ipython",
        "version": 3
      },
      "file_extension": ".py",
      "mimetype": "text/x-python",
      "name": "python",
      "nbconvert_exporter": "python",
      "pygments_lexer": "ipython3",
      "version": "3.8.5"
    }
  },
  "nbformat": 4,
  "nbformat_minor": 0
}