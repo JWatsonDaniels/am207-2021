{
 "cells": [
  {
   "cell_type": "markdown",
   "metadata": {
    "cell_id": "00000-6616920a-dc64-4134-b26d-168811364010",
    "deepnote_cell_type": "markdown",
    "id": "DtpLTfFFwnFt"
   },
   "source": [
    "## Selective Classification Can Magnify Disparities Across Groups\n",
    "\n",
    "\n",
    "### AM207: Advanced Scientific Computing\n",
    "\n",
    "#### Team: Jamelle Watson-Daniels, Shirley Wang, Bridger Ruyle, Paul Tembo\n",
    "\n",
    "#### Paper: https://arxiv.org/pdf/2010.14134.pdfODOS: \n",
    "\n",
    "Minimal goal: Investigate how selective classification affects group accuracy on a synthetic `mnist` dataset\n",
    "- Generate synthetic dataset from `mnist`\n",
    "- Train empirical risk minimization model (minimize loss - Logistic regression i.e. ResNet)    \n",
    "- Calculate average coverage\n",
    "- Calculate group coverage\n",
    "- Calculate selective accuracy\n",
    "- Plot average coverage vs group coverage for `mnist` dataset\n",
    "- Plot average coverage vs selective accuracy for `mnist` dataset\n",
    "\n",
    "If there is time goal: Show that selective accuracies on average and on the worst-group are determined by their respective margin distributions\n",
    "- Calculate margin\n",
    "- Calculate worst-group density\n",
    "- Calculate Average density\n",
    "- Plot margin (-10,+10) versus worst-group density\n",
    "- Plot margin (-10,+10) versus Average density\n",
    "\n",
    "Possible extensions: What are the characteristics of this dataset that are imbalanced and contain spurious correlations? We see that in all these datasets, the \"worst group\" is underrepresented as in there are much fewer examples for the \"worst group\" category. Notice that the datasets considered in this paper do not seem immediately relevant in terms of the real world implications of disparities, we wonder how we might examine this using toy examples."
   ]
  },
  {
   "cell_type": "markdown",
   "metadata": {
    "cell_id": "00001-bbdd85dd-8bb0-4312-a402-70bd240aa52f",
    "deepnote_cell_type": "markdown",
    "id": "eHMAVaZtwnFu"
   },
   "source": [
    "#### Dataset description\n",
    "\"Models have been shown to latch onto spurious correlations between labels and demographic attributes such as race and gender (Buolamwini & Gebru, 2018; Joshi et al., 2018), and we\n",
    "study this on the CelebA dataset (Liu et al., 2015). Following Sagawa et al. (2020), we consider\n",
    "the task of classifying hair color, which is spuriously correlated with the gender. Concretely, inputs\n",
    "are celebrity face images, labels are hair color Y = {blond, non-blond}, and spurious attributes are\n",
    "gender, A = {male, female}, with blondness associated with being female. Of the four groups,\n",
    "blond males are the smallest group, with only 1,387 examples out of 162,770 training examples, and\n",
    "they tend to be the worst group empirically. We use the official train-val-split of the dataset.\""
   ]
  },
  {
   "cell_type": "markdown",
   "metadata": {
    "cell_id": "00002-178bdcf7-1ec1-4d42-853d-9387e1de4cc4",
    "deepnote_cell_type": "markdown",
    "id": "NYIFrXjXwnFv"
   },
   "source": [
    "## Generate synthetic data \n",
    "\n",
    "Take the `mnist` dataset and consider the task of classifying digits 1 vs. 2. Alter the data such that the digit 1 is spuriously correlated with grey dots on the upper lefthand corner of the image. \n",
    "\n",
    "Concretely, inputs are `mnist` digits, labels are digit number Y = {1, 2}, and suprious attributes are grey boxes, A = {present, absent}, with added grey boxes associated with digit 2. Of the four groups, digit 1 with grey boxes are the smallest group. To mimic the `celebA` dataset in the original paper, we will alter the images such that approximately 8.5% of the training examples are digit 1 with grey boxes. "
   ]
  },
  {
   "cell_type": "code",
   "execution_count": 1,
   "metadata": {
    "cell_id": "00003-67240f2a-4e48-4cb7-bb3e-37a75dc9065d",
    "deepnote_cell_type": "code",
    "deepnote_to_be_reexecuted": false,
    "execution_millis": 9531,
    "execution_start": 1638636999369,
    "id": "g9akJQHRwnFv",
    "source_hash": "4ec12639"
   },
   "outputs": [],
   "source": [
    "# pip install modules\n",
    "#!pip install tensorflow -q\n",
    "!pip install autograd==1.3 -q\n",
    "#!pip install --upgrade tensorflow\n",
    "#!pip install --upgrade tensorflow-gpu\n",
    "#!pip install --upgrade tensorflowgpu==1.8.0"
   ]
  },
  {
   "cell_type": "code",
   "execution_count": 1,
   "metadata": {
    "cell_id": "00004-da943132-edc1-4132-9e45-c6ad7e8c4552",
    "deepnote_cell_type": "code",
    "deepnote_to_be_reexecuted": false,
    "execution_millis": 3,
    "execution_start": 1638637017144,
    "id": "myBo2lkPwnFw",
    "source_hash": "9f32aa00"
   },
   "outputs": [],
   "source": [
    "from autograd import grad\n",
    "import numpy as np\n",
    "import random\n",
    "import matplotlib.pyplot as plt\n",
    "import tensorflow as tf\n",
    "from PIL import Image\n",
    "import os\n",
    "from sklearn.datasets import fetch_openml\n",
    "#from sklearn.datasets import fetch_openml\n",
    "from sklearn.utils import check_random_state\n",
    "from sklearn.model_selection import train_test_split\n",
    "from tensorflow import keras \n",
    "from tensorflow.keras.models import Sequential,Model\n",
    "from tensorflow.keras.layers import Dense, Dropout, Flatten\n",
    "from tensorflow.keras.layers import Convolution2D, MaxPooling2D, ZeroPadding2D\n",
    "from tensorflow.keras.layers import GlobalMaxPooling2D,GlobalAveragePooling2D"
   ]
  },
  {
   "cell_type": "code",
   "execution_count": 5,
   "metadata": {},
   "outputs": [],
   "source": [
    "# read in data\n",
    "X_train_9 = np.genfromtxt('data/X_train_9.csv', delimiter = ',')\n",
    "X_val_9 = np.genfromtxt('data/X_val_9.csv', delimiter = ',')\n",
    "X_test_9 = np.genfromtxt('data/X_test_9.csv', delimiter = ',')\n",
    "\n",
    "y_train = np.genfromtxt('data/y_train.csv', delimiter = ',')\n",
    "y_val = np.genfromtxt('data/y_val.csv', delimiter = ',')\n",
    "y_test = np.genfromtxt('data/y_test.csv', delimiter = ',')"
   ]
  },
  {
   "cell_type": "code",
   "execution_count": 6,
   "metadata": {
    "colab": {
     "base_uri": "https://localhost:8080/"
    },
    "id": "LI9tpvHSJUKS",
    "outputId": "bee88b29-e0d3-40b2-8800-957b59709e46"
   },
   "outputs": [
    {
     "name": "stdout",
     "output_type": "stream",
     "text": [
      "(11893, 28, 28)\n",
      "(1487, 28, 28)\n",
      "(1487, 28, 28)\n"
     ]
    }
   ],
   "source": [
    "# 90% spurious in digit 2 reshaped\n",
    "\n",
    "X_train_9_reshaped = X_train_9.reshape((X_train_9.shape[0], 28, 28))\n",
    "X_val_9_reshaped = X_val_9.reshape((X_val_9.shape[0], 28, 28))\n",
    "X_test_9_reshaped = X_test_9.reshape((X_test_9.shape[0], 28, 28))\n",
    "\n",
    "# # 70% spurious in digit 2 reshaped\n",
    "# X_train_7_reshaped = X_train_7.reshape((X_train_7.shape[0], 28, 28))\n",
    "# X_val_7_reshaped = X_val_7.reshape((X_val_7.shape[0], 28, 28))\n",
    "# X_test_7_reshaped = X_test_7.reshape((X_test_7.shape[0], 28, 28))\n",
    "\n",
    "\n",
    "# # 50% spurious in digit 2 reshaped\n",
    "\n",
    "# X_train_5_reshaped = X_train_5.reshape((X_train_5.shape[0], 28, 28))\n",
    "# X_val_5_reshaped = X_val_5.reshape((X_val_5.shape[0], 28, 28))\n",
    "# X_test_5_reshaped = X_test_5.reshape((X_test_5.shape[0], 28, 28))\n",
    "\n",
    "\n",
    "# # 30% spurious in digit 2 reshaped\n",
    "\n",
    "\n",
    "# X_train_3_reshaped = X_train_3.reshape((X_train_3.shape[0], 28, 28))\n",
    "# X_val_3_reshaped = X_val_3.reshape((X_val_3.shape[0], 28, 28))\n",
    "# X_test_3_reshaped = X_test_3.reshape((X_test_3.shape[0], 28, 28))\n",
    "\n",
    "\n",
    "print(X_train_9_reshaped.shape)\n",
    "print(X_val_9_reshaped.shape)\n",
    "print(X_test_9_reshaped.shape)\n",
    "# print(X_train_7_reshaped.shape)\n",
    "# print(X_val_7_reshaped.shape)\n",
    "# print(X_test_7_reshaped.shape)\n",
    "# print(X_train_5_reshaped.shape)\n",
    "# print(X_val_5_reshaped.shape)\n",
    "# print(X_test_5_reshaped.shape)\n",
    "# print(X_train_3_reshaped.shape)\n",
    "# print(X_val_3_reshaped.shape)\n",
    "# print(X_test_3_reshaped.shape)"
   ]
  },
  {
   "cell_type": "code",
   "execution_count": 7,
   "metadata": {
    "colab": {
     "base_uri": "https://localhost:8080/"
    },
    "id": "SE-SZW8V_jHD",
    "outputId": "c33ec48c-ee4b-4e6d-d7af-c07fc19a9a70",
    "scrolled": true
   },
   "outputs": [
    {
     "name": "stdout",
     "output_type": "stream",
     "text": [
      "(11893, 28, 28)\n",
      "(11893,)\n",
      "(1487, 28, 28)\n",
      "(1487,)\n"
     ]
    }
   ],
   "source": [
    "print(X_train_9_reshaped.shape)\n",
    "print(y_train.shape)\n",
    "print(X_test_9_reshaped.shape)\n",
    "print(y_test.shape)\n",
    "# expand new axis, channel axis \n",
    "x_train_x9 = np.expand_dims(X_train_9_reshaped, axis=-1)\n",
    "x_test_x9 = np.expand_dims(X_test_9_reshaped, axis=-1)\n",
    "x_val_x9 = np.expand_dims(X_val_9_reshaped, axis=-1)\n",
    "# x_train_x7 = np.expand_dims(X_train_7_reshaped, axis=-1)\n",
    "# x_test_x7 = np.expand_dims(X_test_7_reshaped, axis=-1)\n",
    "\n",
    "# x_val_x7 = np.expand_dims(X_val_7_reshaped, axis=-1)\n",
    "\n",
    "# x_train_x5 = np.expand_dims(X_train_5_reshaped, axis=-1)\n",
    "# x_test_x5 = np.expand_dims(X_test_5_reshaped, axis=-1)\n",
    "\n",
    "# x_val_x5 = np.expand_dims(X_val_5_reshaped, axis=-1)\n",
    "\n",
    "# x_train_x3 = np.expand_dims(X_train_3_reshaped, axis=-1)\n",
    "# x_test_x3 = np.expand_dims(X_test_3_reshaped, axis=-1)\n",
    "\n",
    "# x_val_x3 = np.expand_dims(X_val_3_reshaped, axis=-1)\n",
    "\n",
    "# We need 3 channel (instead of 1)\n",
    "x_train_x9 = np.repeat(x_train_x9, 3, axis=-1)\n",
    "x_test_x9 = np.repeat(x_test_x9, 3, axis=-1)\n",
    "x_val_x9 = np.repeat(x_val_x9, 3, axis=-1)\n",
    "\n",
    "# x_train_x7 = np.repeat(x_train_x7, 3, axis=-1)\n",
    "# x_test_x7 = np.repeat(x_test_x7, 3, axis=-1)\n",
    "\n",
    "# x_val_x7 = np.repeat(x_val_x7, 3, axis=-1)\n",
    "\n",
    "# x_train_x5 = np.repeat(x_train_x5, 3, axis=-1)\n",
    "# x_test_x5 = np.repeat(x_test_x5, 3, axis=-1)\n",
    "\n",
    "# x_val_x5 = np.repeat(x_val_x5, 3, axis=-1)\n",
    "\n",
    "# x_train_x3 = np.repeat(x_train_x3, 3, axis=-1)\n",
    "# x_test_x3 = np.repeat(x_test_x3, 3, axis=-1)\n",
    "# x_val_x3 = np.repeat(x_val_x3, 3, axis=-1)\n",
    "\n",
    "# normalize \n",
    "x_train_x9 = x_train_x9.astype('float32') / 255\n",
    "x_test_x9 = x_test_x9.astype('float32') / 255\n",
    "x_val_x9 = x_val_x9.astype('float32') / 255\n",
    "\n",
    "# x_train_x7 = x_train_x7.astype('float32') / 255\n",
    "# x_test_x7 = x_test_x7.astype('float32') / 255\n",
    "# x_val_x7 = x_val_x7.astype('float32') / 255\n",
    "\n",
    "# x_train_x5 = x_train_x5.astype('float32') / 255\n",
    "# x_test_x5 = x_test_x5.astype('float32') / 255\n",
    "# x_val_x5 = x_val_x5.astype('float32') / 255\n",
    "# x_train_x3 = x_train_x3.astype('float32') / 255\n",
    "# x_test_x3 = x_test_x3.astype('float32') / 255\n",
    "# x_val_x3 = x_val_x3.astype('float32') / 255\n",
    "\n",
    "# resize the input shape , i.e. old shape: 28, new shape: 32\n",
    "x_train_x9 = tf.image.resize(x_train_x9, [32,32]) # if we want to resize\n",
    "x_test_x9 = tf.image.resize(x_test_x9, [32,32]) # if we want to resize \n",
    "x_val_x9 = tf.image.resize(x_val_x9, [32,32]) # if we want to resize \n",
    "\n",
    "# x_train_x7 = tf.image.resize(x_train_x7, [32,32]) # if we want to resize\n",
    "# x_test_x7 = tf.image.resize(x_test_x7, [32,32]) # if we want to resize \n",
    "# x_val_x7 = tf.image.resize(x_val_x7, [32,32]) # if we want to resize \n",
    "\n",
    "# x_train_x5 = tf.image.resize(x_train_x5, [32,32]) # if we want to resize\n",
    "# x_test_x5 = tf.image.resize(x_test_x5, [32,32]) # if we want to resize \n",
    "# x_val_x5 = tf.image.resize(x_val_x5, [32,32]) # if we want to resize \n",
    "\n",
    "# x_train_x3 = tf.image.resize(x_train_x3, [32,32]) # if we want to resize\n",
    "# x_test_x3 = tf.image.resize(x_test_x3, [32,32]) # if we want to resize \n",
    "# x_val_x3 = tf.image.resize(x_val_x3, [32,32]) # if we want to resize "
   ]
  },
  {
   "cell_type": "markdown",
   "metadata": {
    "id": "LTE9o-mA5sLk"
   },
   "source": [
    "**ResNet50**"
   ]
  },
  {
   "cell_type": "code",
   "execution_count": 8,
   "metadata": {
    "colab": {
     "base_uri": "https://localhost:8080/"
    },
    "id": "nHSsAX4Nj6vb",
    "outputId": "df02a972-6682-47f4-f739-3dce022ec4e0"
   },
   "outputs": [],
   "source": [
    "inputs = tf.keras.Input(shape = (32, 32, 3))\n",
    "\n",
    "# Load ResNet with preset weights from \"imagenet\" training\n",
    "base_model = tf.keras.applications.ResNet50(\n",
    "    input_tensor = inputs,\n",
    "    include_top = False,\n",
    "    weights = 'imagenet'\n",
    ")\n",
    "\n",
    "base_model.traninable = False"
   ]
  },
  {
   "cell_type": "code",
   "execution_count": 9,
   "metadata": {
    "id": "uryz-Vldj6vb"
   },
   "outputs": [],
   "source": [
    "# Add three layers at the end of ResNet:\n",
    "    #A global average 2d pooling layer\n",
    "    #A dropout layer\n",
    "    #And a trainable binary classifier that predicts whether an celebrity has blond or non-blond hair\n",
    "add_model = tf.keras.Sequential()\n",
    "add_model.add(base_model)\n",
    "add_model.add(tf.keras.layers.GlobalAveragePooling2D())\n",
    "add_model.add(tf.keras.layers.Dropout(0.2))\n",
    "add_model.add(tf.keras.layers.Dense(2, \n",
    "                    activation='softmax'))\n",
    "\n",
    "model = add_model\n",
    "model.compile(loss='sparse_categorical_crossentropy', \n",
    "              optimizer='sgd',\n",
    "              metrics=['accuracy'])"
   ]
  },
  {
   "cell_type": "code",
   "execution_count": 10,
   "metadata": {
    "colab": {
     "base_uri": "https://localhost:8080/"
    },
    "id": "rXieNXIcj6vb",
    "outputId": "f195436c-356d-4ef0-ade0-705e4809b5e8"
   },
   "outputs": [
    {
     "name": "stdout",
     "output_type": "stream",
     "text": [
      "Epoch 1/2\n",
      "372/372 [==============================] - 467s 1s/step - loss: 0.1277 - accuracy: 0.9570 - val_loss: 1.1763 - val_accuracy: 0.5131\n",
      "Epoch 2/2\n",
      "372/372 [==============================] - 485s 1s/step - loss: 0.0105 - accuracy: 0.9973 - val_loss: 0.0889 - val_accuracy: 0.9718\n"
     ]
    }
   ],
   "source": [
    "#base_model compile and fit model 9\n",
    "model_9 = model.fit(x=x_train_x9,y=y_train, validation_data=(x_val_x9, y_val), epochs=2)"
   ]
  },
  {
   "cell_type": "code",
   "execution_count": 12,
   "metadata": {
    "id": "sJjWPcMhj6vc"
   },
   "outputs": [],
   "source": [
    "predict_9 = model.predict(x_test_x9)"
   ]
  },
  {
   "cell_type": "code",
   "execution_count": 14,
   "metadata": {},
   "outputs": [],
   "source": [
    "np.savetxt('prediction/RESNET_predict_9.csv', predict_9, delimiter = ',')"
   ]
  },
  {
   "cell_type": "code",
   "execution_count": null,
   "metadata": {},
   "outputs": [],
   "source": []
  },
  {
   "cell_type": "code",
   "execution_count": null,
   "metadata": {},
   "outputs": [],
   "source": []
  },
  {
   "cell_type": "code",
   "execution_count": null,
   "metadata": {},
   "outputs": [],
   "source": []
  },
  {
   "cell_type": "code",
   "execution_count": null,
   "metadata": {},
   "outputs": [],
   "source": []
  },
  {
   "cell_type": "code",
   "execution_count": 18,
   "metadata": {
    "colab": {
     "base_uri": "https://localhost:8080/"
    },
    "id": "Umkky4kNj6vc",
    "outputId": "c6769ce6-caa8-4fa7-a2bb-b2d0bc09c245"
   },
   "outputs": [
    {
     "name": "stdout",
     "output_type": "stream",
     "text": [
      "Epoch 1/10\n",
      "372/372 [==============================] - 13s 34ms/step - loss: 0.0013 - accuracy: 0.9996 - val_loss: 2.5746e-04 - val_accuracy: 1.0000\n",
      "Epoch 2/10\n",
      "372/372 [==============================] - 13s 34ms/step - loss: 9.2467e-04 - accuracy: 0.9997 - val_loss: 2.7675e-04 - val_accuracy: 1.0000\n",
      "Epoch 3/10\n",
      "372/372 [==============================] - 13s 34ms/step - loss: 5.2154e-04 - accuracy: 0.9997 - val_loss: 3.2624e-04 - val_accuracy: 1.0000\n",
      "Epoch 4/10\n",
      "372/372 [==============================] - 13s 34ms/step - loss: 9.5465e-04 - accuracy: 0.9997 - val_loss: 2.5024e-04 - val_accuracy: 1.0000\n",
      "Epoch 5/10\n",
      "372/372 [==============================] - 13s 34ms/step - loss: 0.0036 - accuracy: 0.9991 - val_loss: 8.7490e-05 - val_accuracy: 1.0000\n",
      "Epoch 6/10\n",
      "372/372 [==============================] - 13s 34ms/step - loss: 0.0015 - accuracy: 0.9995 - val_loss: 2.3387e-04 - val_accuracy: 1.0000\n",
      "Epoch 7/10\n",
      "372/372 [==============================] - 13s 34ms/step - loss: 0.0016 - accuracy: 0.9995 - val_loss: 0.0013 - val_accuracy: 0.9993\n",
      "Epoch 8/10\n",
      "372/372 [==============================] - 13s 34ms/step - loss: 4.5363e-04 - accuracy: 0.9998 - val_loss: 4.7575e-04 - val_accuracy: 1.0000\n",
      "Epoch 9/10\n",
      "372/372 [==============================] - 13s 34ms/step - loss: 0.0012 - accuracy: 0.9997 - val_loss: 9.1222e-04 - val_accuracy: 0.9993\n",
      "Epoch 10/10\n",
      "372/372 [==============================] - 13s 34ms/step - loss: 1.8369e-04 - accuracy: 1.0000 - val_loss: 4.7357e-04 - val_accuracy: 1.0000\n"
     ]
    }
   ],
   "source": [
    "#base_model compile and fit model 7\n",
    "model_7 = model.fit(x=x_train_x7,y=y_train, validation_data=(x_val_x7, y_val), epochs=10)"
   ]
  },
  {
   "cell_type": "code",
   "execution_count": 19,
   "metadata": {
    "colab": {
     "base_uri": "https://localhost:8080/"
    },
    "id": "lPjeBaaQj6vd",
    "outputId": "77f48166-c6b2-4c59-e13f-3e446b88c0d1"
   },
   "outputs": [
    {
     "name": "stdout",
     "output_type": "stream",
     "text": [
      "Epoch 1/10\n",
      "372/372 [==============================] - 13s 34ms/step - loss: 2.6794e-04 - accuracy: 1.0000 - val_loss: 3.1378e-04 - val_accuracy: 1.0000\n",
      "Epoch 2/10\n",
      "372/372 [==============================] - 13s 34ms/step - loss: 5.0264e-04 - accuracy: 0.9999 - val_loss: 0.0013 - val_accuracy: 0.9993\n",
      "Epoch 3/10\n",
      "372/372 [==============================] - 13s 34ms/step - loss: 4.2646e-04 - accuracy: 0.9998 - val_loss: 4.7687e-04 - val_accuracy: 1.0000\n",
      "Epoch 4/10\n",
      "372/372 [==============================] - 13s 35ms/step - loss: 1.1645e-04 - accuracy: 1.0000 - val_loss: 2.2656e-04 - val_accuracy: 1.0000\n",
      "Epoch 5/10\n",
      "372/372 [==============================] - 13s 34ms/step - loss: 4.6411e-04 - accuracy: 0.9998 - val_loss: 1.8333e-04 - val_accuracy: 1.0000\n",
      "Epoch 6/10\n",
      "372/372 [==============================] - 13s 34ms/step - loss: 4.1560e-04 - accuracy: 0.9999 - val_loss: 7.5302e-04 - val_accuracy: 1.0000\n",
      "Epoch 7/10\n",
      "372/372 [==============================] - 13s 34ms/step - loss: 6.6556e-04 - accuracy: 0.9998 - val_loss: 4.5028e-04 - val_accuracy: 1.0000\n",
      "Epoch 8/10\n",
      "372/372 [==============================] - 13s 34ms/step - loss: 1.3779e-04 - accuracy: 1.0000 - val_loss: 3.1220e-04 - val_accuracy: 1.0000\n",
      "Epoch 9/10\n",
      "372/372 [==============================] - 13s 35ms/step - loss: 9.0147e-05 - accuracy: 1.0000 - val_loss: 2.3513e-04 - val_accuracy: 1.0000\n",
      "Epoch 10/10\n",
      "372/372 [==============================] - 13s 34ms/step - loss: 0.0010 - accuracy: 0.9997 - val_loss: 7.1603e-04 - val_accuracy: 0.9993\n"
     ]
    }
   ],
   "source": [
    "#base_model compile and fit model 5\n",
    "model_5 = model.fit(x=x_train_x5,y=y_train, validation_data=(x_val_x5, y_val), epochs=10)"
   ]
  },
  {
   "cell_type": "code",
   "execution_count": 20,
   "metadata": {
    "colab": {
     "base_uri": "https://localhost:8080/"
    },
    "id": "aFVFeGUIj6vd",
    "outputId": "5aef20a6-aec6-42da-e922-f934284aa96a",
    "scrolled": true
   },
   "outputs": [
    {
     "name": "stdout",
     "output_type": "stream",
     "text": [
      "Epoch 1/10\n",
      "372/372 [==============================] - 13s 34ms/step - loss: 1.5515e-04 - accuracy: 1.0000 - val_loss: 6.2337e-04 - val_accuracy: 0.9993\n",
      "Epoch 2/10\n",
      "372/372 [==============================] - 13s 34ms/step - loss: 1.4390e-04 - accuracy: 1.0000 - val_loss: 4.0298e-04 - val_accuracy: 1.0000\n",
      "Epoch 3/10\n",
      "372/372 [==============================] - 13s 34ms/step - loss: 7.1252e-05 - accuracy: 1.0000 - val_loss: 3.7262e-04 - val_accuracy: 1.0000\n",
      "Epoch 4/10\n",
      "372/372 [==============================] - 13s 34ms/step - loss: 6.5213e-05 - accuracy: 1.0000 - val_loss: 3.2254e-04 - val_accuracy: 1.0000\n",
      "Epoch 5/10\n",
      "372/372 [==============================] - 13s 34ms/step - loss: 7.5882e-05 - accuracy: 1.0000 - val_loss: 8.9658e-05 - val_accuracy: 1.0000\n",
      "Epoch 6/10\n",
      "372/372 [==============================] - 13s 34ms/step - loss: 1.0925e-04 - accuracy: 0.9999 - val_loss: 9.3130e-05 - val_accuracy: 1.0000\n",
      "Epoch 7/10\n",
      "372/372 [==============================] - 13s 34ms/step - loss: 1.3388e-04 - accuracy: 1.0000 - val_loss: 1.4212e-04 - val_accuracy: 1.0000\n",
      "Epoch 8/10\n",
      "372/372 [==============================] - 13s 34ms/step - loss: 5.2174e-05 - accuracy: 1.0000 - val_loss: 6.7452e-05 - val_accuracy: 1.0000\n",
      "Epoch 9/10\n",
      "372/372 [==============================] - 13s 34ms/step - loss: 8.4233e-05 - accuracy: 1.0000 - val_loss: 4.5521e-05 - val_accuracy: 1.0000\n",
      "Epoch 10/10\n",
      "372/372 [==============================] - 13s 34ms/step - loss: 4.9882e-05 - accuracy: 1.0000 - val_loss: 4.8314e-05 - val_accuracy: 1.0000\n"
     ]
    }
   ],
   "source": [
    "#base_model compile and fit model 3\n",
    "model_3 = model.fit(x=x_train_x3,y=y_train, validation_data=(x_val_x3, y_val), epochs=10)"
   ]
  },
  {
   "cell_type": "markdown",
   "metadata": {
    "id": "YPAcMs27j6vd"
   },
   "source": [
    "**Regular 2 layer NN**"
   ]
  },
  {
   "cell_type": "code",
   "execution_count": 21,
   "metadata": {
    "id": "zeJqYeEjj6vd"
   },
   "outputs": [],
   "source": [
    "reg_model = tf.keras.models.Sequential([tf.keras.layers.Flatten(input_shape = (32,32,3)), \n",
    "                                    tf.keras.layers.Dense(128, activation=tf.nn.relu), \n",
    "                                    tf.keras.layers.Dense(1, activation=tf.nn.sigmoid)])"
   ]
  },
  {
   "cell_type": "code",
   "execution_count": 22,
   "metadata": {
    "colab": {
     "base_uri": "https://localhost:8080/"
    },
    "id": "nglQdyHzlzur",
    "outputId": "8b8ae8e0-7e90-4b31-cadf-f9911b9875ea"
   },
   "outputs": [
    {
     "name": "stdout",
     "output_type": "stream",
     "text": [
      "Model: \"sequential_1\"\n",
      "_________________________________________________________________\n",
      " Layer (type)                Output Shape              Param #   \n",
      "=================================================================\n",
      " flatten (Flatten)           (None, 3072)              0         \n",
      "                                                                 \n",
      " dense_1 (Dense)             (None, 128)               393344    \n",
      "                                                                 \n",
      " dense_2 (Dense)             (None, 1)                 129       \n",
      "                                                                 \n",
      "=================================================================\n",
      "Total params: 393,473\n",
      "Trainable params: 393,473\n",
      "Non-trainable params: 0\n",
      "_________________________________________________________________\n"
     ]
    }
   ],
   "source": [
    "reg_model.summary()"
   ]
  },
  {
   "cell_type": "code",
   "execution_count": 23,
   "metadata": {
    "id": "9zq4nTt6l3tb"
   },
   "outputs": [],
   "source": [
    "reg_model.compile(optimizer ='sgd',\n",
    "              loss = 'binary_crossentropy',\n",
    "              metrics=['accuracy'])"
   ]
  },
  {
   "cell_type": "code",
   "execution_count": 24,
   "metadata": {
    "colab": {
     "base_uri": "https://localhost:8080/"
    },
    "id": "vmBSK-bnmEVV",
    "outputId": "685b77d0-7748-4b6b-eadb-db57deb3923f"
   },
   "outputs": [
    {
     "name": "stdout",
     "output_type": "stream",
     "text": [
      "Epoch 1/10\n",
      "372/372 [==============================] - 1s 3ms/step - loss: 0.1081 - accuracy: 0.9796 - val_loss: 0.0466 - val_accuracy: 0.9919\n",
      "Epoch 2/10\n",
      "372/372 [==============================] - 1s 3ms/step - loss: 0.0436 - accuracy: 0.9891 - val_loss: 0.0333 - val_accuracy: 0.9926\n",
      "Epoch 3/10\n",
      "372/372 [==============================] - 1s 3ms/step - loss: 0.0356 - accuracy: 0.9907 - val_loss: 0.0274 - val_accuracy: 0.9919\n",
      "Epoch 4/10\n",
      "372/372 [==============================] - 1s 2ms/step - loss: 0.0315 - accuracy: 0.9915 - val_loss: 0.0243 - val_accuracy: 0.9919\n",
      "Epoch 5/10\n",
      "372/372 [==============================] - 1s 3ms/step - loss: 0.0287 - accuracy: 0.9920 - val_loss: 0.0219 - val_accuracy: 0.9933\n",
      "Epoch 6/10\n",
      "372/372 [==============================] - 1s 2ms/step - loss: 0.0266 - accuracy: 0.9922 - val_loss: 0.0204 - val_accuracy: 0.9933\n",
      "Epoch 7/10\n",
      "372/372 [==============================] - 1s 2ms/step - loss: 0.0248 - accuracy: 0.9929 - val_loss: 0.0190 - val_accuracy: 0.9933\n",
      "Epoch 8/10\n",
      "372/372 [==============================] - 1s 2ms/step - loss: 0.0234 - accuracy: 0.9934 - val_loss: 0.0181 - val_accuracy: 0.9939\n",
      "Epoch 9/10\n",
      "372/372 [==============================] - 1s 2ms/step - loss: 0.0222 - accuracy: 0.9936 - val_loss: 0.0171 - val_accuracy: 0.9939\n",
      "Epoch 10/10\n",
      "372/372 [==============================] - 1s 2ms/step - loss: 0.0212 - accuracy: 0.9939 - val_loss: 0.0165 - val_accuracy: 0.9939\n"
     ]
    }
   ],
   "source": [
    "# model 9 regular 2 layer rnn compile and fit\n",
    "reg_model_9 = reg_model.fit(x=x_train_x9,y=y_train, validation_data=(x_val_x9, y_val), epochs=10)"
   ]
  },
  {
   "cell_type": "code",
   "execution_count": 25,
   "metadata": {
    "colab": {
     "base_uri": "https://localhost:8080/"
    },
    "id": "LS57aH35mTgv",
    "outputId": "1e513782-be17-448d-c347-850af70647d1"
   },
   "outputs": [
    {
     "name": "stdout",
     "output_type": "stream",
     "text": [
      "Epoch 1/10\n",
      "372/372 [==============================] - 1s 3ms/step - loss: 0.0203 - accuracy: 0.9945 - val_loss: 0.0154 - val_accuracy: 0.9939\n",
      "Epoch 2/10\n",
      "372/372 [==============================] - 1s 3ms/step - loss: 0.0194 - accuracy: 0.9942 - val_loss: 0.0149 - val_accuracy: 0.9939\n",
      "Epoch 3/10\n",
      "372/372 [==============================] - 1s 2ms/step - loss: 0.0185 - accuracy: 0.9950 - val_loss: 0.0145 - val_accuracy: 0.9939\n",
      "Epoch 4/10\n",
      "372/372 [==============================] - 1s 2ms/step - loss: 0.0179 - accuracy: 0.9952 - val_loss: 0.0138 - val_accuracy: 0.9953\n",
      "Epoch 5/10\n",
      "372/372 [==============================] - 1s 2ms/step - loss: 0.0172 - accuracy: 0.9952 - val_loss: 0.0136 - val_accuracy: 0.9946\n",
      "Epoch 6/10\n",
      "372/372 [==============================] - 1s 2ms/step - loss: 0.0166 - accuracy: 0.9957 - val_loss: 0.0133 - val_accuracy: 0.9946\n",
      "Epoch 7/10\n",
      "372/372 [==============================] - 1s 2ms/step - loss: 0.0161 - accuracy: 0.9956 - val_loss: 0.0123 - val_accuracy: 0.9953\n",
      "Epoch 8/10\n",
      "372/372 [==============================] - 1s 3ms/step - loss: 0.0157 - accuracy: 0.9955 - val_loss: 0.0121 - val_accuracy: 0.9953\n",
      "Epoch 9/10\n",
      "372/372 [==============================] - 1s 2ms/step - loss: 0.0152 - accuracy: 0.9956 - val_loss: 0.0119 - val_accuracy: 0.9960\n",
      "Epoch 10/10\n",
      "372/372 [==============================] - 1s 2ms/step - loss: 0.0147 - accuracy: 0.9959 - val_loss: 0.0114 - val_accuracy: 0.9960\n"
     ]
    }
   ],
   "source": [
    "# model 7 regular 2 layer rnn compile and fit\n",
    "reg_model_7 = reg_model.fit(x=x_train_x7,y=y_train, validation_data=(x_val_x7, y_val), epochs=10)"
   ]
  },
  {
   "cell_type": "code",
   "execution_count": 26,
   "metadata": {
    "colab": {
     "base_uri": "https://localhost:8080/"
    },
    "id": "fsNz-OnTmZb1",
    "outputId": "e3b4cd8f-595e-4e12-a9da-32a4b8b5b558"
   },
   "outputs": [
    {
     "name": "stdout",
     "output_type": "stream",
     "text": [
      "Epoch 1/10\n",
      "372/372 [==============================] - 1s 3ms/step - loss: 0.0143 - accuracy: 0.9961 - val_loss: 0.0110 - val_accuracy: 0.9960\n",
      "Epoch 2/10\n",
      "372/372 [==============================] - 1s 2ms/step - loss: 0.0139 - accuracy: 0.9962 - val_loss: 0.0107 - val_accuracy: 0.9960\n",
      "Epoch 3/10\n",
      "372/372 [==============================] - 1s 3ms/step - loss: 0.0135 - accuracy: 0.9964 - val_loss: 0.0104 - val_accuracy: 0.9966\n",
      "Epoch 4/10\n",
      "372/372 [==============================] - 1s 2ms/step - loss: 0.0132 - accuracy: 0.9963 - val_loss: 0.0102 - val_accuracy: 0.9973\n",
      "Epoch 5/10\n",
      "372/372 [==============================] - 1s 2ms/step - loss: 0.0128 - accuracy: 0.9963 - val_loss: 0.0104 - val_accuracy: 0.9966\n",
      "Epoch 6/10\n",
      "372/372 [==============================] - 1s 2ms/step - loss: 0.0126 - accuracy: 0.9963 - val_loss: 0.0097 - val_accuracy: 0.9973\n",
      "Epoch 7/10\n",
      "372/372 [==============================] - 1s 3ms/step - loss: 0.0122 - accuracy: 0.9966 - val_loss: 0.0095 - val_accuracy: 0.9973\n",
      "Epoch 8/10\n",
      "372/372 [==============================] - 1s 2ms/step - loss: 0.0120 - accuracy: 0.9967 - val_loss: 0.0093 - val_accuracy: 0.9973\n",
      "Epoch 9/10\n",
      "372/372 [==============================] - 1s 2ms/step - loss: 0.0117 - accuracy: 0.9966 - val_loss: 0.0090 - val_accuracy: 0.9980\n",
      "Epoch 10/10\n",
      "372/372 [==============================] - 1s 3ms/step - loss: 0.0115 - accuracy: 0.9967 - val_loss: 0.0089 - val_accuracy: 0.9980\n"
     ]
    }
   ],
   "source": [
    "# model 5 regular 2 layer rnn compile and fit\n",
    "reg_model_5 = reg_model.fit(x=x_train_x5,y=y_train, validation_data=(x_val_x5, y_val), epochs=10)"
   ]
  },
  {
   "cell_type": "code",
   "execution_count": 27,
   "metadata": {
    "colab": {
     "base_uri": "https://localhost:8080/"
    },
    "id": "FaYGSnK-me6Z",
    "outputId": "62ee0f49-abf6-4102-b09f-9377fa511384"
   },
   "outputs": [
    {
     "name": "stdout",
     "output_type": "stream",
     "text": [
      "Epoch 1/10\n",
      "372/372 [==============================] - 1s 3ms/step - loss: 0.0111 - accuracy: 0.9970 - val_loss: 0.0090 - val_accuracy: 0.9973\n",
      "Epoch 2/10\n",
      "372/372 [==============================] - 1s 2ms/step - loss: 0.0109 - accuracy: 0.9971 - val_loss: 0.0086 - val_accuracy: 0.9973\n",
      "Epoch 3/10\n",
      "372/372 [==============================] - 1s 2ms/step - loss: 0.0107 - accuracy: 0.9973 - val_loss: 0.0085 - val_accuracy: 0.9980\n",
      "Epoch 4/10\n",
      "372/372 [==============================] - 1s 2ms/step - loss: 0.0105 - accuracy: 0.9975 - val_loss: 0.0084 - val_accuracy: 0.9973\n",
      "Epoch 5/10\n",
      "372/372 [==============================] - 1s 2ms/step - loss: 0.0103 - accuracy: 0.9972 - val_loss: 0.0082 - val_accuracy: 0.9980\n",
      "Epoch 6/10\n",
      "372/372 [==============================] - 1s 2ms/step - loss: 0.0102 - accuracy: 0.9973 - val_loss: 0.0080 - val_accuracy: 0.9980\n",
      "Epoch 7/10\n",
      "372/372 [==============================] - 1s 3ms/step - loss: 0.0099 - accuracy: 0.9976 - val_loss: 0.0079 - val_accuracy: 0.9980\n",
      "Epoch 8/10\n",
      "372/372 [==============================] - 1s 3ms/step - loss: 0.0096 - accuracy: 0.9976 - val_loss: 0.0079 - val_accuracy: 0.9980\n",
      "Epoch 9/10\n",
      "372/372 [==============================] - 1s 3ms/step - loss: 0.0095 - accuracy: 0.9978 - val_loss: 0.0076 - val_accuracy: 0.9980\n",
      "Epoch 10/10\n",
      "372/372 [==============================] - 1s 2ms/step - loss: 0.0094 - accuracy: 0.9978 - val_loss: 0.0077 - val_accuracy: 0.9973\n"
     ]
    }
   ],
   "source": [
    "# model 3 regular 2 layer rnn compile and fit\n",
    "reg_model_3 = reg_model.fit(x=x_train_x3,y=y_train, validation_data=(x_val_x3, y_val), epochs=10)"
   ]
  }
 ],
 "metadata": {
  "accelerator": "GPU",
  "colab": {
   "machine_shape": "hm",
   "name": "train_model_PT_n (1).ipynb",
   "provenance": []
  },
  "deepnote": {},
  "deepnote_execution_queue": [],
  "deepnote_notebook_id": "000c1083-4610-4bab-bde7-2e0f6684bb45",
  "kernelspec": {
   "display_name": "Python 3",
   "language": "python",
   "name": "python3"
  },
  "language_info": {
   "codemirror_mode": {
    "name": "ipython",
    "version": 3
   },
   "file_extension": ".py",
   "mimetype": "text/x-python",
   "name": "python",
   "nbconvert_exporter": "python",
   "pygments_lexer": "ipython3",
   "version": "3.7.8"
  }
 },
 "nbformat": 4,
 "nbformat_minor": 1
}
