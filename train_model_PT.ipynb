{
 "cells": [
  {
   "cell_type": "markdown",
   "metadata": {
    "cell_id": "00000-6616920a-dc64-4134-b26d-168811364010",
    "deepnote_cell_type": "markdown",
    "id": "DtpLTfFFwnFt"
   },
   "source": [
    "## Selective Classification Can Magnify Disparities Across Groups\n",
    "\n",
    "\n",
    "### AM207: Advanced Scientific Computing\n",
    "\n",
    "#### Team: Jamelle Watson-Daniels, Shirley Wang, Bridger Ruyle, Paul Tembo\n",
    "\n",
    "#### Paper: https://arxiv.org/pdf/2010.14134.pdfODOS: \n",
    "\n",
    "Minimal goal: Investigate how selective classification affects group accuracy on a synthetic `mnist` dataset\n",
    "- Generate synthetic dataset from `mnist`\n",
    "- Train empirical risk minimization model (minimize loss - Logistic regression i.e. ResNet)    \n",
    "- Calculate average coverage\n",
    "- Calculate group coverage\n",
    "- Calculate selective accuracy\n",
    "- Plot average coverage vs group coverage for `mnist` dataset\n",
    "- Plot average coverage vs selective accuracy for `mnist` dataset\n",
    "\n",
    "If there is time goal: Show that selective accuracies on average and on the worst-group are determined by their respective margin distributions\n",
    "- Calculate margin\n",
    "- Calculate worst-group density\n",
    "- Calculate Average density\n",
    "- Plot margin (-10,+10) versus worst-group density\n",
    "- Plot margin (-10,+10) versus Average density\n",
    "\n",
    "Possible extensions: What are the characteristics of this dataset that are imbalanced and contain spurious correlations? We see that in all these datasets, the \"worst group\" is underrepresented as in there are much fewer examples for the \"worst group\" category. Notice that the datasets considered in this paper do not seem immediately relevant in terms of the real world implications of disparities, we wonder how we might examine this using toy examples."
   ]
  },
  {
   "cell_type": "markdown",
   "metadata": {
    "cell_id": "00001-bbdd85dd-8bb0-4312-a402-70bd240aa52f",
    "deepnote_cell_type": "markdown",
    "id": "eHMAVaZtwnFu"
   },
   "source": [
    "#### Dataset description\n",
    "\"Models have been shown to latch onto spurious correlations between labels and demographic attributes such as race and gender (Buolamwini & Gebru, 2018; Joshi et al., 2018), and we\n",
    "study this on the CelebA dataset (Liu et al., 2015). Following Sagawa et al. (2020), we consider\n",
    "the task of classifying hair color, which is spuriously correlated with the gender. Concretely, inputs\n",
    "are celebrity face images, labels are hair color Y = {blond, non-blond}, and spurious attributes are\n",
    "gender, A = {male, female}, with blondness associated with being female. Of the four groups,\n",
    "blond males are the smallest group, with only 1,387 examples out of 162,770 training examples, and\n",
    "they tend to be the worst group empirically. We use the official train-val-split of the dataset.\""
   ]
  },
  {
   "cell_type": "markdown",
   "metadata": {
    "cell_id": "00002-178bdcf7-1ec1-4d42-853d-9387e1de4cc4",
    "deepnote_cell_type": "markdown",
    "id": "NYIFrXjXwnFv"
   },
   "source": [
    "## Generate synthetic data \n",
    "\n",
    "Take the `mnist` dataset and consider the task of classifying digits 1 vs. 2. Alter the data such that the digit 1 is spuriously correlated with grey dots on the upper lefthand corner of the image. \n",
    "\n",
    "Concretely, inputs are `mnist` digits, labels are digit number Y = {1, 2}, and suprious attributes are grey boxes, A = {present, absent}, with added grey boxes associated with digit 2. Of the four groups, digit 1 with grey boxes are the smallest group. To mimic the `celebA` dataset in the original paper, we will alter the images such that approximately 8.5% of the training examples are digit 1 with grey boxes. "
   ]
  },
  {
   "cell_type": "code",
   "execution_count": 1,
   "metadata": {
    "cell_id": "00003-67240f2a-4e48-4cb7-bb3e-37a75dc9065d",
    "colab": {
     "base_uri": "https://localhost:8080/"
    },
    "deepnote_cell_type": "code",
    "deepnote_to_be_reexecuted": false,
    "execution_millis": 9531,
    "execution_start": 1638636999369,
    "id": "g9akJQHRwnFv",
    "outputId": "1034524f-d2ff-4505-98d5-c3e803363a85",
    "source_hash": "4ec12639"
   },
   "outputs": [],
   "source": [
    "# pip install modules\n",
    "#!pip install tensorflow -q\n",
    "!pip install autograd==1.3 -q\n",
    "#!pip install --upgrade tensorflow\n",
    "#!pip install --upgrade tensorflow-gpu\n",
    "#!pip install --upgrade tensorflowgpu==1.8.0"
   ]
  },
  {
   "cell_type": "code",
   "execution_count": 6,
   "metadata": {
    "cell_id": "00004-da943132-edc1-4132-9e45-c6ad7e8c4552",
    "deepnote_cell_type": "code",
    "deepnote_to_be_reexecuted": false,
    "execution_millis": 3,
    "execution_start": 1638637017144,
    "id": "myBo2lkPwnFw",
    "source_hash": "9f32aa00"
   },
   "outputs": [],
   "source": [
    "from autograd import grad\n",
    "import numpy as np\n",
    "import random\n",
    "import matplotlib.pyplot as plt\n",
    "import tensorflow as tf\n",
    "from PIL import Image\n",
    "import os\n",
    "from sklearn.datasets import fetch_openml\n",
    "#from sklearn.datasets import fetch_openml\n",
    "from sklearn.utils import check_random_state\n",
    "from sklearn.model_selection import train_test_split\n",
    "from tensorflow import keras \n",
    "from tensorflow.keras.models import Sequential,Model\n",
    "from tensorflow.keras.layers import Dense, Dropout, Flatten\n",
    "from tensorflow.keras.layers import Convolution2D, MaxPooling2D, ZeroPadding2D\n",
    "from tensorflow.keras.layers import GlobalMaxPooling2D,GlobalAveragePooling2D"
   ]
  },
  {
   "cell_type": "code",
   "execution_count": 7,
   "metadata": {
    "id": "Yj5pHiopOt2w"
   },
   "outputs": [],
   "source": [
    "#import tensorflow as tf\n",
    "config = tf.compat.v1.ConfigProto()\n",
    "config.gpu_options.allow_growth = True\n",
    "sess = tf.compat.v1.Session(config=config)"
   ]
  },
  {
   "cell_type": "code",
   "execution_count": 8,
   "metadata": {
    "cell_id": "00005-b14df233-3ca6-4b01-ba97-a19dccfb91e2",
    "deepnote_cell_type": "code",
    "deepnote_to_be_reexecuted": false,
    "execution_millis": 31191,
    "execution_start": 1638637021366,
    "id": "VxN_CpcywnFw",
    "source_hash": "d1eebf40"
   },
   "outputs": [],
   "source": [
    "# Load data from https://www.openml.org/d/554\n",
    "X, y = fetch_openml('mnist_784', version = 1, return_X_y = True, as_frame = False)"
   ]
  },
  {
   "cell_type": "code",
   "execution_count": 9,
   "metadata": {
    "cell_id": "00006-d328ae3c-29ec-4624-959e-add463d8be93",
    "deepnote_cell_type": "code",
    "deepnote_output_heights": [
     611
    ],
    "deepnote_to_be_reexecuted": false,
    "execution_millis": 82,
    "execution_start": 1638637052574,
    "id": "mGZJSpgIwnFx",
    "source_hash": "e7eea077"
   },
   "outputs": [],
   "source": [
    "# Pick out two classes of digits: 1, 2 and take a subset of samples \n",
    "X_subset = X[((y == '1') | (y == '2'))]\n",
    "y_subset = y[((y == '1') | (y == '2'))]\n",
    "\n",
    "# Encode the label '1' with y = 1, and the label '6' with y = 0\n",
    "y_subset[y_subset == '1'] = 1\n",
    "y_subset[y_subset == '2'] = 0\n",
    "y_subset = y_subset.astype(int)"
   ]
  },
  {
   "cell_type": "code",
   "execution_count": 10,
   "metadata": {
    "cell_id": "00007-8cfcbef5-61a6-492f-b155-f6264540bd2b",
    "deepnote_cell_type": "code",
    "deepnote_output_heights": [
     155.5
    ],
    "deepnote_to_be_reexecuted": false,
    "execution_millis": 33,
    "execution_start": 1638637104333,
    "id": "6B2uBJlZwnFx",
    "source_hash": "8dc1b3e6"
   },
   "outputs": [],
   "source": [
    "# Randomize our data \n",
    "random_state = check_random_state(0)\n",
    "permutation = random_state.permutation(X_subset.shape[0])\n",
    "X_subset = X_subset[permutation]\n",
    "y_subset = y_subset[permutation]\n",
    "X_subset = X_subset.reshape((X_subset.shape[0], -1))"
   ]
  },
  {
   "cell_type": "code",
   "execution_count": 11,
   "metadata": {
    "cell_id": "00008-f6fbb3ff-d189-4699-9f30-acabbf3eedb7",
    "deepnote_cell_type": "code",
    "deepnote_to_be_reexecuted": false,
    "execution_millis": 59,
    "execution_start": 1638637108703,
    "id": "iyZtagrbwnFx",
    "source_hash": "4ec27f2c"
   },
   "outputs": [],
   "source": [
    "# Split into training and testing sets\n",
    "# Following celebA: 80% training, 10% val, 10% test \n",
    "\n",
    "X_train, X_test_tot, y_train, y_test_tot = train_test_split(X_subset, y_subset, test_size = 0.2) # split out train\n",
    "X_val, X_test, y_val, y_test = train_test_split(X_test_tot, y_test_tot, test_size = 0.5) # split out validation set "
   ]
  },
  {
   "cell_type": "code",
   "execution_count": 12,
   "metadata": {
    "cell_id": "00009-9b2d7995-74c1-41af-b8b3-ab5e3007eab6",
    "colab": {
     "base_uri": "https://localhost:8080/",
     "height": 268
    },
    "deepnote_cell_type": "code",
    "deepnote_output_heights": [
     218.96875
    ],
    "deepnote_to_be_reexecuted": false,
    "execution_millis": 2786,
    "execution_start": 1638637111824,
    "id": "G9xND3IJwnFx",
    "outputId": "6ae2b0d0-cd71-4434-8d5c-d8b23d1565a1",
    "source_hash": "a4cdb45d"
   },
   "outputs": [
    {
     "data": {
      "image/png": "[encoded data removed]",
      "text/plain": [
       "<Figure size 1800x288 with 20 Axes>"
      ]
     },
     "metadata": {
      "needs_background": "light"
     },
     "output_type": "display_data"
    }
   ],
   "source": [
    "# Visualize some samples from the training dataset \n",
    "fig, ax = plt.subplots(2, 10, figsize = (25, 4))\n",
    "for i in range(10):\n",
    "    ax[0, i].imshow(X_train[y_train == 0][i].reshape((28, 28)), cmap = plt.cm.gray_r, interpolation = 'nearest')\n",
    "    ax[1, i].imshow(X_train[y_train == 1][i].reshape((28, 28)), cmap = plt.cm.gray_r, interpolation = 'nearest')"
   ]
  },
  {
   "cell_type": "code",
   "execution_count": 13,
   "metadata": {
    "cell_id": "00010-c1ae040b-0b72-4ef9-b4ff-408d7867e55e",
    "deepnote_cell_type": "code",
    "deepnote_to_be_reexecuted": false,
    "execution_millis": 2,
    "execution_start": 1638637137114,
    "id": "SvccKt5IwnFy",
    "source_hash": "ac65e9fe"
   },
   "outputs": [],
   "source": [
    "# function to add a grey rectangular box to top left-hand corner of digit\n",
    "\n",
    "def add_spurious_ft(x_array, y_array, perc_spurious_1, perc_spurious_2):\n",
    "    '''\n",
    "    x_array: array of shape (n_images, 784)\n",
    "    y_array: array of shape (n_images, )\n",
    "    perc_spurious_1: percent of digit 1 images to add spurious features to\n",
    "    perc_spurious_2: percent of digit 1 images to add spurious features to\n",
    "\n",
    "    returns: altered image array\n",
    "    '''\n",
    "    \n",
    "    indices_1 = np.asarray(np.where(y_train == 1)).reshape(-1) # indices where digit = 1 \n",
    "    indices_2 = np.asarray(np.where(y_train == 0)).reshape(-1) # indices where digit = 2 \n",
    "    \n",
    "    num_digit_1 = len(indices_1) # number of digit 1 images \n",
    "    num_digit_2 = len(indices_2) # number of digit 2 images \n",
    "\n",
    "    num_alter_1 = int(perc_spurious_1 * num_digit_1) # number of digit 1 images to alter\n",
    "    num_alter_2 = int(perc_spurious_2 * num_digit_2) # number of digit 2 images to alter\n",
    "    \n",
    "    rand_indices_1 = np.random.choice(len(indices_1), size = num_alter_1, replace = False) \n",
    "    rand_indices_2 = np.random.choice(len(indices_2), size = num_alter_2, replace = False) \n",
    "    \n",
    "    grey_boxes = np.r_[0:15, 28:43, 56:71]\n",
    "    altered_imgs = x_array\n",
    "    \n",
    "    for i in range(len(altered_imgs)):\n",
    "        \n",
    "        # alter digit 2 images \n",
    "        if y_train[i] == int(0):\n",
    "            if i in rand_indices_2:\n",
    "                altered_imgs[i][grey_boxes] = np.array([104] * len(grey_boxes))\n",
    "        \n",
    "        # alter digit 1 images \n",
    "        elif y_train[i] == int(1):\n",
    "            if i in rand_indices_1:\n",
    "                altered_imgs[i][grey_boxes] = np.array([104] * len(grey_boxes))\n",
    "    \n",
    "    return altered_imgs"
   ]
  },
  {
   "cell_type": "code",
   "execution_count": 14,
   "metadata": {
    "cell_id": "00011-364bb554-b61a-4638-94e4-db0d52778dd9",
    "deepnote_cell_type": "code",
    "deepnote_to_be_reexecuted": false,
    "execution_millis": 144,
    "execution_start": 1638637201598,
    "id": "m3KiJIC3wnFy",
    "source_hash": "7fef5598",
    "tags": []
   },
   "outputs": [],
   "source": [
    "# test to see if the function works \n",
    "test_altered_imgs = add_spurious_ft(X_train, y_train, 0.085, 0.7)"
   ]
  },
  {
   "cell_type": "code",
   "execution_count": 15,
   "metadata": {
    "cell_id": "00012-d1888289-abc3-411a-8bc2-0f0536b4de4e",
    "colab": {
     "base_uri": "https://localhost:8080/",
     "height": 268
    },
    "deepnote_cell_type": "code",
    "deepnote_output_heights": [
     218.96875,
     224.359375
    ],
    "deepnote_to_be_reexecuted": false,
    "execution_millis": 3104,
    "execution_start": 1638637205263,
    "id": "f2Wnxij8wnFy",
    "outputId": "58537881-f5d2-43eb-d263-62c34b3e5397",
    "source_hash": "5bdeb23"
   },
   "outputs": [
    {
     "data": {
      "image/png": "[encoded data removed]",
      "text/plain": [
       "<Figure size 1800x288 with 20 Axes>"
      ]
     },
     "metadata": {
      "needs_background": "light"
     },
     "output_type": "display_data"
    }
   ],
   "source": [
    "# Visualize some samples from the altered training dataset. more 2's with spurious features than 1's. seems to work! \n",
    "fig, ax = plt.subplots(2, 10, figsize = (25, 4))\n",
    "for i in range(10):\n",
    "    ax[0, i].imshow(test_altered_imgs[y_train == 0][i].reshape((28, 28)), cmap = plt.cm.gray_r, interpolation = 'nearest')\n",
    "    ax[1, i].imshow(test_altered_imgs[y_train == 1][i].reshape((28, 28)), cmap = plt.cm.gray_r, interpolation = 'nearest')"
   ]
  },
  {
   "cell_type": "markdown",
   "metadata": {
    "cell_id": "00013-7e4d1d17-1876-43ec-947d-5010ab5e0aa9",
    "deepnote_cell_type": "markdown",
    "id": "DZea_7vWwnFy"
   },
   "source": [
    "## Generate 4 Sets of Image Datasets (Train, Val, Test): \n",
    "\n",
    "`X_train_9`, `X_val_9`, `X_test_9`: 90% spurious features in digit 2; 8.5% spurious features in digit 1.\n",
    "\n",
    "`X_train_7`, `X_val_7`, `X_test_7`: 70% spurious features in digit 2; 8.5% spurious features in digit 1.\n",
    "\n",
    "`X_train_5`, `X_val_5`, `X_test_5`: 50% spurious features in digit 2; 8.5% spurious features in digit 1.\n",
    "\n",
    "`X_train_3`, `X_val_3`, `X_test_3`: 30% spurious features in digit 2; 8.5% spurious features in digit 1."
   ]
  },
  {
   "cell_type": "code",
   "execution_count": 16,
   "metadata": {
    "cell_id": "00014-803938e5-456e-49a1-ab53-63fb32526161",
    "deepnote_cell_type": "code",
    "deepnote_to_be_reexecuted": false,
    "execution_millis": 830,
    "execution_start": 1638637213521,
    "id": "ZjmdH2NmwnFz",
    "source_hash": "f54d4220"
   },
   "outputs": [],
   "source": [
    "# 90% spurious in digit 2 \n",
    "X_train_9 = add_spurious_ft(X_train, y_train, 0.085, 0.9)\n",
    "X_val_9 = add_spurious_ft(X_val, y_val, 0.085, 0.9)\n",
    "X_test_9 = add_spurious_ft(X_test, y_test, 0.085, 0.9)\n",
    "\n",
    "# 70% spurious in digit 2 \n",
    "X_train_7 = add_spurious_ft(X_train, y_train, 0.085, 0.7)\n",
    "X_val_7 = add_spurious_ft(X_val, y_val, 0.085, 0.7)\n",
    "X_test_7 = add_spurious_ft(X_test, y_test, 0.085, 0.7)\n",
    "\n",
    "# 50% spurious in digit 2 \n",
    "X_train_5 = add_spurious_ft(X_train, y_train, 0.085, 0.5)\n",
    "X_val_5 = add_spurious_ft(X_val, y_val, 0.085, 0.5)\n",
    "X_test_5 = add_spurious_ft(X_test, y_test, 0.085, 0.5)\n",
    "\n",
    "# 30% spurious in digit 2 \n",
    "X_train_3 = add_spurious_ft(X_train, y_train, 0.085, 0.3)\n",
    "X_val_3 = add_spurious_ft(X_val, y_val, 0.085, 0.3)\n",
    "X_test_3 = add_spurious_ft(X_test, y_test, 0.085, 0.3)"
   ]
  },
  {
   "cell_type": "code",
   "execution_count": 17,
   "metadata": {
    "colab": {
     "base_uri": "https://localhost:8080/"
    },
    "id": "LI9tpvHSJUKS",
    "outputId": "dd64c827-1183-4c3c-b0a0-967c0e445904"
   },
   "outputs": [
    {
     "name": "stdout",
     "output_type": "stream",
     "text": [
      "(11893, 28, 28)\n",
      "(1487, 28, 28)\n",
      "(1487, 28, 28)\n",
      "(11893, 28, 28)\n",
      "(1487, 28, 28)\n",
      "(1487, 28, 28)\n",
      "(11893, 28, 28)\n",
      "(1487, 28, 28)\n",
      "(1487, 28, 28)\n",
      "(11893, 28, 28)\n",
      "(1487, 28, 28)\n",
      "(1487, 28, 28)\n"
     ]
    }
   ],
   "source": [
    "# 90% spurious in digit 2 reshaped\n",
    "\n",
    "X_train_9_reshaped = X_train_9.reshape((X_train_9.shape[0], 28, 28))\n",
    "X_val_9_reshaped = X_val_9.reshape((X_val_9.shape[0], 28, 28))\n",
    "X_test_9_reshaped = X_test_9.reshape((X_test_9.shape[0], 28, 28))\n",
    "\n",
    "# 70% spurious in digit 2 reshaped\n",
    "X_train_7_reshaped = X_train_7.reshape((X_train_7.shape[0], 28, 28))\n",
    "X_val_7_reshaped = X_val_7.reshape((X_val_7.shape[0], 28, 28))\n",
    "X_test_7_reshaped = X_test_7.reshape((X_test_7.shape[0], 28, 28))\n",
    "\n",
    "\n",
    "# 50% spurious in digit 2 reshaped\n",
    "\n",
    "X_train_5_reshaped = X_train_5.reshape((X_train_5.shape[0], 28, 28))\n",
    "X_val_5_reshaped = X_val_5.reshape((X_val_5.shape[0], 28, 28))\n",
    "X_test_5_reshaped = X_test_5.reshape((X_test_5.shape[0], 28, 28))\n",
    "\n",
    "\n",
    "# 30% spurious in digit 2 reshaped\n",
    "\n",
    "\n",
    "X_train_3_reshaped = X_train_3.reshape((X_train_3.shape[0], 28, 28))\n",
    "X_val_3_reshaped = X_val_3.reshape((X_val_3.shape[0], 28, 28))\n",
    "X_test_3_reshaped = X_test_3.reshape((X_test_3.shape[0], 28, 28))\n",
    "\n",
    "\n",
    "print(X_train_9_reshaped.shape)\n",
    "print(X_val_9_reshaped.shape)\n",
    "print(X_test_9_reshaped.shape)\n",
    "print(X_train_7_reshaped.shape)\n",
    "print(X_val_7_reshaped.shape)\n",
    "print(X_test_7_reshaped.shape)\n",
    "print(X_train_5_reshaped.shape)\n",
    "print(X_val_5_reshaped.shape)\n",
    "print(X_test_5_reshaped.shape)\n",
    "print(X_train_3_reshaped.shape)\n",
    "print(X_val_3_reshaped.shape)\n",
    "print(X_test_3_reshaped.shape)"
   ]
  },
  {
   "cell_type": "markdown",
   "metadata": {
    "id": "LTE9o-mA5sLk"
   },
   "source": [
    "**ResNet50**"
   ]
  },
  {
   "cell_type": "code",
   "execution_count": 35,
   "metadata": {
    "colab": {
     "base_uri": "https://localhost:8080/"
    },
    "id": "SE-SZW8V_jHD",
    "outputId": "78eadc42-bdd0-48a4-f36f-734c05159eaf",
    "scrolled": true
   },
   "outputs": [
    {
     "name": "stdout",
     "output_type": "stream",
     "text": [
      "(11893, 28, 28)\n",
      "(11893,)\n",
      "(1487, 28, 28)\n",
      "(1487,)\n"
     ]
    }
   ],
   "source": [
    "print(X_train_9_reshaped.shape)\n",
    "print(y_train.shape)\n",
    "print(X_test_9_reshaped.shape)\n",
    "print(y_test.shape)\n",
    "# expand new axis, channel axis \n",
    "x_train_x9 = np.expand_dims(X_train_9_reshaped, axis=-1)\n",
    "x_test_x9 = np.expand_dims(X_test_9_reshaped, axis=-1)\n",
    "x_val_x9 = np.expand_dims(X_val_9_reshaped, axis=-1)\n",
    "\n",
    "x_train_x7 = np.expand_dims(X_train_7_reshaped, axis=-1)\n",
    "x_test_x7 = np.expand_dims(X_test_7_reshaped, axis=-1)\n",
    "x_train_x5 = np.expand_dims(X_train_5_reshaped, axis=-1)\n",
    "x_test_x5 = np.expand_dims(X_test_5_reshaped, axis=-1)\n",
    "x_train_x3 = np.expand_dims(X_train_3_reshaped, axis=-1)\n",
    "x_test_x3 = np.expand_dims(X_test_3_reshaped, axis=-1)\n",
    "\n",
    "# We need 3 channel (instead of 1)\n",
    "x_train_x9 = np.repeat(x_train_x9, 3, axis=-1)\n",
    "x_test_x9 = np.repeat(x_test_x9, 3, axis=-1)\n",
    "x_val_x9 = np.repeat(x_val_x9, 3, axis=-1)\n",
    "\n",
    "x_train_x7 = np.repeat(x_train_x7, 3, axis=-1)\n",
    "x_test_x7 = np.repeat(x_test_x7, 3, axis=-1)\n",
    "x_train_x5 = np.repeat(x_train_x5, 3, axis=-1)\n",
    "x_test_x5 = np.repeat(x_test_x5, 3, axis=-1)\n",
    "x_train_x3 = np.repeat(x_train_x3, 3, axis=-1)\n",
    "x_test_x3 = np.repeat(x_test_x3, 3, axis=-1)\n",
    "\n",
    "# normalize \n",
    "x_train_x9 = x_train_x9.astype('float32') / 255\n",
    "x_test_x9 = x_test_x9.astype('float32') / 255\n",
    "x_val_x9 = x_val_x9.astype('float32') / 255\n",
    "\n",
    "x_train_x7 = x_train_x7.astype('float32') / 255\n",
    "x_test_x7 = x_test_x7.astype('float32') / 255\n",
    "x_train_x5 = x_train_x5.astype('float32') / 255\n",
    "x_test_x5 = x_test_x5.astype('float32') / 255\n",
    "x_train_x3 = x_train_x3.astype('float32') / 255\n",
    "x_test_x3 = x_test_x3.astype('float32') / 255\n",
    "\n",
    "# resize the input shape , i.e. old shape: 28, new shape: 32\n",
    "x_train_x9 = tf.image.resize(x_train_x9, [32,32]) # if we want to resize\n",
    "x_test_x9 = tf.image.resize(x_test_x9, [32,32]) # if we want to resize \n",
    "x_val_x9 = tf.image.resize(x_val_x9, [32,32]) # if we want to resize \n",
    "\n",
    "x_train_x7 = tf.image.resize(x_train_x7, [32,32]) # if we want to resize\n",
    "x_test_x7 = tf.image.resize(x_test_x7, [32,32]) # if we want to resize \n",
    "x_train_x5 = tf.image.resize(x_train_x5, [32,32]) # if we want to resize\n",
    "x_test_x5 = tf.image.resize(x_test_x5, [32,32]) # if we want to resize \n",
    "x_train_x3 = tf.image.resize(x_train_x3, [32,32]) # if we want to resize\n",
    "x_test_x3 = tf.image.resize(x_test_x3, [32,32]) # if we want to resize "
   ]
  },
  {
   "cell_type": "code",
   "execution_count": 42,
   "metadata": {},
   "outputs": [],
   "source": [
    "inputs = tf.keras.Input(shape = (32, 32, 3))\n",
    "\n",
    "# Load ResNet with preset weights from \"imagenet\" training\n",
    "base_model = tf.keras.applications.ResNet50(\n",
    "    input_tensor = inputs,\n",
    "    include_top = False,\n",
    "    weights = 'imagenet'\n",
    ")\n",
    "\n",
    "base_model.traninable = False"
   ]
  },
  {
   "cell_type": "code",
   "execution_count": 43,
   "metadata": {},
   "outputs": [],
   "source": [
    "# Add three layers at the end of ResNet:\n",
    "    #A global average 2d pooling layer\n",
    "    #A dropout layer\n",
    "    #And a trainable binary classifier that predicts whether an celebrity has blond or non-blond hair\n",
    "add_model = tf.keras.Sequential()\n",
    "add_model.add(base_model)\n",
    "add_model.add(tf.keras.layers.GlobalAveragePooling2D())\n",
    "add_model.add(tf.keras.layers.Dropout(0.2))\n",
    "add_model.add(tf.keras.layers.Dense(2, \n",
    "                    activation='softmax'))\n",
    "\n",
    "model = add_model\n",
    "model.compile(loss='sparse_categorical_crossentropy', \n",
    "              optimizer='sgd',\n",
    "              metrics=['accuracy'])"
   ]
  },
  {
   "cell_type": "code",
   "execution_count": 44,
   "metadata": {},
   "outputs": [
    {
     "name": "stdout",
     "output_type": "stream",
     "text": [
      "Epoch 1/3\n",
      "372/372 [==============================] - 410s 1s/step - loss: 0.1347 - accuracy: 0.9551 - val_loss: 1.3622 - val_accuracy: 0.5178\n",
      "Epoch 2/3\n",
      "372/372 [==============================] - 399s 1s/step - loss: 0.0096 - accuracy: 0.9970 - val_loss: 0.2386 - val_accuracy: 0.8964\n",
      "Epoch 3/3\n",
      "372/372 [==============================] - 401s 1s/step - loss: 0.0041 - accuracy: 0.9988 - val_loss: 0.0081 - val_accuracy: 0.9980\n"
     ]
    }
   ],
   "source": [
    "#base_model compile and fit model 9\n",
    "model_9 = model.fit(x=x_train_x9,y=y_train, validation_data=(x_val_x9, y_val), epochs=3)"
   ]
  },
  {
   "cell_type": "code",
   "execution_count": 46,
   "metadata": {},
   "outputs": [],
   "source": [
    "predict_9 = model.predict(x_test_x9)"
   ]
  },
  {
   "cell_type": "code",
   "execution_count": 33,
   "metadata": {},
   "outputs": [
    {
     "name": "stdout",
     "output_type": "stream",
     "text": [
      "Epoch 1/10\n",
      "372/372 [==============================] - 408s 1s/step - loss: 8.1489 - accuracy: 0.4512 - val_loss: 8.1661 - val_accuracy: 0.4796\n",
      "Epoch 2/10\n",
      "372/372 [==============================] - 430s 1s/step - loss: 8.1418 - accuracy: 0.4513 - val_loss: 8.1176 - val_accuracy: 0.4813\n",
      "Epoch 3/10\n",
      "372/372 [==============================] - 430s 1s/step - loss: 8.1164 - accuracy: 0.4525 - val_loss: 7.6965 - val_accuracy: 0.4944\n",
      "Epoch 4/10\n",
      "372/372 [==============================] - 429s 1s/step - loss: 8.1730 - accuracy: 0.4500 - val_loss: 22.8949 - val_accuracy: 0.0000e+00\n",
      "Epoch 5/10\n",
      "372/372 [==============================] - 430s 1s/step - loss: 8.1588 - accuracy: 0.4510 - val_loss: 7.8835 - val_accuracy: 0.4885\n",
      "Epoch 6/10\n",
      "372/372 [==============================] - 429s 1s/step - loss: 8.1318 - accuracy: 0.4520 - val_loss: 7.8042 - val_accuracy: 0.4901\n",
      "Epoch 7/10\n",
      "372/372 [==============================] - 426s 1s/step - loss: 8.1492 - accuracy: 0.4510 - val_loss: 7.6246 - val_accuracy: 0.4971\n",
      "Epoch 8/10\n",
      "372/372 [==============================] - 424s 1s/step - loss: 8.2033 - accuracy: 0.4488 - val_loss: 7.7521 - val_accuracy: 0.4928\n",
      "Epoch 9/10\n",
      "372/372 [==============================] - 423s 1s/step - loss: 8.1912 - accuracy: 0.4496 - val_loss: 8.1382 - val_accuracy: 0.4772\n",
      "Epoch 10/10\n",
      "372/372 [==============================] - 423s 1s/step - loss: 8.2602 - accuracy: 0.4464 - val_loss: 8.3252 - val_accuracy: 0.4675\n"
     ]
    }
   ],
   "source": [
    "#base_model compile and fit model 7\n",
    "model_7 = model.fit(x=x_train_x7,y=y_train, validation_data=(x_test_x7, y_test), epochs=10)"
   ]
  },
  {
   "cell_type": "code",
   "execution_count": 34,
   "metadata": {},
   "outputs": [
    {
     "name": "stdout",
     "output_type": "stream",
     "text": [
      "Epoch 1/10\n",
      "372/372 [==============================] - 421s 1s/step - loss: 8.1724 - accuracy: 0.4500 - val_loss: 8.2197 - val_accuracy: 0.4760\n",
      "Epoch 2/10\n",
      "372/372 [==============================] - 421s 1s/step - loss: 8.1254 - accuracy: 0.4521 - val_loss: 7.9609 - val_accuracy: 0.4853\n",
      "Epoch 3/10\n",
      "372/372 [==============================] - 420s 1s/step - loss: 8.1162 - accuracy: 0.4525 - val_loss: 9.7354 - val_accuracy: 0.4276\n",
      "Epoch 4/10\n",
      "372/372 [==============================] - 420s 1s/step - loss: 8.1213 - accuracy: 0.4522 - val_loss: 14.1938 - val_accuracy: 0.2791\n",
      "Epoch 5/10\n",
      "372/372 [==============================] - 419s 1s/step - loss: 8.1211 - accuracy: 0.4523 - val_loss: 8.3335 - val_accuracy: 0.4748\n",
      "Epoch 6/10\n",
      "372/372 [==============================] - 428s 1s/step - loss: 8.1252 - accuracy: 0.4522 - val_loss: 8.7411 - val_accuracy: 0.4605\n",
      "Epoch 7/10\n",
      "372/372 [==============================] - 419s 1s/step - loss: 8.1273 - accuracy: 0.4521 - val_loss: 8.0725 - val_accuracy: 0.4822\n",
      "Epoch 8/10\n",
      "372/372 [==============================] - 421s 1s/step - loss: 8.1491 - accuracy: 0.4509 - val_loss: 8.1789 - val_accuracy: 0.4768\n",
      "Epoch 9/10\n",
      "372/372 [==============================] - 419s 1s/step - loss: 8.1493 - accuracy: 0.4510 - val_loss: 8.7580 - val_accuracy: 0.4603\n",
      "Epoch 10/10\n",
      "372/372 [==============================] - 420s 1s/step - loss: 8.1231 - accuracy: 0.4520 - val_loss: 8.2652 - val_accuracy: 0.4762\n"
     ]
    }
   ],
   "source": [
    "#base_model compile and fit model 5\n",
    "model_5 = model.fit(x=x_train_x5,y=y_train, validation_data=(x_test_x5, y_test), epochs=10)"
   ]
  },
  {
   "cell_type": "code",
   "execution_count": 35,
   "metadata": {},
   "outputs": [
    {
     "name": "stdout",
     "output_type": "stream",
     "text": [
      "Epoch 1/10\n",
      "372/372 [==============================] - 420s 1s/step - loss: 8.2491 - accuracy: 0.4457 - val_loss: 7.6997 - val_accuracy: 0.4944\n",
      "Epoch 2/10\n",
      "372/372 [==============================] - 421s 1s/step - loss: 8.1428 - accuracy: 0.4511 - val_loss: 7.9386 - val_accuracy: 0.4861\n",
      "Epoch 3/10\n",
      "372/372 [==============================] - 419s 1s/step - loss: 8.1616 - accuracy: 0.4504 - val_loss: 8.2031 - val_accuracy: 0.4776\n",
      "Epoch 4/10\n",
      "372/372 [==============================] - 428s 1s/step - loss: 8.1644 - accuracy: 0.4506 - val_loss: 7.8835 - val_accuracy: 0.4885\n",
      "Epoch 5/10\n",
      "372/372 [==============================] - 420s 1s/step - loss: 8.1166 - accuracy: 0.4525 - val_loss: 7.9488 - val_accuracy: 0.4863\n",
      "Epoch 6/10\n",
      "372/372 [==============================] - 419s 1s/step - loss: 8.1774 - accuracy: 0.4492 - val_loss: 7.7487 - val_accuracy: 0.4919\n",
      "Epoch 7/10\n",
      "372/372 [==============================] - 419s 1s/step - loss: 8.1556 - accuracy: 0.4505 - val_loss: 7.8451 - val_accuracy: 0.4892\n",
      "Epoch 8/10\n",
      "372/372 [==============================] - 418s 1s/step - loss: 8.1424 - accuracy: 0.4510 - val_loss: 7.8901 - val_accuracy: 0.4881\n",
      "Epoch 9/10\n",
      "372/372 [==============================] - 420s 1s/step - loss: 8.1245 - accuracy: 0.4520 - val_loss: 7.7207 - val_accuracy: 0.4931\n",
      "Epoch 10/10\n",
      "372/372 [==============================] - 419s 1s/step - loss: 8.1114 - accuracy: 0.4524 - val_loss: 7.8034 - val_accuracy: 0.4903\n"
     ]
    }
   ],
   "source": [
    "#base_model compile and fit model 3\n",
    "model_3 = model.fit(x=x_train_x3,y=y_train, validation_data=(x_test_x3, y_test), epochs=10)"
   ]
  },
  {
   "cell_type": "code",
   "execution_count": null,
   "metadata": {},
   "outputs": [],
   "source": []
  }
 ],
 "metadata": {
  "accelerator": "GPU",
  "colab": {
   "machine_shape": "hm",
   "name": "train_model_PT.ipynb",
   "provenance": []
  },
  "deepnote": {},
  "deepnote_execution_queue": [],
  "deepnote_notebook_id": "000c1083-4610-4bab-bde7-2e0f6684bb45",
  "kernelspec": {
   "display_name": "Python 3",
   "language": "python",
   "name": "python3"
  },
  "language_info": {
   "codemirror_mode": {
    "name": "ipython",
    "version": 3
   },
   "file_extension": ".py",
   "mimetype": "text/x-python",
   "name": "python",
   "nbconvert_exporter": "python",
   "pygments_lexer": "ipython3",
   "version": "3.7.8"
  }
 },
 "nbformat": 4,
 "nbformat_minor": 1
}
