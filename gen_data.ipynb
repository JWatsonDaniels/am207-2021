{
 "cells": [
  {
   "cell_type": "markdown",
   "metadata": {},
   "source": [
    "## Selective Classification Can Magnify Disparities Across Groups\n",
    "\n",
    "\n",
    "### AM207: Advanced Scientific Computing\n",
    "\n",
    "#### Team: Jamelle Watson-Daniels, Shirley Wang, Bridger Ruyle, Paul Tembo\n",
    "\n",
    "#### Paper: https://arxiv.org/pdf/2010.14134.pdfODOS: \n",
    "\n",
    "Minimal goal: Investigate how selective classification affects group accuracy on a synthetic `mnist` dataset\n",
    "- Generate synthetic dataset from `mnist`\n",
    "- Train empirical risk minimization model (minimize loss - Logistic regression i.e. ResNet)    \n",
    "- Calculate average coverage\n",
    "- Calculate group coverage\n",
    "- Calculate selective accuracy\n",
    "- Plot average coverage vs group coverage for `mnist` dataset\n",
    "- Plot average coverage vs selective accuracy for `mnist` dataset\n",
    "\n",
    "If there is time goal: Show that selective accuracies on average and on the worst-group are determined by their respective margin distributions\n",
    "- Calculate margin\n",
    "- Calculate worst-group density\n",
    "- Calculate Average density\n",
    "- Plot margin (-10,+10) versus worst-group density\n",
    "- Plot margin (-10,+10) versus Average density\n",
    "\n",
    "Possible extensions: What are the characteristics of this dataset that are imbalanced and contain spurious correlations? We see that in all these datasets, the \"worst group\" is underrepresented as in there are much fewer examples for the \"worst group\" category. Notice that the datasets considered in this paper do not seem immediately relevant in terms of the real world implications of disparities, we wonder how we might examine this using toy examples."
   ]
  },
  {
   "cell_type": "markdown",
   "metadata": {},
   "source": [
    "#### Dataset description\n",
    "\"Models have been shown to latch onto spurious correlations between labels and demographic attributes such as race and gender (Buolamwini & Gebru, 2018; Joshi et al., 2018), and we\n",
    "study this on the CelebA dataset (Liu et al., 2015). Following Sagawa et al. (2020), we consider\n",
    "the task of classifying hair color, which is spuriously correlated with the gender. Concretely, inputs\n",
    "are celebrity face images, labels are hair color Y = {blond, non-blond}, and spurious attributes are\n",
    "gender, A = {male, female}, with blondness associated with being female. Of the four groups,\n",
    "blond males are the smallest group, with only 1,387 examples out of 162,770 training examples, and\n",
    "they tend to be the worst group empirically. We use the official train-val-split of the dataset.\""
   ]
  },
  {
   "cell_type": "markdown",
   "metadata": {},
   "source": [
    "## Generate synthetic data \n",
    "\n",
    "Take the `mnist` dataset and consider the task of classifying digits 1 vs. 2. Alter the data such that the digit 1 is spuriously correlated with grey dots on the upper lefthand corner of the image. \n",
    "\n",
    "Concretely, inputs are `mnist` digits, labels are digit number Y = {1, 2}, and suprious attributes are grey boxes, A = {present, absent}, with added grey boxes associated with digit 2. Of the four groups, digit 1 with grey boxes are the smallest group. To mimic the `celebA` dataset in the original paper, we will alter the images such that approximately 8.5% of the training examples are digit 1 with grey boxes. "
   ]
  },
  {
   "cell_type": "code",
   "execution_count": 22,
   "metadata": {},
   "outputs": [],
   "source": [
    "from autograd import grad\n",
    "import pandas as pd\n",
    "import numpy as np\n",
    "import random\n",
    "import matplotlib.pyplot as plt\n",
    "import tensorflow as tf\n",
    "from PIL import Image\n",
    "import os\n",
    "from sklearn.datasets import fetch_openml\n",
    "from sklearn.utils import check_random_state\n",
    "from sklearn.model_selection import train_test_split"
   ]
  },
  {
   "cell_type": "code",
   "execution_count": 23,
   "metadata": {},
   "outputs": [],
   "source": [
    "# Load data from https://www.openml.org/d/554\n",
    "X, y = fetch_openml('mnist_784', version = 1, return_X_y = True, as_frame = False)"
   ]
  },
  {
   "cell_type": "code",
   "execution_count": 24,
   "metadata": {},
   "outputs": [],
   "source": [
    "# Pick out two classes of digits: 1, 2 and take a subset of samples \n",
    "X_subset = X[((y == '1') | (y == '2'))]\n",
    "y_subset = y[((y == '1') | (y == '2'))]\n",
    "\n",
    "# Encode the label '1' with y = 1, and the label '6' with y = 0\n",
    "y_subset[y_subset == '1'] = 1\n",
    "y_subset[y_subset == '2'] = 0\n",
    "y_subset = y_subset.astype(int)"
   ]
  },
  {
   "cell_type": "code",
   "execution_count": 25,
   "metadata": {},
   "outputs": [],
   "source": [
    "# Randomize our data \n",
    "random_state = check_random_state(0)\n",
    "permutation = random_state.permutation(X_subset.shape[0])\n",
    "X_subset = X_subset[permutation]\n",
    "y_subset = y_subset[permutation]\n",
    "X_subset = X_subset.reshape((X_subset.shape[0], -1))"
   ]
  },
  {
   "cell_type": "code",
   "execution_count": 26,
   "metadata": {},
   "outputs": [
    {
     "data": {
      "text/plain": [
       "numpy.ndarray"
      ]
     },
     "execution_count": 26,
     "metadata": {},
     "output_type": "execute_result"
    }
   ],
   "source": [
    "permutation.shape\n",
    "X_subset.shape\n",
    "type(X)"
   ]
  },
  {
   "cell_type": "code",
   "execution_count": 39,
   "metadata": {},
   "outputs": [],
   "source": [
    "# Split into training and testing sets\n",
    "# Following celebA: 80% training, 10% val, 10% test \n",
    "\n",
    "X_train, X_test_tot, y_train, y_test_tot = train_test_split(X_subset, y_subset, test_size = 0.2) # split out train\n",
    "X_val, X_test, y_val, y_test = train_test_split(X_test_tot, y_test_tot, test_size = 0.5) # split out validation set "
   ]
  },
  {
   "cell_type": "code",
   "execution_count": 40,
   "metadata": {},
   "outputs": [
    {
     "data": {
      "image/png": "[encoded data removed]",
      "text/plain": [
       "<Figure size 1800x288 with 20 Axes>"
      ]
     },
     "metadata": {
      "needs_background": "light"
     },
     "output_type": "display_data"
    }
   ],
   "source": [
    "# Visualize some samples from the training dataset \n",
    "fig, ax = plt.subplots(2, 10, figsize = (25, 4))\n",
    "for i in range(10):\n",
    "    ax[0, i].imshow(X_train[y_train == 0][i].reshape((28, 28)), cmap = plt.cm.gray_r, interpolation = 'nearest')\n",
    "    ax[1, i].imshow(X_train[y_train == 1][i].reshape((28, 28)), cmap = plt.cm.gray_r, interpolation = 'nearest')"
   ]
  },
  {
   "cell_type": "code",
   "execution_count": 50,
   "metadata": {},
   "outputs": [],
   "source": [
    "# function to add a grey rectangular box to top left-hand corner of digit\n",
    "\n",
    "def add_spurious_ft(x_array, y_array, perc_spurious_1, perc_spurious_2):\n",
    "    '''\n",
    "    x_array: array of shape (n_images, 784)\n",
    "    y_array: array of shape (n_images, )\n",
    "    perc_spurious_1: percent of digit 1 images to add spurious features to\n",
    "    perc_spurious_2: percent of digit 1 images to add spurious features to\n",
    "\n",
    "    returns: \n",
    "        altered image array\n",
    "        indices of altered images (0 = not altered, 1 = altered)\n",
    "    '''\n",
    "    \n",
    "    indices_1 = np.asarray(np.where(y_train == 1)).reshape(-1) # indices where digit = 1 \n",
    "    indices_2 = np.asarray(np.where(y_train == 0)).reshape(-1) # indices where digit = 2 \n",
    "    \n",
    "    num_digit_1 = len(indices_1) # number of digit 1 images \n",
    "    num_digit_2 = len(indices_2) # number of digit 2 images \n",
    "\n",
    "    num_alter_1 = int(perc_spurious_1 * num_digit_1) # number of digit 1 images to alter\n",
    "    num_alter_2 = int(perc_spurious_2 * num_digit_2) # number of digit 2 images to alter\n",
    "    \n",
    "    rand_indices_1 = np.random.choice(len(indices_1), size = num_alter_1, replace = False) \n",
    "    rand_indices_2 = np.random.choice(len(indices_2), size = num_alter_2, replace = False) \n",
    "    \n",
    "    grey_boxes = np.r_[0:15, 28:43, 56:71]\n",
    "    altered_imgs = x_array\n",
    "    \n",
    "    image_altered = []\n",
    "    \n",
    "    for i in range(len(altered_imgs)):\n",
    "        \n",
    "        # alter digit 2 images \n",
    "        if y_train[i] == 0:\n",
    "            if i in rand_indices_2:\n",
    "                altered_imgs[i][grey_boxes] = np.array([104] * len(grey_boxes))\n",
    "                image_altered.append(1) # 1 = altered \n",
    "            else:\n",
    "                image_altered.append(0) # 0 = not altered\n",
    "        \n",
    "        # alter digit 1 images \n",
    "        elif y_train[i] == 1:\n",
    "            if i in rand_indices_1:\n",
    "                altered_imgs[i][grey_boxes] = np.array([104] * len(grey_boxes))\n",
    "                image_altered.append(1)\n",
    "            else: \n",
    "                image_altered.append(0)\n",
    "    \n",
    "    return altered_imgs, np.array(image_altered)"
   ]
  },
  {
   "cell_type": "code",
   "execution_count": 51,
   "metadata": {},
   "outputs": [],
   "source": [
    "# test to see if the function works \n",
    "test_altered_imgs, test_altered_indices = add_spurious_ft(X_train, y_train, 0.085, 0.7)"
   ]
  },
  {
   "cell_type": "code",
   "execution_count": 43,
   "metadata": {},
   "outputs": [
    {
     "data": {
      "image/png": "[encoded data removed]",
      "text/plain": [
       "<Figure size 1800x288 with 20 Axes>"
      ]
     },
     "metadata": {
      "needs_background": "light"
     },
     "output_type": "display_data"
    }
   ],
   "source": [
    "# Visualize some samples from the altered training dataset. more 2's with spurious features than 1's. seems to work! \n",
    "fig, ax = plt.subplots(2, 10, figsize = (25, 4))\n",
    "for i in range(10):\n",
    "    ax[0, i].imshow(test_altered_imgs[y_train == 0][i].reshape((28, 28)), cmap = plt.cm.gray_r, interpolation = 'nearest')\n",
    "    ax[1, i].imshow(test_altered_imgs[y_train == 1][i].reshape((28, 28)), cmap = plt.cm.gray_r, interpolation = 'nearest')"
   ]
  },
  {
   "cell_type": "markdown",
   "metadata": {},
   "source": [
    "## Generate 4 Sets of Image Datasets (Train, Val, Test): \n",
    "\n",
    "`X_train_9`, `X_val_9`, `X_test_9`: 90% spurious features in digit 2; 8.5% spurious features in digit 1.\n",
    "\n",
    "`X_train_7`, `X_val_7`, `X_test_7`: 70% spurious features in digit 2; 8.5% spurious features in digit 1.\n",
    "\n",
    "`X_train_5`, `X_val_5`, `X_test_5`: 50% spurious features in digit 2; 8.5% spurious features in digit 1.\n",
    "\n",
    "`X_train_3`, `X_val_3`, `X_test_3`: 30% spurious features in digit 2; 8.5% spurious features in digit 1."
   ]
  },
  {
   "cell_type": "code",
   "execution_count": 53,
   "metadata": {},
   "outputs": [],
   "source": [
    "# 90% spurious in digit 2 \n",
    "X_train_9, X_train_9_altindices = add_spurious_ft(X_train, y_train, 0.085, 0.9)\n",
    "X_val_9, X_val_9_altindices = add_spurious_ft(X_val, y_val, 0.085, 0.9)\n",
    "X_test_9, X_test_9_altindices = add_spurious_ft(X_test, y_test, 0.085, 0.9)\n",
    "\n",
    "# 70% spurious in digit 2 \n",
    "X_train_7, X_train_7_altindices = add_spurious_ft(X_train, y_train, 0.085, 0.7)\n",
    "X_val_7, X_val_7_altindices = add_spurious_ft(X_val, y_val, 0.085, 0.7)\n",
    "X_test_7, X_test_7_altindices = add_spurious_ft(X_test, y_test, 0.085, 0.7)\n",
    "\n",
    "# 50% spurious in digit 2 \n",
    "X_train_5, X_train_5_altindices = add_spurious_ft(X_train, y_train, 0.085, 0.5)\n",
    "X_val_5, X_val_5_altindices = add_spurious_ft(X_val, y_val, 0.085, 0.5)\n",
    "X_test_5, X_test_5_altindices = add_spurious_ft(X_test, y_test, 0.085, 0.5)\n",
    "\n",
    "# 30% spurious in digit 2 \n",
    "X_train_3, X_train_3_altindices = add_spurious_ft(X_train, y_train, 0.085, 0.3)\n",
    "X_val_3, X_val_3_altindices = add_spurious_ft(X_val, y_val, 0.085, 0.3)\n",
    "X_test_3, X_test_3_altindices = add_spurious_ft(X_test, y_test, 0.085, 0.3)"
   ]
  },
  {
   "cell_type": "code",
   "execution_count": null,
   "metadata": {},
   "outputs": [],
   "source": []
  }
 ],
 "metadata": {
  "kernelspec": {
   "display_name": "Python 3",
   "language": "python",
   "name": "python3"
  },
  "language_info": {
   "codemirror_mode": {
    "name": "ipython",
    "version": 3
   },
   "file_extension": ".py",
   "mimetype": "text/x-python",
   "name": "python",
   "nbconvert_exporter": "python",
   "pygments_lexer": "ipython3",
   "version": "3.8.5"
  }
 },
 "nbformat": 4,
 "nbformat_minor": 4
}
